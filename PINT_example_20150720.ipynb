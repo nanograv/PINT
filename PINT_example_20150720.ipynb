{
 "metadata": {
  "name": "",
  "signature": "sha256:0c99d66569b1c8714ef0c4674789cba964bb664cebdf6d217ee9299f59292a0a"
 },
 "nbformat": 3,
 "nbformat_minor": 0,
 "worksheets": [
  {
   "cells": [
    {
     "cell_type": "heading",
     "level": 1,
     "metadata": {},
     "source": [
      "PINT Example notebook"
     ]
    },
    {
     "cell_type": "markdown",
     "metadata": {},
     "source": [
      "The PINT \"homepage\":  https://github.com/nanograv/PINT\n",
      "\n",
      "PINT will normally be run via a script, or for \"work\", via an interactive session like ipython or a frontend"
     ]
    },
    {
     "cell_type": "heading",
     "level": 2,
     "metadata": {},
     "source": [
      "Times of Arrival (TOAs)"
     ]
    },
    {
     "cell_type": "markdown",
     "metadata": {},
     "source": [
      "Read in some TOAs.\n",
      "\n",
      "Note:  The first time that things get read in, lots of processing (can) happen.  Can take a few seconds.  But a \"pickle\" file is saved, so the next import (if nothing changed), things are much faster (typically ~1 second)"
     ]
    },
    {
     "cell_type": "code",
     "collapsed": false,
     "input": [
      "import pint.toa as toa\n",
      "#t = toa.get_TOAs(\"examples/NGC6440E.tim\")\n",
      "t = toa.get_TOAs(\"examples/J0613-sim.tim\")"
     ],
     "language": "python",
     "metadata": {},
     "outputs": [
      {
       "output_type": "stream",
       "stream": "stderr",
       "text": [
        "INFO:astropy:Reading toas from 'examples/J0613-sim.tim.pickle.gz'...\n",
        "\n"
       ]
      },
      {
       "output_type": "stream",
       "stream": "stdout",
       "text": [
        "INFO: Reading toas from 'examples/J0613-sim.tim.pickle.gz'...\n",
        " [pint.toa]\n"
       ]
      }
     ],
     "prompt_number": 1
    },
    {
     "cell_type": "code",
     "collapsed": false,
     "input": [
      "t.print_summary()"
     ],
     "language": "python",
     "metadata": {},
     "outputs": [
      {
       "output_type": "stream",
       "stream": "stdout",
       "text": [
        "Number of TOAs:  1462\n",
        "Number of commands:  2\n",
        "Number of observatories:  1 ['GBT']\n",
        "GBT TOAs (1462):\n",
        "  Min error:     0.146 us\n",
        "  Max error:     38.8 us\n",
        "  Mean error:    3.35 us\n",
        "  Median error:  1.54 us\n",
        "  Error stddev:  4.53 us\n",
        "\n"
       ]
      }
     ],
     "prompt_number": 2
    },
    {
     "cell_type": "code",
     "collapsed": false,
     "input": [
      "t.get_mjds()[0].value"
     ],
     "language": "python",
     "metadata": {},
     "outputs": [
      {
       "metadata": {},
       "output_type": "pyout",
       "prompt_number": 3,
       "text": [
        "53216.126681259244"
       ]
      }
     ],
     "prompt_number": 3
    },
    {
     "cell_type": "markdown",
     "metadata": {},
     "source": [
      "Vast majority of the information is in an [Astropy Table](http://astropy.readthedocs.org/en/latest/table/):"
     ]
    },
    {
     "cell_type": "code",
     "collapsed": false,
     "input": [
      "t.table.colnames"
     ],
     "language": "python",
     "metadata": {},
     "outputs": [
      {
       "metadata": {},
       "output_type": "pyout",
       "prompt_number": 4,
       "text": [
        "['index',\n",
        " 'mjd',\n",
        " 'error',\n",
        " 'freq',\n",
        " 'obs',\n",
        " 'flags',\n",
        " 'tdb',\n",
        " 'tdbld',\n",
        " 'ssb_obs_pos',\n",
        " 'ssb_obs_vel',\n",
        " 'obs_sun_pos']"
       ]
      }
     ],
     "prompt_number": 4
    },
    {
     "cell_type": "markdown",
     "metadata": {},
     "source": [
      "Lots of cool things that tables can do..."
     ]
    },
    {
     "cell_type": "code",
     "collapsed": false,
     "input": [
      "tt = t.table\n",
      "#tt.show_in_browser()"
     ],
     "language": "python",
     "metadata": {},
     "outputs": [],
     "prompt_number": 5
    },
    {
     "cell_type": "markdown",
     "metadata": {},
     "source": [
      "Can do fancy sorting, selecting, re-arranging very easily."
     ]
    },
    {
     "cell_type": "code",
     "collapsed": false,
     "input": [
      "select = tt['error'] < 20\n",
      "print(select)"
     ],
     "language": "python",
     "metadata": {},
     "outputs": [
      {
       "output_type": "stream",
       "stream": "stdout",
       "text": [
        "[ True  True  True ...,  True  True  True]\n"
       ]
      }
     ],
     "prompt_number": 6
    },
    {
     "cell_type": "code",
     "collapsed": false,
     "input": [
      "tt['tdb'][select]"
     ],
     "language": "python",
     "metadata": {},
     "outputs": [
      {
       "html": [
        "&lt;Column name=&apos;tdb&apos; dtype=&apos;object&apos; length=1444&gt;\n",
        "<table>\n",
        "<tr><td>2004-07-30T03:03:29.444092191</td></tr>\n",
        "<tr><td>2004-07-30T03:03:29.444535596</td></tr>\n",
        "<tr><td>2004-07-30T03:03:29.444981211</td></tr>\n",
        "<tr><td>2004-07-30T03:03:29.445419645</td></tr>\n",
        "<tr><td>2004-07-30T03:03:29.445141819</td></tr>\n",
        "<tr><td>2004-07-30T03:03:29.445591520</td></tr>\n",
        "<tr><td>2004-07-30T03:03:29.443032161</td></tr>\n",
        "<tr><td>2004-07-30T03:12:58.444429066</td></tr>\n",
        "<tr><td>2004-07-30T03:12:58.444863147</td></tr>\n",
        "<tr><td>2004-07-30T03:12:58.445302539</td></tr>\n",
        "<tr><td>2004-07-30T03:12:58.445752245</td></tr>\n",
        "<tr><td>2004-07-30T03:12:58.446194591</td></tr>\n",
        "<tr><td>...</td></tr>\n",
        "<tr><td>2011-02-24T09:28:41.564439823</td></tr>\n",
        "<tr><td>2011-02-24T09:28:41.561849931</td></tr>\n",
        "<tr><td>2011-02-24T09:28:41.562322541</td></tr>\n",
        "<tr><td>2011-02-24T09:28:41.562803668</td></tr>\n",
        "<tr><td>2011-03-19T09:03:18.563405397</td></tr>\n",
        "<tr><td>2011-03-19T09:03:18.563861417</td></tr>\n",
        "<tr><td>2011-03-19T09:03:18.564328416</td></tr>\n",
        "<tr><td>2011-03-19T09:03:18.564787397</td></tr>\n",
        "<tr><td>2011-03-19T09:03:18.565247998</td></tr>\n",
        "<tr><td>2011-03-19T09:03:18.565718622</td></tr>\n",
        "<tr><td>2011-03-19T09:03:18.566197487</td></tr>\n",
        "<tr><td>2011-03-19T09:03:18.563609908</td></tr>\n",
        "</table>"
       ],
       "metadata": {},
       "output_type": "pyout",
       "prompt_number": 7,
       "text": [
        "<Column name='tdb' dtype='object' length=1444>\n",
        "2004-07-30T03:03:29.444092191\n",
        "2004-07-30T03:03:29.444535596\n",
        "2004-07-30T03:03:29.444981211\n",
        "2004-07-30T03:03:29.445419645\n",
        "2004-07-30T03:03:29.445141819\n",
        "2004-07-30T03:03:29.445591520\n",
        "2004-07-30T03:03:29.443032161\n",
        "2004-07-30T03:12:58.444429066\n",
        "2004-07-30T03:12:58.444863147\n",
        "2004-07-30T03:12:58.445302539\n",
        "2004-07-30T03:12:58.445752245\n",
        "2004-07-30T03:12:58.446194591\n",
        "                          ...\n",
        "2011-02-24T09:28:41.564439823\n",
        "2011-02-24T09:28:41.561849931\n",
        "2011-02-24T09:28:41.562322541\n",
        "2011-02-24T09:28:41.562803668\n",
        "2011-03-19T09:03:18.563405397\n",
        "2011-03-19T09:03:18.563861417\n",
        "2011-03-19T09:03:18.564328416\n",
        "2011-03-19T09:03:18.564787397\n",
        "2011-03-19T09:03:18.565247998\n",
        "2011-03-19T09:03:18.565718622\n",
        "2011-03-19T09:03:18.566197487\n",
        "2011-03-19T09:03:18.563609908"
       ]
      }
     ],
     "prompt_number": 7
    },
    {
     "cell_type": "markdown",
     "metadata": {},
     "source": [
      "Many PINT routines / classes / functions use [Astropy Units](http://astropy.readthedocs.org/en/latest/units/) internally or externally:"
     ]
    },
    {
     "cell_type": "code",
     "collapsed": false,
     "input": [
      "import astropy.units as u\n",
      "t.get_errors() < 20 * u.ns"
     ],
     "language": "python",
     "metadata": {},
     "outputs": [
      {
       "metadata": {},
       "output_type": "pyout",
       "prompt_number": 8,
       "text": [
        "array([False, False, False, ..., False, False, False], dtype=bool)"
       ]
      }
     ],
     "prompt_number": 8
    },
    {
     "cell_type": "markdown",
     "metadata": {},
     "source": [
      "The times in each row contain (or are derived from) [Astropy Time](http://astropy.readthedocs.org/en/latest/time/) objects:"
     ]
    },
    {
     "cell_type": "code",
     "collapsed": false,
     "input": [
      "t0 = tt['mjd'][0]"
     ],
     "language": "python",
     "metadata": {},
     "outputs": [],
     "prompt_number": 9
    },
    {
     "cell_type": "code",
     "collapsed": false,
     "input": [
      "t0.tai"
     ],
     "language": "python",
     "metadata": {},
     "outputs": [
      {
       "metadata": {},
       "output_type": "pyout",
       "prompt_number": 10,
       "text": [
        "<Time object: scale='tai' format='mjd' value=53216.1270516>"
       ]
      }
     ],
     "prompt_number": 10
    },
    {
     "cell_type": "markdown",
     "metadata": {},
     "source": [
      "But the most useful timescale, TDB (and maybe soon others) are also stored as long double (i.e. \"float96\") Numpy arrays:"
     ]
    },
    {
     "cell_type": "code",
     "collapsed": false,
     "input": [
      "tt['tdbld'][:3]"
     ],
     "language": "python",
     "metadata": {},
     "outputs": [
      {
       "html": [
        "&lt;Column name=&apos;tdbld&apos; dtype=&apos;float128&apos; length=3&gt;\n",
        "<table>\n",
        "<tr><td>53216.1274241</td></tr>\n",
        "<tr><td>53216.1274241</td></tr>\n",
        "<tr><td>53216.1274241</td></tr>\n",
        "</table>"
       ],
       "metadata": {},
       "output_type": "pyout",
       "prompt_number": 11,
       "text": [
        "<Column name='tdbld' dtype='float128' length=3>\n",
        "53216.1274241\n",
        "53216.1274241\n",
        "53216.1274241"
       ]
      }
     ],
     "prompt_number": 11
    },
    {
     "cell_type": "heading",
     "level": 2,
     "metadata": {},
     "source": [
      "Timing (or other) Models"
     ]
    },
    {
     "cell_type": "markdown",
     "metadata": {},
     "source": [
      "Now let's define and load a timing model"
     ]
    },
    {
     "cell_type": "code",
     "collapsed": false,
     "input": [
      "import pint.models as models\n",
      "#m = models.get_model('examples/NGC6440E.par')\n",
      "m = models.get_model('examples/J0613-sim.par')"
     ],
     "language": "python",
     "metadata": {},
     "outputs": [
      {
       "output_type": "stream",
       "stream": "stderr",
       "text": [
        "WARNING: Unrecognized parfile line 'DMEPOCH         54890.000000' [pint.models.timing_model]\n",
        "WARNING:astropy:Unrecognized parfile line 'DMEPOCH         54890.000000'\n"
       ]
      }
     ],
     "prompt_number": 71
    },
    {
     "cell_type": "code",
     "collapsed": false,
     "input": [
      "print(m.as_parfile())"
     ],
     "language": "python",
     "metadata": {},
     "outputs": [
      {
       "output_type": "stream",
       "stream": "stdout",
       "text": [
        "PSR                            J0613-0200\n",
        "PB                      1.198512575222573 1 1.274978299e-11\n",
        "A1                          1.09143421206 1 7.29224866087e-08\n",
        "E                       5.28646359551e-06 1 3.82222685592e-07\n",
        "OM                          47.6815195974 1 0.801568045055\n",
        "T0                          53113.9550956 1 0.00266858155449\n",
        "PBDOT                                 0.0\n",
        "OMDOT                                 0.0\n",
        "XDOT                                  0.0\n",
        "EDOT                                  0.0\n",
        "GAMMA                                 0.0\n",
        "PLANET_SHAPIRO                          N\n",
        "DM                          38.7775344453 1 0.000631748243622\n",
        "F0                  326.60056202349007573 1 4.67708045e-12\n",
        "F1                     -1.02297046246e-15 1 3.58956892683e-20\n",
        "TZRMJD              54401.720778357950280\n",
        "PEPOCH              54890.000000000000000\n",
        "RAJ                      6:13:43.97767520 1 3.53933036694e-06\n",
        "DECJ                    -2:00:47.22538000 1 8.78564809557e-05\n",
        "POSEPOCH            54890.000000000000000\n",
        "PMRA                        1.82779595278 1 0.0176467150286\n",
        "PMDEC                       -10.338557736 1 0.0342648157615\n",
        "PX                          1.11638926306 1 0.111363301398\n",
        "\n"
       ]
      }
     ],
     "prompt_number": 72
    },
    {
     "cell_type": "code",
     "collapsed": false,
     "input": [
      "print m.RAJ.value, m.F0.value, m.T0.value"
     ],
     "language": "python",
     "metadata": {},
     "outputs": [
      {
       "output_type": "stream",
       "stream": "stdout",
       "text": [
        "6h13m43.9777s 326.600562023 53113.9550956\n"
       ]
      }
     ],
     "prompt_number": 73
    },
    {
     "cell_type": "markdown",
     "metadata": {},
     "source": [
      "Timing models are basically composed of \"delay\" terms and \"phase\" terms:"
     ]
    },
    {
     "cell_type": "code",
     "collapsed": false,
     "input": [
      "m.delay_funcs"
     ],
     "language": "python",
     "metadata": {},
     "outputs": [
      {
       "metadata": {},
       "output_type": "pyout",
       "prompt_number": 74,
       "text": [
        "[<bound method J0613-sim.BT_delay of <pint.models.timing_model.J0613-sim object at 0x10b2daed0>>,\n",
        " <bound method J0613-sim.solar_system_shapiro_delay of <pint.models.timing_model.J0613-sim object at 0x10b2daed0>>,\n",
        " <bound method J0613-sim.dispersion_delay of <pint.models.timing_model.J0613-sim object at 0x10b2daed0>>,\n",
        " <bound method J0613-sim.solar_system_geometric_delay of <pint.models.timing_model.J0613-sim object at 0x10b2daed0>>]"
       ]
      }
     ],
     "prompt_number": 74
    },
    {
     "cell_type": "code",
     "collapsed": false,
     "input": [
      "m.phase_funcs"
     ],
     "language": "python",
     "metadata": {},
     "outputs": [
      {
       "metadata": {},
       "output_type": "pyout",
       "prompt_number": 75,
       "text": [
        "[<bound method J0613-sim.simple_spindown_phase of <pint.models.timing_model.J0613-sim object at 0x10b2daed0>>]"
       ]
      }
     ],
     "prompt_number": 75
    },
    {
     "cell_type": "markdown",
     "metadata": {},
     "source": [
      "Can easily show/compute individual terms..."
     ]
    },
    {
     "cell_type": "code",
     "collapsed": false,
     "input": [
      "ds = m.solar_system_shapiro_delay(tt)\n",
      "print(ds)"
     ],
     "language": "python",
     "metadata": {},
     "outputs": [
      {
       "output_type": "stream",
       "stream": "stdout",
       "text": [
        "[  1.36588635e-05   1.36588635e-05   1.36588635e-05 ...,  -7.78619494e-07\n",
        "  -7.78619494e-07  -7.78619498e-07]\n"
       ]
      }
     ],
     "prompt_number": 76
    },
    {
     "cell_type": "code",
     "collapsed": false,
     "input": [
      "import matplotlib.pyplot as plt\n",
      "%matplotlib inline\n",
      "plt.plot(t.get_mjds(high_precision=False), ds*1e6, 'x')\n",
      "plt.xlabel(\"MJD\") ; plt.ylabel(\"Delay ($\\mu$s)\")"
     ],
     "language": "python",
     "metadata": {},
     "outputs": [
      {
       "metadata": {},
       "output_type": "pyout",
       "prompt_number": 77,
       "text": [
        "<matplotlib.text.Text at 0x11461c250>"
       ]
      },
      {
       "metadata": {},
       "output_type": "display_data",
       "png": "[encoded data removed]",
       "text": [
        "<matplotlib.figure.Figure at 0x1147f4550>"
       ]
      }
     ],
     "prompt_number": 77
    },
    {
     "cell_type": "markdown",
     "metadata": {},
     "source": [
      "or all of the terms added together:"
     ]
    },
    {
     "cell_type": "code",
     "collapsed": false,
     "input": [
      "m.delay(tt)"
     ],
     "language": "python",
     "metadata": {},
     "outputs": [
      {
       "metadata": {},
       "output_type": "pyout",
       "prompt_number": 78,
       "text": [
        "array([ 383.42189435,  383.42233456,  383.4227785 , ...,  -42.364831  ,\n",
        "        -42.36435585,  -42.36387685])"
       ]
      }
     ],
     "prompt_number": 78
    },
    {
     "cell_type": "code",
     "collapsed": false,
     "input": [
      "m.phase(tt)"
     ],
     "language": "python",
     "metadata": {},
     "outputs": [
      {
       "metadata": {},
       "output_type": "pyout",
       "prompt_number": 79,
       "text": [
        "Phase(int=<Column name='tdbld' dtype='float128' length=1462>\n",
        "-33455540619.0\n",
        "-33455540619.0\n",
        "-33455540619.0\n",
        "-33455540619.0\n",
        "-33455540620.0\n",
        "-33455540620.0\n",
        "-33455540620.0\n",
        "-33455540621.0\n",
        "-33455354765.0\n",
        "-33455354765.0\n",
        "-33455354765.0\n",
        "-33455354765.0\n",
        "           ...\n",
        " 34276095062.0\n",
        " 34276095061.0\n",
        " 34276095061.0\n",
        " 34276095061.0\n",
        " 34924562649.0\n",
        " 34924562649.0\n",
        " 34924562649.0\n",
        " 34924562649.0\n",
        " 34924562649.0\n",
        " 34924562649.0\n",
        " 34924562649.0\n",
        " 34924562648.0, frac=<Column name='tdbld' dtype='float128' length=1462>\n",
        "0.129483297467\n",
        "0.130524143577\n",
        "0.131073463708\n",
        "0.128050167114\n",
        "0.123519683257\n",
        "0.133362514898\n",
        "0.125029643998\n",
        "0.132496843114\n",
        "0.131209010258\n",
        " 0.12920441106\n",
        "0.127721022815\n",
        "0.128379514441\n",
        "           ...\n",
        "0.164068594575\n",
        "0.164488205686\n",
        "0.163658406585\n",
        "0.164266403764\n",
        "0.168780274689\n",
        "0.169025808573\n",
        "0.171587791294\n",
        "0.170247901231\n",
        "0.168138980865\n",
        "0.167990181595\n",
        "0.169204577804\n",
        "0.167658284307)"
       ]
      }
     ],
     "prompt_number": 79
    },
    {
     "cell_type": "heading",
     "level": 2,
     "metadata": {},
     "source": [
      "Residuals"
     ]
    },
    {
     "cell_type": "code",
     "collapsed": false,
     "input": [
      "import pint.residuals as r"
     ],
     "language": "python",
     "metadata": {},
     "outputs": [],
     "prompt_number": 80
    },
    {
     "cell_type": "code",
     "collapsed": false,
     "input": [
      "rs = r.resids(t, m).phase_resids"
     ],
     "language": "python",
     "metadata": {},
     "outputs": [],
     "prompt_number": 81
    },
    {
     "cell_type": "code",
     "collapsed": false,
     "input": [
      "plt.plot(t.get_mjds(high_precision=False), rs, 'x')\n",
      "plt.title(\"%s Pre-Fit Timing Residuals\" % m.PSR.value)\n",
      "plt.xlabel('MJD'); plt.ylabel('Residual (phase)')\n",
      "plt.grid()\n"
     ],
     "language": "python",
     "metadata": {},
     "outputs": [
      {
       "metadata": {},
       "output_type": "display_data",
       "png": "[encoded data removed]",
       "text": [
        "<matplotlib.figure.Figure at 0x1147f4950>"
       ]
      }
     ],
     "prompt_number": 82
    },
    {
     "cell_type": "heading",
     "level": 2,
     "metadata": {},
     "source": [
      "Fitting and Post-Fit residuals"
     ]
    },
    {
     "cell_type": "markdown",
     "metadata": {},
     "source": [
      "The fitter is *completely* separate from the model and the TOA code.  So you can use any type of fitter with some easy coding.  This example uses a very simple Powell minimizer from the SciPy optimize module. "
     ]
    },
    {
     "cell_type": "code",
     "collapsed": false,
     "input": [
      "import pint.fitter as fit\n",
      "f = fit.wls_fitter(t, m)"
     ],
     "language": "python",
     "metadata": {},
     "outputs": [],
     "prompt_number": 83
    },
    {
     "cell_type": "code",
     "collapsed": false,
     "input": [
      "f.get_fitparams()"
     ],
     "language": "python",
     "metadata": {},
     "outputs": [
      {
       "metadata": {},
       "output_type": "pyout",
       "prompt_number": 84,
       "text": [
        "{'A1': 1.0914342120578364,\n",
        " 'DECJ': <Angle -2.013118161111111 deg>,\n",
        " 'DM': 38.77753444534659,\n",
        " 'E': 5.2864635955090087e-06,\n",
        " 'F0': 326.60056202349007573,\n",
        " 'F1': -1.0229704624634172e-15,\n",
        " 'OM': 47.681519597443859,\n",
        " 'PB': 1.1985125752225729,\n",
        " 'PMDEC': -10.338557735985926,\n",
        " 'PMRA': 1.8277959527833962,\n",
        " 'PX': 1.1163892630643213,\n",
        " 'RAJ': <Angle 6.228882687555556 hourangle>,\n",
        " 'T0': 53113.955095598852495}"
       ]
      }
     ],
     "prompt_number": 84
    },
    {
     "cell_type": "code",
     "collapsed": false,
     "input": [
      "f.call_minimize()"
     ],
     "language": "python",
     "metadata": {},
     "outputs": [],
     "prompt_number": 85
    },
    {
     "cell_type": "code",
     "collapsed": false,
     "input": [
      "print \"Best fit has reduced chi^2 of\", f.resids.chi2_reduced\n",
      "print \"RMS in phase is\", f.resids.phase_resids.std()\n",
      "print \"RMS in time is\", f.resids.time_resids.std().to(u.us)\n",
      "print \"\\n Best model is:\"\n",
      "print f.model.as_parfile()\n"
     ],
     "language": "python",
     "metadata": {},
     "outputs": [
      {
       "output_type": "stream",
       "stream": "stdout",
       "text": [
        "Best fit has reduced chi^2 of 2.18599083846\n",
        "RMS in phase is 0.00171359507447\n",
        "RMS in time is 5.24676094817 us\n",
        "\n",
        " Best model is:\n",
        "PSR                            J0613-0200\n",
        "PB                      1.198512575330105 1 1.274978299e-11\n",
        "A1                          1.09144378056 1 7.29224866087e-08\n",
        "E                       6.87501654631e-06 1 3.82222685592e-07\n",
        "OM                          47.5241467658 1 0.801568045055\n",
        "T0                          53113.9545715 1 0.00266858155449\n",
        "PBDOT                                 0.0\n",
        "OMDOT                                 0.0\n",
        "XDOT                                  0.0\n",
        "EDOT                                  0.0\n",
        "GAMMA                                 0.0\n",
        "PLANET_SHAPIRO                          N\n",
        "DM                           38.787238912 1 0.000631748243622\n",
        "F0                     326.60056202349153 1 4.67708045e-12\n",
        "F1                     -1.02293759245e-15 1 3.58956892683e-20\n",
        "TZRMJD              54401.720778357950280\n",
        "PEPOCH              54890.000000000000000\n",
        "RAJ                      6:13:43.97566800 1 3.53933036694e-06\n",
        "DECJ                    -2:00:47.22520710 1 8.78564809557e-05\n",
        "POSEPOCH            54890.000000000000000\n",
        "PMRA                        1.82354350822 1 0.0176467150286\n",
        "PMDEC                      -10.3167904767 1 0.0342648157615\n",
        "PX                         0.892146250319 1 0.111363301398\n",
        "\n"
       ]
      }
     ],
     "prompt_number": 86
    },
    {
     "cell_type": "code",
     "collapsed": false,
     "input": [
      "plt.errorbar(t.get_mjds(high_precision=False),\n",
      "             f.resids.time_resids.to(u.us).value,\n",
      "             t.get_errors().to(u.us).value, fmt='x')\n",
      "plt.title(\"%s Post-Fit Timing Residuals\" % m.PSR.value)\n",
      "plt.xlabel('MJD'); plt.ylabel('Residual (us)')\n",
      "plt.grid()"
     ],
     "language": "python",
     "metadata": {},
     "outputs": [
      {
       "metadata": {},
       "output_type": "display_data",
       "png": "[encoded data removed]",
       "text": [
        "<matplotlib.figure.Figure at 0x114620950>"
       ]
      }
     ],
     "prompt_number": 87
    },
    {
     "cell_type": "heading",
     "level": 2,
     "metadata": {},
     "source": [
      "Other interesting things"
     ]
    },
    {
     "cell_type": "markdown",
     "metadata": {},
     "source": [
      "We can make Barycentered TOAs in a single line!"
     ]
    },
    {
     "cell_type": "code",
     "collapsed": true,
     "input": [
      "tt['tdbld'] - m.delay(tt) / 86400.0"
     ],
     "language": "python",
     "metadata": {},
     "outputs": [
      {
       "html": [
        "&lt;Column name=&apos;tdbld&apos; dtype=&apos;float128&apos; length=1462&gt;\n",
        "<table>\n",
        "<tr><td>53216.1229864</td></tr>\n",
        "<tr><td>53216.1229864</td></tr>\n",
        "<tr><td>53216.1229864</td></tr>\n",
        "<tr><td>53216.1229864</td></tr>\n",
        "<tr><td>53216.1229863</td></tr>\n",
        "<tr><td>53216.1229863</td></tr>\n",
        "<tr><td>53216.1229863</td></tr>\n",
        "<tr><td>53216.1229863</td></tr>\n",
        "<tr><td>53216.1295727</td></tr>\n",
        "<tr><td>53216.1295727</td></tr>\n",
        "<tr><td>53216.1295727</td></tr>\n",
        "<tr><td>53216.1295727</td></tr>\n",
        "<tr><td>...</td></tr>\n",
        "<tr><td>55616.3973875</td></tr>\n",
        "<tr><td>55616.3973875</td></tr>\n",
        "<tr><td>55616.3973875</td></tr>\n",
        "<tr><td>55616.3973875</td></tr>\n",
        "<tr><td>55639.3777885</td></tr>\n",
        "<tr><td>55639.3777885</td></tr>\n",
        "<tr><td>55639.3777885</td></tr>\n",
        "<tr><td>55639.3777885</td></tr>\n",
        "<tr><td>55639.3777885</td></tr>\n",
        "<tr><td>55639.3777885</td></tr>\n",
        "<tr><td>55639.3777885</td></tr>\n",
        "<tr><td>55639.3777885</td></tr>\n",
        "</table>"
       ],
       "metadata": {},
       "output_type": "pyout",
       "prompt_number": 88,
       "text": [
        "<Column name='tdbld' dtype='float128' length=1462>\n",
        "53216.1229864\n",
        "53216.1229864\n",
        "53216.1229864\n",
        "53216.1229864\n",
        "53216.1229863\n",
        "53216.1229863\n",
        "53216.1229863\n",
        "53216.1229863\n",
        "53216.1295727\n",
        "53216.1295727\n",
        "53216.1295727\n",
        "53216.1295727\n",
        "          ...\n",
        "55616.3973875\n",
        "55616.3973875\n",
        "55616.3973875\n",
        "55616.3973875\n",
        "55639.3777885\n",
        "55639.3777885\n",
        "55639.3777885\n",
        "55639.3777885\n",
        "55639.3777885\n",
        "55639.3777885\n",
        "55639.3777885\n",
        "55639.3777885"
       ]
      }
     ],
     "prompt_number": 88
    },
    {
     "cell_type": "code",
     "collapsed": false,
     "input": [],
     "language": "python",
     "metadata": {},
     "outputs": [],
     "prompt_number": 88
    },
    {
     "cell_type": "code",
     "collapsed": false,
     "input": [
      "import pint.toa as toa, pint.models as models\n",
      "t = toa.get_TOAs(\"examples/J0613-sim.tim\")\n",
      "m = models.get_model('examples/J0613-sim.par')"
     ],
     "language": "python",
     "metadata": {},
     "outputs": [
      {
       "output_type": "stream",
       "stream": "stderr",
       "text": [
        "INFO:astropy:Reading toas from 'examples/J0613-sim.tim.pickle.gz'...\n",
        "\n"
       ]
      },
      {
       "output_type": "stream",
       "stream": "stderr",
       "text": [
        "WARNING: Unrecognized parfile line 'DMEPOCH         54890.000000' [pint.models.timing_model]\n",
        "WARNING:astropy:Unrecognized parfile line 'DMEPOCH         54890.000000'\n"
       ]
      },
      {
       "output_type": "stream",
       "stream": "stdout",
       "text": [
        "INFO: Reading toas from 'examples/J0613-sim.tim.pickle.gz'...\n",
        " [pint.toa]\n"
       ]
      }
     ],
     "prompt_number": 89
    },
    {
     "cell_type": "code",
     "collapsed": false,
     "input": [
      "t.get_mjds(high_precision=False) - m.delay(t.table)"
     ],
     "language": "python",
     "metadata": {},
     "outputs": [
      {
       "metadata": {},
       "output_type": "pyout",
       "prompt_number": 90,
       "text": [
        "array([ 52832.70478691,  52832.7043467 ,  52832.70390277, ...,\n",
        "        55681.74136317,  55681.74088803,  55681.740409  ])"
       ]
      }
     ],
     "prompt_number": 90
    },
    {
     "cell_type": "code",
     "collapsed": false,
     "input": [
      "m.BT_delay(t.table)"
     ],
     "language": "python",
     "metadata": {},
     "outputs": [
      {
       "html": [
        "&lt;Column name=&apos;tdbld&apos; dtype=&apos;float128&apos; length=1462&gt;\n",
        "<table>\n",
        "<tr><td>0.756963368604</td></tr>\n",
        "<tr><td>0.756963368452</td></tr>\n",
        "<tr><td>0.756963368372</td></tr>\n",
        "<tr><td>0.756963368814</td></tr>\n",
        "<tr><td>0.756963515552</td></tr>\n",
        "<tr><td>0.756963514115</td></tr>\n",
        "<tr><td>0.756963515332</td></tr>\n",
        "<tr><td>0.756963660318</td></tr>\n",
        "<tr><td>0.729368616816</td></tr>\n",
        "<tr><td>0.729368617118</td></tr>\n",
        "<tr><td>0.729368617342</td></tr>\n",
        "<tr><td>0.729368617243</td></tr>\n",
        "<tr><td>...</td></tr>\n",
        "<tr><td>0.579539303217</td></tr>\n",
        "<tr><td>0.579539131466</td></tr>\n",
        "<tr><td>0.579539131323</td></tr>\n",
        "<tr><td>0.579539131428</td></tr>\n",
        "<tr><td>1.08768273077</td></tr>\n",
        "<tr><td>1.08768273077</td></tr>\n",
        "<tr><td>1.08768273072</td></tr>\n",
        "<tr><td>1.08768273075</td></tr>\n",
        "<tr><td>1.08768273078</td></tr>\n",
        "<tr><td>1.08768273078</td></tr>\n",
        "<tr><td>1.08768273076</td></tr>\n",
        "<tr><td>1.08768274758</td></tr>\n",
        "</table>"
       ],
       "metadata": {},
       "output_type": "pyout",
       "prompt_number": 91,
       "text": [
        "<Column name='tdbld' dtype='float128' length=1462>\n",
        "0.756963368604\n",
        "0.756963368452\n",
        "0.756963368372\n",
        "0.756963368814\n",
        "0.756963515552\n",
        "0.756963514115\n",
        "0.756963515332\n",
        "0.756963660318\n",
        "0.729368616816\n",
        "0.729368617118\n",
        "0.729368617342\n",
        "0.729368617243\n",
        "           ...\n",
        "0.579539303217\n",
        "0.579539131466\n",
        "0.579539131323\n",
        "0.579539131428\n",
        " 1.08768273077\n",
        " 1.08768273077\n",
        " 1.08768273072\n",
        " 1.08768273075\n",
        " 1.08768273078\n",
        " 1.08768273078\n",
        " 1.08768273076\n",
        " 1.08768274758"
       ]
      }
     ],
     "prompt_number": 91
    },
    {
     "cell_type": "code",
     "collapsed": false,
     "input": [],
     "language": "python",
     "metadata": {},
     "outputs": [],
     "prompt_number": 91
    },
    {
     "cell_type": "code",
     "collapsed": false,
     "input": [],
     "language": "python",
     "metadata": {},
     "outputs": [],
     "prompt_number": 91
    },
    {
     "cell_type": "code",
     "collapsed": false,
     "input": [],
     "language": "python",
     "metadata": {},
     "outputs": []
    }
   ],
   "metadata": {}
  }
 ]
}