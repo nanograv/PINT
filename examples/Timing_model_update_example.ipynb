{
 "metadata": {
  "name": ""
 },
 "nbformat": 3,
 "nbformat_minor": 0,
 "worksheets": [
  {
   "cells": [
    {
     "cell_type": "code",
     "collapsed": false,
     "input": [
      "import pint.models.model_builder as mb"
     ],
     "language": "python",
     "metadata": {},
     "outputs": [],
     "prompt_number": 2
    },
    {
     "cell_type": "heading",
     "level": 1,
     "metadata": {},
     "source": [
      "To get all the model componets"
     ]
    },
    {
     "cell_type": "code",
     "collapsed": false,
     "input": [
      "mb.get_componets()"
     ],
     "language": "python",
     "metadata": {},
     "outputs": [
      {
       "metadata": {},
       "output_type": "pyout",
       "prompt_number": 3,
       "text": [
        "{'pint.models.astrometry': {pint.models.astrometry.Astrometry},\n",
        " 'pint.models.bt': {pint.models.bt.BT},\n",
        " 'pint.models.dispersion_model': {pint.models.dispersion_model.Dispersion,\n",
        "  pint.models.dispersion_model.DispersionDMX},\n",
        " 'pint.models.frequency_dependent': {pint.models.frequency_dependent.FD},\n",
        " 'pint.models.glitch': {pint.models.glitch.Glitch},\n",
        " 'pint.models.jump': {pint.models.jump.JumpDelay},\n",
        " 'pint.models.pint_dd_model': {pint.models.pint_pulsar_binary.PSRbinaryWapper,\n",
        "  pint.models.pint_dd_model.DDwrapper},\n",
        " 'pint.models.pint_pulsar_binary': {pint.models.pint_pulsar_binary.PSRbinaryWapper},\n",
        " 'pint.models.solar_system_shapiro': {pint.models.solar_system_shapiro.SolarSystemShapiro},\n",
        " 'pint.models.spindown': {pint.models.spindown.Spindown}}"
       ]
      }
     ],
     "prompt_number": 3
    },
    {
     "cell_type": "heading",
     "level": 1,
     "metadata": {},
     "source": [
      "Update on timing model"
     ]
    },
    {
     "cell_type": "code",
     "collapsed": false,
     "input": [
      "model = mb.get_model('NGC6440E.par')"
     ],
     "language": "python",
     "metadata": {},
     "outputs": [
      {
       "output_type": "stream",
       "stream": "stderr",
       "text": [
        "WARNING: Unrecognized parfile line 'SOLARN0               0.00' [pint.models.timing_model]\n",
        "WARNING: Unrecognized parfile line 'T2CMETHOD           TEMPO' [pint.models.timing_model]\n"
       ]
      }
     ],
     "prompt_number": 6
    },
    {
     "cell_type": "code",
     "collapsed": false,
     "input": [
      "model.get_type_params('str')"
     ],
     "language": "python",
     "metadata": {},
     "outputs": [
      {
       "metadata": {},
       "output_type": "pyout",
       "prompt_number": 7,
       "text": [
        "['PSR']"
       ]
      }
     ],
     "prompt_number": 7
    },
    {
     "cell_type": "code",
     "collapsed": false,
     "input": [
      "model.get_type_params('float')"
     ],
     "language": "python",
     "metadata": {},
     "outputs": [
      {
       "metadata": {},
       "output_type": "pyout",
       "prompt_number": 8,
       "text": [
        "['PMRA', 'PMDEC', 'PX', 'F0', 'DM']"
       ]
      }
     ],
     "prompt_number": 8
    },
    {
     "cell_type": "code",
     "collapsed": false,
     "input": [
      "model.get_type_params('prefix')"
     ],
     "language": "python",
     "metadata": {},
     "outputs": [
      {
       "metadata": {},
       "output_type": "pyout",
       "prompt_number": 9,
       "text": [
        "['F1']"
       ]
      }
     ],
     "prompt_number": 9
    },
    {
     "cell_type": "code",
     "collapsed": false,
     "input": [],
     "language": "python",
     "metadata": {},
     "outputs": []
    }
   ],
   "metadata": {}
  }
 ]
}