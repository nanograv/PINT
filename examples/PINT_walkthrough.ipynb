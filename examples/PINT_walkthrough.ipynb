{
 "cells": [
  {
   "cell_type": "markdown",
   "metadata": {},
   "source": [
    "# PINT Example Session"
   ]
  },
  {
   "cell_type": "markdown",
   "metadata": {},
   "source": [
    "The PINT homepage is at:  https://github.com/nanograv/PINT.\n",
    "There, you can find a Wiki with information on installing PINT\n",
    "PINT can be run via a script, in an interactive session with ipython or jupyter, or using one of the command-line tools provided."
   ]
  },
  {
   "cell_type": "markdown",
   "metadata": {},
   "source": [
    "## Times of Arrival (TOAs)"
   ]
  },
  {
   "cell_type": "markdown",
   "metadata": {},
   "source": [
    "The raw data for PINT are TOAs, which can be read in from files in a variety of formats, or constructed programatically. PINT currently can read TEMPO, Tempo2, and Fermi \"FT1\" photon files.\n",
    "\n",
    "Note:  The first time TOAs get read in, lots of processing (can) happen, which can take some time. However, a  \"pickle\" file is saved, so the next time the same file is loaded (if nothing has changed), the TOAs will be loaded from the pickle file, which is much faster."
   ]
  },
  {
   "cell_type": "code",
   "execution_count": 1,
   "metadata": {
    "collapsed": true
   },
   "outputs": [],
   "source": [
    "from __future__ import print_function, division\n",
    "import numpy as np\n",
    "import astropy.units as u"
   ]
  },
  {
   "cell_type": "code",
   "execution_count": 2,
   "metadata": {
    "collapsed": false
   },
   "outputs": [
    {
     "name": "stdout",
     "output_type": "stream",
     "text": [
      "54567.876876876876876:  4.500 us error from 'gbt' at 1400.0000 MHz {'location': None, 'backend': 'GUPPI'}\n"
     ]
    }
   ],
   "source": [
    "# Here is how to create a single TOA in Python\n",
    "import pint.toa as toa\n",
    "a = toa.TOA((54567, 0.876876876876876), 4.5, freq=1400.0, obs=\"GBT\", backend=\"GUPPI\",location=None)\n",
    "print(a)"
   ]
  },
  {
   "cell_type": "code",
   "execution_count": 3,
   "metadata": {
    "collapsed": false
   },
   "outputs": [
    {
     "name": "stdout",
     "output_type": "stream",
     "text": [
      "INFO: Applying clock corrections. [pint.toa]\n",
      "INFO: Getting IERS params and computing TDBs. [pint.toa]\n",
      "INFO: Computing TDB columns. [pint.toa]\n",
      "INFO: Computing observatory positions and velocities. [pint.toa]\n",
      "INFO: Compute positions and velocities of observatories and Earth (planets = False), using DE421 ephemeris [pint.toa]\n",
      "INFO: Adding columns ssb_obs_pos ssb_obs_vel obs_sun_pos [pint.toa]\n"
     ]
    }
   ],
   "source": [
    "# An example of reading a TOA file\n",
    "import pint.toa as toa\n",
    "t = toa.get_TOAs(\"NGC6440E.tim\",usepickle=False)"
   ]
  },
  {
   "cell_type": "code",
   "execution_count": 4,
   "metadata": {
    "collapsed": false
   },
   "outputs": [
    {
     "name": "stdout",
     "output_type": "stream",
     "text": [
      "Number of TOAs:  62\n",
      "Number of commands:  1\n",
      "Number of observatories:  1 ['gbt']\n",
      "gbt TOAs (62):\n",
      "  Min error:     13.2 us\n",
      "  Max error:     118 us\n",
      "  Mean error:    26.9 us\n",
      "  Median error:  22.1 us\n",
      "  Error stddev:  15.6 us\n",
      "\n"
     ]
    }
   ],
   "source": [
    "#  Here is a summary.\n",
    "t.print_summary()"
   ]
  },
  {
   "cell_type": "code",
   "execution_count": 5,
   "metadata": {
    "collapsed": false
   },
   "outputs": [
    {
     "data": {
      "text/plain": [
       "53478.285871419219"
      ]
     },
     "execution_count": 5,
     "metadata": {},
     "output_type": "execute_result"
    }
   ],
   "source": [
    "# Here is the MJD of the first TOA\n",
    "t.get_mjds()[0]"
   ]
  },
  {
   "cell_type": "markdown",
   "metadata": {},
   "source": [
    "TOAs are stored in a [Astropy Table](http://astropy.readthedocs.org/en/latest/table/)  in an instance of the TOAs class. "
   ]
  },
  {
   "cell_type": "code",
   "execution_count": 6,
   "metadata": {
    "collapsed": false
   },
   "outputs": [
    {
     "data": {
      "text/plain": [
       "['index',\n",
       " 'mjd',\n",
       " 'mjd_float',\n",
       " 'error',\n",
       " 'freq',\n",
       " 'obs',\n",
       " 'flags',\n",
       " 'tdb',\n",
       " 'tdbld',\n",
       " 'ssb_obs_pos',\n",
       " 'ssb_obs_vel',\n",
       " 'obs_sun_pos']"
      ]
     },
     "execution_count": 6,
     "metadata": {},
     "output_type": "execute_result"
    }
   ],
   "source": [
    "# List the table columns, which include pre-computed TDB times and solar system positions and velocities\n",
    "t.table.colnames"
   ]
  },
  {
   "cell_type": "markdown",
   "metadata": {},
   "source": [
    "Lots of cool things that tables can do..."
   ]
  },
  {
   "cell_type": "code",
   "execution_count": 7,
   "metadata": {
    "collapsed": false
   },
   "outputs": [],
   "source": [
    "# This pops open a browser window showing the contents of the table \n",
    "tt = t.table\n",
    "tt.show_in_browser()"
   ]
  },
  {
   "cell_type": "markdown",
   "metadata": {},
   "source": [
    "Can do fancy sorting, selecting, re-arranging very easily."
   ]
  },
  {
   "cell_type": "code",
   "execution_count": 8,
   "metadata": {
    "collapsed": false
   },
   "outputs": [
    {
     "name": "stdout",
     "output_type": "stream",
     "text": [
      "[False False False False False False False  True False False False False\n",
      " False False  True False  True False False False  True False  True False\n",
      "  True  True  True  True False  True False  True  True  True False False\n",
      " False False False False False False  True  True False  True  True False\n",
      " False False  True False False False False False False False False False\n",
      " False False]\n"
     ]
    }
   ],
   "source": [
    "select = tt['error'] < 20*u.us\n",
    "print(select)"
   ]
  },
  {
   "cell_type": "code",
   "execution_count": 9,
   "metadata": {
    "collapsed": false
   },
   "outputs": [
    {
     "data": {
      "text/html": [
       "&lt;Column name=&apos;tdb&apos; dtype=&apos;object&apos; length=18&gt;\n",
       "<table>\n",
       "<tr><td>53679.876388</td></tr>\n",
       "<tr><td>53690.851265</td></tr>\n",
       "<tr><td>53695.8596507</td></tr>\n",
       "<tr><td>53709.8103552</td></tr>\n",
       "<tr><td>53740.7753531</td></tr>\n",
       "<tr><td>53801.5921875</td></tr>\n",
       "<tr><td>53833.2985648</td></tr>\n",
       "<tr><td>53833.5032122</td></tr>\n",
       "<tr><td>53843.3328338</td></tr>\n",
       "<tr><td>53865.3767058</td></tr>\n",
       "<tr><td>53895.3242239</td></tr>\n",
       "<tr><td>53920.0534962</td></tr>\n",
       "<tr><td>53920.2404692</td></tr>\n",
       "<tr><td>54093.6573597</td></tr>\n",
       "<tr><td>54095.6540618</td></tr>\n",
       "<tr><td>54099.7105392</td></tr>\n",
       "<tr><td>54148.6872739</td></tr>\n",
       "<tr><td>54153.5493386</td></tr>\n",
       "</table>"
      ],
      "text/plain": [
       "<Column name='tdb' dtype='object' length=18>\n",
       " 53679.876388\n",
       " 53690.851265\n",
       "53695.8596507\n",
       "53709.8103552\n",
       "53740.7753531\n",
       "53801.5921875\n",
       "53833.2985648\n",
       "53833.5032122\n",
       "53843.3328338\n",
       "53865.3767058\n",
       "53895.3242239\n",
       "53920.0534962\n",
       "53920.2404692\n",
       "54093.6573597\n",
       "54095.6540618\n",
       "54099.7105392\n",
       "54148.6872739\n",
       "54153.5493386"
      ]
     },
     "execution_count": 9,
     "metadata": {},
     "output_type": "execute_result"
    }
   ],
   "source": [
    "tt['tdb'][select]"
   ]
  },
  {
   "cell_type": "markdown",
   "metadata": {},
   "source": [
    "Many PINT routines / classes / functions use [Astropy Units](http://astropy.readthedocs.org/en/latest/units/) internally or externally:"
   ]
  },
  {
   "cell_type": "code",
   "execution_count": 10,
   "metadata": {
    "collapsed": false
   },
   "outputs": [
    {
     "data": {
      "text/html": [
       "&lt;Column name=&apos;error&apos; dtype=&apos;float64&apos; unit=&apos;us&apos; length=62&gt;\n",
       "<table>\n",
       "<tr><td>21.71</td></tr>\n",
       "<tr><td>21.95</td></tr>\n",
       "<tr><td>29.95</td></tr>\n",
       "<tr><td>25.46</td></tr>\n",
       "<tr><td>23.43</td></tr>\n",
       "<tr><td>31.67</td></tr>\n",
       "<tr><td>30.26</td></tr>\n",
       "<tr><td>13.52</td></tr>\n",
       "<tr><td>21.64</td></tr>\n",
       "<tr><td>27.41</td></tr>\n",
       "<tr><td>24.58</td></tr>\n",
       "<tr><td>23.52</td></tr>\n",
       "<tr><td>...</td></tr>\n",
       "<tr><td>16.45</td></tr>\n",
       "<tr><td>30.18</td></tr>\n",
       "<tr><td>21.8</td></tr>\n",
       "<tr><td>20.75</td></tr>\n",
       "<tr><td>32.75</td></tr>\n",
       "<tr><td>31.29</td></tr>\n",
       "<tr><td>37.13</td></tr>\n",
       "<tr><td>37.4</td></tr>\n",
       "<tr><td>35.24</td></tr>\n",
       "<tr><td>50.83</td></tr>\n",
       "<tr><td>38.43</td></tr>\n",
       "<tr><td>48.59</td></tr>\n",
       "</table>"
      ],
      "text/plain": [
       "<Column name='error' dtype='float64' unit='us' length=62>\n",
       "21.71\n",
       "21.95\n",
       "29.95\n",
       "25.46\n",
       "23.43\n",
       "31.67\n",
       "30.26\n",
       "13.52\n",
       "21.64\n",
       "27.41\n",
       "24.58\n",
       "23.52\n",
       "  ...\n",
       "16.45\n",
       "30.18\n",
       " 21.8\n",
       "20.75\n",
       "32.75\n",
       "31.29\n",
       "37.13\n",
       " 37.4\n",
       "35.24\n",
       "50.83\n",
       "38.43\n",
       "48.59"
      ]
     },
     "execution_count": 10,
     "metadata": {},
     "output_type": "execute_result"
    }
   ],
   "source": [
    "t.get_errors() "
   ]
  },
  {
   "cell_type": "markdown",
   "metadata": {},
   "source": [
    "The times in each row contain (or are derived from) [Astropy Time](http://astropy.readthedocs.org/en/latest/time/) objects:"
   ]
  },
  {
   "cell_type": "code",
   "execution_count": 11,
   "metadata": {
    "collapsed": false
   },
   "outputs": [],
   "source": [
    "t0 = tt['mjd'][0]"
   ]
  },
  {
   "cell_type": "code",
   "execution_count": 12,
   "metadata": {
    "collapsed": false
   },
   "outputs": [
    {
     "data": {
      "text/plain": [
       "<Time object: scale='tai' format='pulsar_mjd' value=53478.2862418>"
      ]
     },
     "execution_count": 12,
     "metadata": {},
     "output_type": "execute_result"
    }
   ],
   "source": [
    "t0.tai"
   ]
  },
  {
   "cell_type": "markdown",
   "metadata": {},
   "source": [
    "But the most useful timescale, TDB is also stored as long double numpy arrays, to maintain precision:"
   ]
  },
  {
   "cell_type": "code",
   "execution_count": 13,
   "metadata": {
    "collapsed": false
   },
   "outputs": [
    {
     "data": {
      "text/html": [
       "&lt;Column name=&apos;tdbld&apos; dtype=&apos;float128&apos; length=3&gt;\n",
       "<table>\n",
       "<tr><td>53478.2866143</td></tr>\n",
       "<tr><td>53483.2774481</td></tr>\n",
       "<tr><td>53489.4691327</td></tr>\n",
       "</table>"
      ],
      "text/plain": [
       "<Column name='tdbld' dtype='float128' length=3>\n",
       "53478.2866143\n",
       "53483.2774481\n",
       "53489.4691327"
      ]
     },
     "execution_count": 13,
     "metadata": {},
     "output_type": "execute_result"
    }
   ],
   "source": [
    "tt['tdbld'][:3]"
   ]
  },
  {
   "cell_type": "markdown",
   "metadata": {},
   "source": [
    "## Timing (or other) Models"
   ]
  },
  {
   "cell_type": "markdown",
   "metadata": {},
   "source": [
    "Now let's define and load a timing model"
   ]
  },
  {
   "cell_type": "code",
   "execution_count": 14,
   "metadata": {
    "collapsed": false
   },
   "outputs": [
    {
     "name": "stderr",
     "output_type": "stream",
     "text": [
      "WARNING: Couldn't write lextab module u'angle_lextab'. [Errno 13] Permission denied: u'/opt/local/Library/Frameworks/Python.framework/Versions/2.7/lib/python2.7/site-packages/astropy/coordinates/angle_lextab.py'\n",
      "WARNING: Couldn't create u'angle_parsetab'. [Errno 13] Permission denied: u'/opt/local/Library/Frameworks/Python.framework/Versions/2.7/lib/python2.7/site-packages/astropy/coordinates/angle_parsetab.py'\n",
      "WARNING: Unrecognized parfile line 'SOLARN0               0.00' [pint.models.timing_model]\n",
      "WARNING: Unrecognized parfile line 'T2CMETHOD           TEMPO' [pint.models.timing_model]\n"
     ]
    }
   ],
   "source": [
    "import pint.models as models\n",
    "m = models.StandardTimingModel()\n",
    "m.read_parfile(\"NGC6440E.par\")"
   ]
  },
  {
   "cell_type": "code",
   "execution_count": 15,
   "metadata": {
    "collapsed": false
   },
   "outputs": [
    {
     "name": "stdout",
     "output_type": "stream",
     "text": [
      "PSR                            1748-2021E\n",
      "PLANET_SHAPIRO                          N\n",
      "DM                                  223.9 1 0.0\n",
      "F0                  61.485476554000000001 1 0.0\n",
      "F1                             -1.181e-15 1 0.0\n",
      "TZRMJD              53801.386051182230000\n",
      "PEPOCH              53750.000000000000000\n",
      "POSEPOCH            53750.000000000000000\n",
      "PX                                    0.0\n",
      "RAJ                     17:48:52.75000000 1 0.0\n",
      "DECJ                   -20:21:29.00000000 1 0.0\n",
      "PMRA                                  0.0\n",
      "PMDEC                                 0.0\n",
      "UNITS TDB\n",
      "\n"
     ]
    }
   ],
   "source": [
    "print(m.as_parfile())"
   ]
  },
  {
   "cell_type": "markdown",
   "metadata": {},
   "source": [
    "Timing models are basically composed of \"delay\" terms and \"phase\" terms. Currently the delay terms are organized into two 'levels'. L1 are delay terms local to the Solar System, which are needed for computing 'barycenter-corrected' TOAs. L2 are delay terms for the binary system.  (This system may change in the future to accommodate more complicated scenarios)"
   ]
  },
  {
   "cell_type": "code",
   "execution_count": 16,
   "metadata": {
    "collapsed": false
   },
   "outputs": [
    {
     "data": {
      "text/plain": [
       "{'L1': [<bound method StandardTimingModel.solar_system_shapiro_delay of <pint.models.timing_model.StandardTimingModel object at 0x113ebda90>>,\n",
       "  <bound method StandardTimingModel.dispersion_delay of <pint.models.timing_model.StandardTimingModel object at 0x113ebda90>>,\n",
       "  <bound method StandardTimingModel.solar_system_geometric_delay of <pint.models.timing_model.StandardTimingModel object at 0x113ebda90>>],\n",
       " 'L2': []}"
      ]
     },
     "execution_count": 16,
     "metadata": {},
     "output_type": "execute_result"
    }
   ],
   "source": [
    "m.delay_funcs"
   ]
  },
  {
   "cell_type": "code",
   "execution_count": 17,
   "metadata": {
    "collapsed": false
   },
   "outputs": [
    {
     "data": {
      "text/plain": [
       "[<bound method StandardTimingModel.spindown_phase of <pint.models.timing_model.StandardTimingModel object at 0x113ebda90>>]"
      ]
     },
     "execution_count": 17,
     "metadata": {},
     "output_type": "execute_result"
    }
   ],
   "source": [
    "m.phase_funcs"
   ]
  },
  {
   "cell_type": "markdown",
   "metadata": {},
   "source": [
    "Can easily show/compute individual terms..."
   ]
  },
  {
   "cell_type": "code",
   "execution_count": 18,
   "metadata": {
    "collapsed": false
   },
   "outputs": [
    {
     "name": "stdout",
     "output_type": "stream",
     "text": [
      "[ -4.11774615e-06  -4.58215733e-06  -5.09435414e-06   1.26025166e-05\n",
      "   1.26025164e-05   1.26025162e-05   1.26025160e-05   1.26025163e-05\n",
      "   1.34033282e-05   1.35163226e-05   1.43416919e-05   1.53159181e-05\n",
      "   1.63198995e-05   1.64587639e-05   1.80783671e-05   2.11530227e-05\n",
      "   2.12647452e-05   2.49851393e-05   2.51080759e-05   3.45107578e-05\n",
      "   3.47450145e-05   3.00319035e-05   2.98083009e-05   2.11804876e-06\n",
      "   2.07541049e-06  -3.00762925e-06  -3.03173087e-06  -4.09655364e-06\n",
      "  -5.80849733e-06  -5.81983363e-06  -6.90339229e-06  -6.90646307e-06\n",
      "  -6.82672804e-06  -6.82292820e-06  -5.19141699e-06  -5.17650522e-06\n",
      "  -2.63564143e-06  -2.60880558e-06   2.28385789e-06   2.32788086e-06\n",
      "   1.51692739e-05   1.52882687e-05   5.13321681e-05   4.61456319e-05\n",
      "   3.99876478e-05   3.82020218e-05   6.59654821e-06   6.09155453e-06\n",
      "   5.78124973e-06   5.45386907e-06   5.22873336e-06   3.47897242e-06\n",
      "  -1.52400083e-06  -1.56079046e-06   3.82020202e-05   3.82020207e-05\n",
      "   3.82020212e-05   3.82020216e-05   3.82020219e-05   3.82020222e-05\n",
      "   3.82020225e-05   3.82020228e-05]\n"
     ]
    }
   ],
   "source": [
    "ds = m.solar_system_shapiro_delay(tt)\n",
    "print(ds)"
   ]
  },
  {
   "cell_type": "code",
   "execution_count": 19,
   "metadata": {
    "collapsed": false
   },
   "outputs": [
    {
     "data": {
      "text/plain": [
       "<matplotlib.text.Text at 0x1140dffd0>"
      ]
     },
     "execution_count": 19,
     "metadata": {},
     "output_type": "execute_result"
    },
    {
     "data": {
      "image/png": "[encoded data removed]",
      "text/plain": [
       "<matplotlib.figure.Figure at 0x1135c7a50>"
      ]
     },
     "metadata": {},
     "output_type": "display_data"
    }
   ],
   "source": [
    "import matplotlib.pyplot as plt\n",
    "%matplotlib inline\n",
    "plt.plot(t.get_mjds(high_precision=False), ds*1e6, 'x')\n",
    "plt.xlabel(\"MJD\") ; plt.ylabel(\"Delay ($\\mu$s)\")"
   ]
  },
  {
   "cell_type": "markdown",
   "metadata": {},
   "source": [
    "or all of the terms added together:"
   ]
  },
  {
   "cell_type": "code",
   "execution_count": 20,
   "metadata": {
    "collapsed": false
   },
   "outputs": [
    {
     "data": {
      "text/plain": [
       "array([-256.27780385, -292.17727414, -333.75096918,  357.15222974,\n",
       "        357.10424491,  357.06652485,  357.03633769,  357.08429712,\n",
       "        367.69388946,  369.13838938,  379.080215  ,  389.80455011,\n",
       "        399.7984286 ,  401.11641315,  415.02787367,  435.89826732,\n",
       "        436.54658382,  454.24106089,  454.72545487,  478.04207904,\n",
       "        478.38385956,  468.46407861,  467.91561351,   94.36851725,\n",
       "         92.62907224, -175.81784133, -177.46527042, -253.52910299,\n",
       "       -394.21626285, -395.23691322, -497.24000468, -497.54026381,\n",
       "       -488.57105536, -488.1777565 , -337.19429477, -335.91546229,\n",
       "       -146.57383909, -144.8059907 ,  105.78805673,  107.5422893 ,\n",
       "        389.24590076,  390.51827027,  490.40921287,  488.47335247,\n",
       "        484.41365305,  482.68741688,  240.08987512,  226.85717062,\n",
       "        218.50192024,  209.24145601,  202.56740375,  146.32214659,\n",
       "        -81.97888773,  -84.14610449,  482.769396  ,  482.74220183,\n",
       "        482.7182698 ,  482.69709825,  482.67827842,  482.66147446,\n",
       "        482.64640844,  482.63284869])"
      ]
     },
     "execution_count": 20,
     "metadata": {},
     "output_type": "execute_result"
    }
   ],
   "source": [
    "m.delay(tt)"
   ]
  },
  {
   "cell_type": "code",
   "execution_count": 21,
   "metadata": {
    "collapsed": false
   },
   "outputs": [
    {
     "data": {
      "text/plain": [
       "Phase(int=<Column name='tdbld' dtype='float128' length=62>\n",
       "-1716399977.0\n",
       "-1689884738.0\n",
       "-1656989816.0\n",
       " -645523228.0\n",
       " -645523228.0\n",
       " -645523228.0\n",
       " -645523228.0\n",
       " -645523228.0\n",
       " -635828288.0\n",
       " -634480136.0\n",
       " -625012858.0\n",
       " -614385261.0\n",
       "          ...\n",
       " 1870800485.0\n",
       " 1907853722.0\n",
       " 2050284934.0\n",
       " 2051643650.0\n",
       " 1584772976.0\n",
       " 1584772976.0\n",
       " 1584772976.0\n",
       " 1584772976.0\n",
       " 1584772976.0\n",
       " 1584772976.0\n",
       " 1584772976.0\n",
       " 1584772976.0, frac=<Column name='tdbld' dtype='float128' length=62>\n",
       "-0.235630831332\n",
       "-0.240548730944\n",
       "-0.249681587331\n",
       "-0.401217052247\n",
       "-0.401686841971\n",
       "-0.408011422376\n",
       "-0.408143698471\n",
       "-0.405029413057\n",
       "-0.401967040671\n",
       "-0.398793970933\n",
       "-0.399262655992\n",
       "-0.396772064618\n",
       "            ...\n",
       " -0.24813460093\n",
       "-0.249303197255\n",
       "-0.246684764978\n",
       "-0.244746573968\n",
       "-0.316759336274\n",
       "-0.320101340185\n",
       "-0.323449278018\n",
       "-0.322321432526\n",
       "-0.324824381387\n",
       "-0.319276529714\n",
       "-0.329714281019\n",
       "-0.323843126884)"
      ]
     },
     "execution_count": 21,
     "metadata": {},
     "output_type": "execute_result"
    }
   ],
   "source": [
    "m.phase(tt)"
   ]
  },
  {
   "cell_type": "markdown",
   "metadata": {},
   "source": [
    "## Residuals"
   ]
  },
  {
   "cell_type": "code",
   "execution_count": 22,
   "metadata": {
    "collapsed": false
   },
   "outputs": [],
   "source": [
    "import pint.residuals as r"
   ]
  },
  {
   "cell_type": "code",
   "execution_count": 23,
   "metadata": {
    "collapsed": false
   },
   "outputs": [
    {
     "name": "stderr",
     "output_type": "stream",
     "text": [
      "/opt/local/Library/Frameworks/Python.framework/Versions/2.7/lib/python2.7/site-packages/astropy/table/column.py:264: FutureWarning: comparison to `None` will result in an elementwise object comparison in the future.\n",
      "  return self.data.__eq__(other)\n"
     ]
    }
   ],
   "source": [
    "rs = r.resids(t, m).phase_resids"
   ]
  },
  {
   "cell_type": "code",
   "execution_count": 24,
   "metadata": {
    "collapsed": false
   },
   "outputs": [
    {
     "data": {
      "image/png": "[encoded data removed]",
      "text/plain": [
       "<matplotlib.figure.Figure at 0x11533f510>"
      ]
     },
     "metadata": {},
     "output_type": "display_data"
    }
   ],
   "source": [
    "# The get_mjds() function returns float MJDs for easy plotting, rather than astropy Time objects\n",
    "plt.plot(t.get_mjds(), rs, 'x')\n",
    "plt.title(\"%s Pre-Fit Timing Residuals\" % m.PSR.value)\n",
    "plt.xlabel('MJD'); plt.ylabel('Residual (phase)')\n",
    "plt.grid()\n"
   ]
  },
  {
   "cell_type": "markdown",
   "metadata": {},
   "source": [
    "## Fitting and Post-Fit residuals"
   ]
  },
  {
   "cell_type": "markdown",
   "metadata": {},
   "source": [
    "The fitter is *completely* separate from the model and the TOA code.  So you can use any type of fitter with some easy coding.  This example uses a very simple Powell minimizer from the SciPy optimize module. "
   ]
  },
  {
   "cell_type": "code",
   "execution_count": 25,
   "metadata": {
    "collapsed": false
   },
   "outputs": [
    {
     "data": {
      "text/plain": [
       "59.574293804883782028"
      ]
     },
     "execution_count": 25,
     "metadata": {},
     "output_type": "execute_result"
    }
   ],
   "source": [
    "import pint.fitter as fit\n",
    "f = fit.WlsFitter(t, m)\n",
    "f.fit_toas()"
   ]
  },
  {
   "cell_type": "code",
   "execution_count": 26,
   "metadata": {
    "collapsed": false
   },
   "outputs": [
    {
     "name": "stdout",
     "output_type": "stream",
     "text": [
      "Best fit has reduced chi^2 of 1.04516304921\n",
      "RMS in phase is 0.00204957448388\n",
      "RMS in time is 33.3342863834 us\n",
      "\n",
      " Best model is:\n",
      "PSR                            1748-2021E\n",
      "PLANET_SHAPIRO                          N\n",
      "DM                          224.113797386 1 0.0349389804941\n",
      "F0                  61.485476554372500035 1 1.80860843928e-11\n",
      "F1                     -1.18133163072e-15 1 1.44185403861e-18\n",
      "TZRMJD              53801.386051182230000\n",
      "PEPOCH              53750.000000000000000\n",
      "POSEPOCH            53750.000000000000000\n",
      "PX                                    0.0\n",
      "RAJ                     17:48:52.80034692 1 1.04356952778e-11\n",
      "DECJ                   -20:21:29.38330663 1 2.53484051917e-09\n",
      "PMRA                                  0.0\n",
      "PMDEC                                 0.0\n",
      "UNITS TDB\n",
      "\n"
     ]
    }
   ],
   "source": [
    "print(\"Best fit has reduced chi^2 of\", f.resids.chi2_reduced)\n",
    "print(\"RMS in phase is\", f.resids.phase_resids.std())\n",
    "print(\"RMS in time is\", f.resids.time_resids.std().to(u.us))\n",
    "print(\"\\n Best model is:\")\n",
    "print(f.model.as_parfile())\n"
   ]
  },
  {
   "cell_type": "code",
   "execution_count": 27,
   "metadata": {
    "collapsed": false
   },
   "outputs": [
    {
     "data": {
      "image/png": "[encoded data removed]",
      "text/plain": [
       "<matplotlib.figure.Figure at 0x11492b2d0>"
      ]
     },
     "metadata": {},
     "output_type": "display_data"
    }
   ],
   "source": [
    "plt.errorbar(t.get_mjds(),\n",
    "             f.resids.time_resids.to(u.us).value,\n",
    "             t.get_errors().to(u.us).value, fmt='x')\n",
    "plt.title(\"%s Post-Fit Timing Residuals\" % m.PSR.value)\n",
    "plt.xlabel('MJD'); plt.ylabel('Residual (us)')\n",
    "plt.grid()"
   ]
  },
  {
   "cell_type": "markdown",
   "metadata": {},
   "source": [
    "## Other interesting things"
   ]
  },
  {
   "cell_type": "markdown",
   "metadata": {},
   "source": [
    "We can make Barycentered TOAs in a single line!"
   ]
  },
  {
   "cell_type": "code",
   "execution_count": 28,
   "metadata": {
    "collapsed": false
   },
   "outputs": [
    {
     "data": {
      "text/latex": [
       "$[53478.29,~53483.281,~53489.473,~53679.872,~53679.872,~53679.872,~53679.872,~53679.872,~53681.697,~53681.951,~53683.733,~53685.734,~53687.683,~53687.946,~53690.846,~53695.691,~53695.855,~53700.715,~53700.862,~53709.633,~53709.805,~53740.563,~53740.77,~53801.386,~53801.591,~53833.301,~53833.505,~53843.336,~53865.19,~53865.381,~53895.119,~53895.33,~53920.059,~53920.246,~53954.977,~53955.179,~53980.905,~53981.122,~54010.821,~54011.031,~54050.701,~54050.942,~54093.652,~54095.648,~54098.66,~54099.705,~54148.684,~54150.423,~54151.525,~54152.716,~54153.547,~54160.522,~54187.333,~54187.589,~54099.705,~54099.705,~54099.705,~54099.705,~54099.705,~54099.705,~54099.705,~54099.705] \\; \\mathrm{d}$"
      ],
      "text/plain": [
       "<Quantity [ 53478.29, 53483.281, 53489.473, 53679.872, 53679.872,\n",
       "            53679.872, 53679.872, 53679.872, 53681.697, 53681.951,\n",
       "            53683.733, 53685.734, 53687.683, 53687.946, 53690.846,\n",
       "            53695.691, 53695.855, 53700.715, 53700.862, 53709.633,\n",
       "            53709.805, 53740.563, 53740.77, 53801.386, 53801.591,\n",
       "            53833.301, 53833.505, 53843.336, 53865.19, 53865.381,\n",
       "            53895.119, 53895.33, 53920.059, 53920.246, 53954.977,\n",
       "            53955.179, 53980.905, 53981.122, 54010.821, 54011.031,\n",
       "            54050.701, 54050.942, 54093.652, 54095.648, 54098.66,\n",
       "            54099.705, 54148.684, 54150.423, 54151.525, 54152.716,\n",
       "            54153.547, 54160.522, 54187.333, 54187.589, 54099.705,\n",
       "            54099.705, 54099.705, 54099.705, 54099.705, 54099.705,\n",
       "            54099.705, 54099.705] d>"
      ]
     },
     "execution_count": 28,
     "metadata": {},
     "output_type": "execute_result"
    }
   ],
   "source": [
    "m.get_barycentric_toas(tt)"
   ]
  },
  {
   "cell_type": "code",
   "execution_count": null,
   "metadata": {
    "collapsed": true
   },
   "outputs": [],
   "source": []
  }
 ],
 "metadata": {
  "kernelspec": {
   "display_name": "Python 2",
   "language": "python",
   "name": "python2"
  },
  "language_info": {
   "codemirror_mode": {
    "name": "ipython",
    "version": 2
   },
   "file_extension": ".py",
   "mimetype": "text/x-python",
   "name": "python",
   "nbconvert_exporter": "python",
   "pygments_lexer": "ipython2",
   "version": "2.7.13"
  }
 },
 "nbformat": 4,
 "nbformat_minor": 0
}
