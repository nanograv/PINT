{
 "cells": [
  {
   "cell_type": "markdown",
   "metadata": {
    "collapsed": false
   },
   "source": [
    "# Timing Model useage example"
   ]
  },
  {
   "cell_type": "markdown",
   "metadata": {},
   "source": [
    "## Build a timing model "
   ]
  },
  {
   "cell_type": "code",
   "execution_count": 1,
   "metadata": {
    "collapsed": true
   },
   "outputs": [],
   "source": [
    "from pint.models import get_model"
   ]
  },
  {
   "cell_type": "markdown",
   "metadata": {},
   "source": [
    "One can build a timing model via get_model() method. get_model() will make the model according to the .par file. All the model components, delays or phases, will be stored in order. "
   ]
  },
  {
   "cell_type": "code",
   "execution_count": 4,
   "metadata": {
    "collapsed": false
   },
   "outputs": [
    {
     "name": "stdout",
     "output_type": "stream",
     "text": [
      "186.494081567 Hz\n",
      "Hz\n",
      "Spin-frequency\n"
     ]
    },
    {
     "name": "stderr",
     "output_type": "stream",
     "text": [
      "WARNING: Unrecognized parfile line 'EPHVER         5' [pint.models.timing_model]\n",
      "WARNING: Unrecognized parfile line 'MODE 1' [pint.models.timing_model]\n",
      "WARNING: Unrecognized parfile line 'T2CMETHOD      TEMPO' [pint.models.timing_model]\n",
      "WARNING: Unrecognized parfile line 'NE_SW          0.000' [pint.models.timing_model]\n",
      "WARNING: Unrecognized parfile line 'CHI2R          2.1896 637' [pint.models.timing_model]\n"
     ]
    }
   ],
   "source": [
    "par = 'B1855+09_NANOGrav_dfg+12_TAI.par'\n",
    "m = get_model(par)\n"
   ]
  },
  {
   "cell_type": "code",
   "execution_count": 5,
   "metadata": {
    "collapsed": false
   },
   "outputs": [
    {
     "name": "stdout",
     "output_type": "stream",
     "text": [
      "186.494081567 Hz\n",
      "Hz\n",
      "Spin-frequency\n"
     ]
    }
   ],
   "source": [
    "print m.F0.quantity\n",
    "print m.F0.units\n",
    "print m.F0.description"
   ]
  },
  {
   "cell_type": "code",
   "execution_count": 25,
   "metadata": {
    "collapsed": false
   },
   "outputs": [
    {
     "data": {
      "text/plain": [
       "<bound method DispersionDMX.dispersion_delay of <pint.models.dispersion_model.DispersionDMX object at 0x10fdb9e90>>"
      ]
     },
     "execution_count": 25,
     "metadata": {},
     "output_type": "execute_result"
    }
   ],
   "source": [
    "m.dispersion_delay"
   ]
  },
  {
   "cell_type": "markdown",
   "metadata": {},
   "source": [
    "To take a look what type of model component are in the model"
   ]
  },
  {
   "cell_type": "code",
   "execution_count": null,
   "metadata": {
    "collapsed": false
   },
   "outputs": [],
   "source": [
    "m.component_types # We have delay component and phase component "
   ]
  },
  {
   "cell_type": "markdown",
   "metadata": {},
   "source": [
    "TimingModel class stores the delay model components and phase components in the lists "
   ]
  },
  {
   "cell_type": "code",
   "execution_count": 21,
   "metadata": {
    "collapsed": false
   },
   "outputs": [
    {
     "data": {
      "text/plain": [
       "[<pint.models.astrometry.AstrometryEquatorial at 0x10fe473d0>,\n",
       " <pint.models.jump.JumpDelay at 0x10fcd3050>,\n",
       " <pint.models.solar_system_shapiro.SolarSystemShapiro at 0x10fe47ad0>,\n",
       " <pint.models.astrometry.AstrometryEcliptic at 0x10fedcdd0>,\n",
       " <pint.models.dispersion_model.DispersionDMX at 0x10fdb9e90>,\n",
       " <pint.models.binary_dd.BinaryDD at 0x10fcfef10>]"
      ]
     },
     "execution_count": 21,
     "metadata": {},
     "output_type": "execute_result"
    }
   ],
   "source": [
    "m.DelayComponent_list # Delays are stored in the DelayComponent_list"
   ]
  },
  {
   "cell_type": "code",
   "execution_count": null,
   "metadata": {
    "collapsed": false
   },
   "outputs": [],
   "source": [
    "m.PhaseComponent_list # phases are stored in the PhaseComponent_list"
   ]
  },
  {
   "cell_type": "markdown",
   "metadata": {},
   "source": [
    "To add a component:"
   ]
  },
  {
   "cell_type": "code",
   "execution_count": 18,
   "metadata": {
    "collapsed": true
   },
   "outputs": [],
   "source": [
    "from pint.models.astrometry import AstrometryEcliptic"
   ]
  },
  {
   "cell_type": "code",
   "execution_count": 19,
   "metadata": {
    "collapsed": false
   },
   "outputs": [],
   "source": [
    "a = AstrometryEcliptic() # init the AstrometryEcliptic instance"
   ]
  },
  {
   "cell_type": "markdown",
   "metadata": {},
   "source": [
    "Add the new component instance into time model with order 3"
   ]
  },
  {
   "cell_type": "code",
   "execution_count": 20,
   "metadata": {
    "collapsed": false
   },
   "outputs": [],
   "source": [
    "m.add_component(a, 3)"
   ]
  },
  {
   "cell_type": "code",
   "execution_count": 22,
   "metadata": {
    "collapsed": false
   },
   "outputs": [
    {
     "data": {
      "text/plain": [
       "[<pint.models.astrometry.AstrometryEquatorial at 0x10fe473d0>,\n",
       " <pint.models.jump.JumpDelay at 0x10fcd3050>,\n",
       " <pint.models.solar_system_shapiro.SolarSystemShapiro at 0x10fe47ad0>,\n",
       " <pint.models.astrometry.AstrometryEcliptic at 0x10fedcdd0>,\n",
       " <pint.models.dispersion_model.DispersionDMX at 0x10fdb9e90>,\n",
       " <pint.models.binary_dd.BinaryDD at 0x10fcfef10>]"
      ]
     },
     "execution_count": 22,
     "metadata": {},
     "output_type": "execute_result"
    }
   ],
   "source": [
    "m.DelayComponent_list # The new instance is added to delay component list \n",
    "                      # index 3"
   ]
  },
  {
   "cell_type": "markdown",
   "metadata": {},
   "source": [
    "To remove a component is simple. Just use remove it from the list. You can map the component instance using name string via map_component() method"
   ]
  },
  {
   "cell_type": "code",
   "execution_count": null,
   "metadata": {
    "collapsed": false
   },
   "outputs": [],
   "source": [
    "component, order, from_list, comp_type = \\\n",
    "    m.map_component('AstrometryEcliptic')\n",
    "from_list.remove(component)"
   ]
  },
  {
   "cell_type": "code",
   "execution_count": null,
   "metadata": {
    "collapsed": false
   },
   "outputs": [],
   "source": [
    "m.DelayComponent_list # AstrometryEcliptic is removed from delay list. "
   ]
  },
  {
   "cell_type": "markdown",
   "metadata": {},
   "source": [
    "To switch the order of a component, just change the index in the component list. "
   ]
  },
  {
   "cell_type": "code",
   "execution_count": null,
   "metadata": {
    "collapsed": false
   },
   "outputs": [],
   "source": [
    "# First map the component instance\n",
    "component, order, from_list, comp_type = \\\n",
    "    m.map_component('JumpDelay')\n",
    "# If one wants to move this component to a new order without swapping\n",
    "from_list.remove(component)\n",
    "from_list.insert(5, component)"
   ]
  },
  {
   "cell_type": "code",
   "execution_count": null,
   "metadata": {
    "collapsed": false
   },
   "outputs": [],
   "source": [
    "m.DelayComponent_list"
   ]
  },
  {
   "cell_type": "code",
   "execution_count": null,
   "metadata": {
    "collapsed": true
   },
   "outputs": [],
   "source": [
    "# If one wants to swap with other component\n",
    "component, order, from_list, comp_type = \\\n",
    "    m.map_component('JumpDelay')\n",
    "new_order = 2\n",
    "from_list[order], from_list[new_order] = from_list[new_order], from_list[order]"
   ]
  },
  {
   "cell_type": "code",
   "execution_count": null,
   "metadata": {
    "collapsed": false
   },
   "outputs": [],
   "source": [
    "m.DelayComponent_list"
   ]
  },
  {
   "cell_type": "markdown",
   "metadata": {},
   "source": [
    "Delays will be computed in order. "
   ]
  },
  {
   "cell_type": "code",
   "execution_count": null,
   "metadata": {
    "collapsed": false
   },
   "outputs": [],
   "source": [
    "# First get the toas\n",
    "from pint.toa import get_TOAs\n",
    "t = get_TOAs('../tests/datafile/B1855+09_NANOGrav_dfg+12.tim')"
   ]
  },
  {
   "cell_type": "code",
   "execution_count": null,
   "metadata": {
    "collapsed": false
   },
   "outputs": [],
   "source": [
    "# compute the total delay\n",
    "total_delay = m.delay(t.table)\n",
    "total_delay"
   ]
  },
  {
   "cell_type": "markdown",
   "metadata": {},
   "source": [
    "One can get the delay upto some component. For example, I want to the delay computation stop at jump delay."
   ]
  },
  {
   "cell_type": "code",
   "execution_count": null,
   "metadata": {
    "collapsed": false
   },
   "outputs": [],
   "source": [
    "to_jump_delay = m.delay(t.table, cutoff_component='JumpDelay')\n",
    "to_jump_delay"
   ]
  },
  {
   "cell_type": "code",
   "execution_count": null,
   "metadata": {
    "collapsed": false
   },
   "outputs": [],
   "source": [
    "m.F1"
   ]
  },
  {
   "cell_type": "code",
   "execution_count": null,
   "metadata": {
    "collapsed": true
   },
   "outputs": [],
   "source": []
  }
 ],
 "metadata": {
  "anaconda-cloud": {},
  "kernelspec": {
   "display_name": "Python [default]",
   "language": "python",
   "name": "python2"
  },
  "language_info": {
   "codemirror_mode": {
    "name": "ipython",
    "version": 2
   },
   "file_extension": ".py",
   "mimetype": "text/x-python",
   "name": "python",
   "nbconvert_exporter": "python",
   "pygments_lexer": "ipython2",
   "version": "2.7.12"
  }
 },
 "nbformat": 4,
 "nbformat_minor": 2
}
