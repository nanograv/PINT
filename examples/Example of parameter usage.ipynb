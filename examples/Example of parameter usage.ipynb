{
 "cells": [
  {
   "cell_type": "markdown",
   "metadata": {},
   "source": [
    "# Example of parameter usage"
   ]
  },
  {
   "cell_type": "code",
   "execution_count": 1,
   "metadata": {
    "collapsed": false
   },
   "outputs": [],
   "source": [
    "import pint.models.model_builder as mb\n",
    "import pint.models.parameter as pp\n",
    "import astropy.units as u\n",
    "from astropy.coordinates.angles import Angle"
   ]
  },
  {
   "cell_type": "code",
   "execution_count": 2,
   "metadata": {
    "collapsed": false
   },
   "outputs": [
    {
     "name": "stderr",
     "output_type": "stream",
     "text": [
      "WARNING: Unrecognized parfile line 'DMEPOCH        49453' [pint.models.timing_model]\n",
      "WARNING: Unrecognized parfile line 'EPHVER         5' [pint.models.timing_model]\n",
      "WARNING: Unrecognized parfile line 'MODE 1' [pint.models.timing_model]\n",
      "WARNING: Unrecognized parfile line 'T2CMETHOD      TEMPO' [pint.models.timing_model]\n",
      "WARNING: Unrecognized parfile line 'NE_SW          0.000' [pint.models.timing_model]\n",
      "WARNING: Unrecognized parfile line 'CHI2R          2.1896 637' [pint.models.timing_model]\n"
     ]
    }
   ],
   "source": [
    "model = mb.get_model('../tests/datafile/B1855+09_NANOGrav_dfg+12_TAI.par')"
   ]
  },
  {
   "cell_type": "code",
   "execution_count": 3,
   "metadata": {
    "collapsed": false
   },
   "outputs": [
    {
     "name": "stdout",
     "output_type": "stream",
     "text": [
      "['PSR', 'POSEPOCH', 'PX', 'RAJ', 'DECJ', 'PMRA', 'PMDEC', 'F0', 'F1', 'TZRMJD', 'PEPOCH', 'PLANET_SHAPIRO', 'DM', 'DMX', 'DMX_0001', 'DMXR1_0001', 'DMXR2_0001', 'PB', 'PBDOT', 'A1', 'A1DOT', 'ECC', 'EDOT', 'T0', 'OM', 'OMDOT', 'M2', 'SINI', 'A0', 'B0', 'GAMMA', 'DR', 'DTH', 'JUMP1', 'DMXR2_0022', 'DMXR2_0023', 'DMXR2_0020', 'DMXR2_0021', 'DMXR2_0026', 'DMXR2_0027', 'DMXR2_0024', 'DMXR2_0025', 'DMXR2_0028', 'DMXR2_0029', 'DMXR2_0030', 'DMXR2_0004', 'DMXR2_0005', 'DMXR2_0006', 'DMXR2_0007', 'DMXR2_0002', 'DMXR2_0003', 'DMXR2_0008', 'DMXR2_0009', 'DMXR2_0019', 'DMXR2_0018', 'DMXR2_0013', 'DMXR2_0012', 'DMXR2_0011', 'DMXR2_0010', 'DMXR2_0017', 'DMXR2_0016', 'DMXR2_0015', 'DMXR2_0014', 'DMXR1_0003', 'DMXR1_0018', 'DMXR1_0019', 'DMXR1_0016', 'DMXR1_0017', 'DMXR1_0014', 'DMXR1_0015', 'DMXR1_0012', 'DMXR1_0013', 'DMXR1_0010', 'DMXR1_0011', 'DMXR1_0009', 'DMXR1_0008', 'DMXR1_0005', 'DMXR1_0004', 'DMXR1_0007', 'DMXR1_0006', 'DMXR1_0002', 'DMXR1_0030', 'DMXR1_0029', 'DMXR1_0027', 'DMXR1_0026', 'DMXR1_0025', 'DMXR1_0024', 'DMXR1_0023', 'DMXR1_0022', 'DMXR1_0021', 'DMXR1_0020', 'DMXR1_0028', 'DMX_0009', 'DMX_0020', 'DMX_0021', 'DMX_0022', 'DMX_0023', 'DMX_0024', 'DMX_0025', 'DMX_0026', 'DMX_0027', 'DMX_0028', 'DMX_0029', 'DMX_0030', 'DMX_0006', 'DMX_0007', 'DMX_0004', 'DMX_0005', 'DMX_0008', 'DMX_0019', 'DMX_0018', 'DMX_0011', 'DMX_0010', 'DMX_0013', 'DMX_0012', 'DMX_0015', 'DMX_0014', 'DMX_0017', 'DMX_0016', 'DMX_0002', 'DMX_0003', 'JUMP9', 'JUMP3', 'JUMP2', 'JUMP5', 'JUMP4', 'JUMP7', 'JUMP6', 'JUMP11', 'JUMP10', 'JUMP13', 'JUMP12', 'JUMP15', 'JUMP14', 'JUMP17', 'JUMP16', 'JUMP19', 'JUMP18', 'JUMP8', 'JUMP20', 'JUMP21']\n"
     ]
    }
   ],
   "source": [
    "print model.params"
   ]
  },
  {
   "cell_type": "markdown",
   "metadata": {},
   "source": [
    "## Attributions in Parameters"
   ]
  },
  {
   "cell_type": "code",
   "execution_count": 4,
   "metadata": {
    "collapsed": false
   },
   "outputs": [
    {
     "name": "stdout",
     "output_type": "stream",
     "text": [
      "Name            PSR\n",
      "Type            <class 'pint.models.parameter.strParameter'>\n",
      "Quantity        1855+09 <type 'str'>\n",
      "Value           1855+09\n",
      "units           None\n",
      "Uncertainty     None\n",
      "Uncertainty_value None\n",
      "Summary         PSR 1855+09\n",
      "Parfile Style   PSR                               1855+09\n",
      "\n",
      "\n",
      "\n",
      "Name            POSEPOCH\n",
      "Type            <class 'pint.models.parameter.MJDParameter'>\n",
      "Quantity        49453.0 <class 'astropy.time.core.Time'>\n",
      "Value           49453.0\n",
      "units           d\n",
      "Uncertainty     None\n",
      "Uncertainty_value None\n",
      "Summary         POSEPOCH (d) 49453.000000000000000\n",
      "Parfile Style   POSEPOCH            49453.000000000000000\n",
      "\n",
      "\n",
      "\n",
      "Name            PX\n",
      "Type            <class 'pint.models.parameter.floatParameter'>\n",
      "Quantity        1.22885690633 mas <class 'astropy.units.quantity.Quantity'>\n",
      "Value           1.22885690633\n",
      "units           mas\n",
      "Uncertainty     0.212433612892 mas\n",
      "Uncertainty_value 0.212433612892\n",
      "Summary         PX (mas) 1.22885690633 +/- 0.212433612892 mas\n",
      "Parfile Style   PX                          1.22885690633 1 0.212433612892\n",
      "\n",
      "\n",
      "\n",
      "Name            RAJ\n",
      "Type            <class 'pint.models.parameter.AngleParameter'>\n",
      "Quantity        18h57m36.3933s <class 'astropy.coordinates.angles.Angle'>\n",
      "Value           18.9601092468\n",
      "units           hourangle\n",
      "Uncertainty     0h00m00s\n",
      "Uncertainty_value 7.22980633528e-09\n",
      "Summary         RAJ (hourangle) 18:57:36.39328840 +/- 0h00m00s\n",
      "Parfile Style   RAJ                     18:57:36.39328840 1 7.22980633528e-09\n",
      "\n",
      "\n",
      "\n",
      "Name            F1\n",
      "Type            <class 'pint.models.parameter.prefixParameter'>\n",
      "Quantity        -6.20495472775e-16 Hz / s <class 'astropy.units.quantity.Quantity'>\n",
      "Value           -6.20495472775e-16\n",
      "units           Hz / s\n",
      "Uncertainty     1.73809343736e-20 Hz / s\n",
      "Uncertainty_value 1.73809343736e-20\n",
      "Summary         <pint.models.parameter.prefixParameter object at 0x10649e7d0>\n",
      "Parfile Style   F1              -6.2049547277487420583e-16 1 1.73809343736e-20\n",
      "\n",
      "\n",
      "\n",
      "Name            PLANET_SHAPIRO\n",
      "Type            <class 'pint.models.parameter.boolParameter'>\n",
      "Quantity        False <type 'bool'>\n",
      "Value           False\n",
      "units           None\n",
      "Uncertainty     None\n",
      "Uncertainty_value None\n",
      "Summary         PLANET_SHAPIRO N\n",
      "Parfile Style   PLANET_SHAPIRO                          N\n",
      "\n",
      "\n",
      "\n",
      "Name            JUMP1\n",
      "Type            <class 'pint.models.parameter.maskParameter'>\n",
      "Quantity        7.64565276994e-07 s <class 'astropy.units.quantity.Quantity'>\n",
      "Value           7.64565276994e-07\n",
      "units           s\n",
      "Uncertainty     0.0 s\n",
      "Uncertainty_value 0.0\n",
      "Summary         JUMP1 (s) 7.64565276994e-07 +/- 0.0 s\n",
      "Parfile Style   JUMP            -chanid asp_424         7.64565276994e-07 1 0.0\n",
      "\n",
      "\n",
      "\n"
     ]
    }
   ],
   "source": [
    "printed = []\n",
    "for p in model.params:\n",
    "    par = getattr(model, p)\n",
    "    if type(par) in printed:\n",
    "        continue\n",
    "    print 'Name           ', par.name\n",
    "    print 'Type           ', type(par)\n",
    "    print 'Quantity       ', par.quantity, type(par.quantity)\n",
    "    print 'Value          ', par.value\n",
    "    print 'units          ', par.units\n",
    "    print 'Uncertainty    ', par.uncertainty\n",
    "    print 'Uncertainty_value', par.uncertainty_value\n",
    "    print 'Summary        ', par\n",
    "    print 'Parfile Style  ', par.as_parfile_line()\n",
    "    print '\\n'\n",
    "    printed.append(type(par))\n",
    "# Note JUMP and DMX is different. "
   ]
  },
  {
   "cell_type": "markdown",
   "metadata": {},
   "source": [
    "## Making a parameter"
   ]
  },
  {
   "cell_type": "code",
   "execution_count": 5,
   "metadata": {
    "collapsed": false
   },
   "outputs": [
    {
     "name": "stdout",
     "output_type": "stream",
     "text": [
      "TEST (Hz) 100.0 +/- 0.03 Hz\n"
     ]
    }
   ],
   "source": [
    "t = pp.floatParameter(name='TEST', value=100, units='Hz',uncertainty=.03)\n",
    "print t"
   ]
  },
  {
   "cell_type": "code",
   "execution_count": 6,
   "metadata": {
    "collapsed": false
   },
   "outputs": [
    {
     "name": "stdout",
     "output_type": "stream",
     "text": [
      "TEST (Hz) 200.0 +/- 0.04 Hz\n"
     ]
    }
   ],
   "source": [
    "t2 = pp.floatParameter(name='TEST', value='200', units='Hz',uncertainty='.04')\n",
    "print t2"
   ]
  },
  {
   "cell_type": "code",
   "execution_count": 7,
   "metadata": {
    "collapsed": false
   },
   "outputs": [
    {
     "name": "stdout",
     "output_type": "stream",
     "text": [
      "TEST (Hz) 300.0 +/- 0.04 Hz\n",
      "0.3 kHz\n",
      "300.0\n",
      "4e-05 kHz\n",
      "0.04\n"
     ]
    }
   ],
   "source": [
    "t3 = pp.floatParameter(name='TEST', value=0.3*u.kHz, units='Hz',uncertainty=4e-5*u.kHz)\n",
    "print t3\n",
    "print t3.quantity\n",
    "print t3.value\n",
    "print t3.uncertainty\n",
    "print t3.uncertainty_value"
   ]
  },
  {
   "cell_type": "markdown",
   "metadata": {},
   "source": [
    "## Change Parameter quantity of value"
   ]
  },
  {
   "cell_type": "code",
   "execution_count": 8,
   "metadata": {
    "collapsed": false
   },
   "outputs": [
    {
     "name": "stdout",
     "output_type": "stream",
     "text": [
      "F0 (Hz) 186.49408156698235146 +/- 6.98911818e-12 Hz\n",
      "Quantity        200.0 Hz <class 'astropy.units.quantity.Quantity'>\n",
      "Value           200.0\n",
      "F0 (Hz) 200.0 +/- 6.98911818e-12 Hz\n"
     ]
    }
   ],
   "source": [
    "par = model.F0\n",
    "print par\n",
    "par.quantity = 200\n",
    "print 'Quantity       ', par.quantity, type(par.quantity)\n",
    "print 'Value          ', par.value\n",
    "print par"
   ]
  },
  {
   "cell_type": "code",
   "execution_count": 9,
   "metadata": {
    "collapsed": false
   },
   "outputs": [
    {
     "name": "stdout",
     "output_type": "stream",
     "text": [
      "F0 (Hz) 200.0 +/- 6.98911818e-12 Hz\n",
      "Quantity        150.0 Hz <class 'astropy.units.quantity.Quantity'>\n",
      "Value           150.0\n",
      "F0 (Hz) 150.0 +/- 6.98911818e-12 Hz\n"
     ]
    }
   ],
   "source": [
    "# Test F0\n",
    "print par\n",
    "par.value = 150\n",
    "print 'Quantity       ', par.quantity, type(par.quantity)\n",
    "print 'Value          ', par.value\n",
    "print par"
   ]
  },
  {
   "cell_type": "code",
   "execution_count": 10,
   "metadata": {
    "collapsed": false
   },
   "outputs": [
    {
     "name": "stdout",
     "output_type": "stream",
     "text": [
      "F0 (Hz) 150.0 +/- 6.98911818e-12 Hz\n",
      "Quantity        100.0 Hz <class 'astropy.units.quantity.Quantity'>\n",
      "Value           100.0\n",
      "F0 (Hz) 100.0 +/- 6.98911818e-12 Hz\n"
     ]
    }
   ],
   "source": [
    "# Example for F0\n",
    "print par\n",
    "par.value = '100'\n",
    "print 'Quantity       ', par.quantity, type(par.quantity)\n",
    "print 'Value          ', par.value\n",
    "print par"
   ]
  },
  {
   "cell_type": "code",
   "execution_count": 11,
   "metadata": {
    "collapsed": false
   },
   "outputs": [
    {
     "name": "stdout",
     "output_type": "stream",
     "text": [
      "F0 (Hz) 100.0 +/- 6.98911818e-12 Hz\n",
      "Quantity        300.0 Hz <class 'astropy.units.quantity.Quantity'>\n",
      "Value           300.0\n",
      "F0 (Hz) 300.0 +/- 6.98911818e-12 Hz\n"
     ]
    }
   ],
   "source": [
    "# Example for F0\n",
    "print par\n",
    "par.quantity = '300'\n",
    "print 'Quantity       ', par.quantity, type(par.quantity)\n",
    "print 'Value          ', par.value\n",
    "print par"
   ]
  },
  {
   "cell_type": "code",
   "execution_count": 12,
   "metadata": {
    "collapsed": false
   },
   "outputs": [
    {
     "name": "stdout",
     "output_type": "stream",
     "text": [
      "Quantity        0.3 kHz <class 'astropy.units.quantity.Quantity'>\n",
      "Value           300.0\n",
      "F0 (Hz) 299.9999999999999889 +/- 6.98911818e-12 Hz\n"
     ]
    }
   ],
   "source": [
    "# Examle  F0\n",
    "par.quantity = 0.3*u.kHz\n",
    "print 'Quantity       ', par.quantity, type(par.quantity)\n",
    "print 'Value          ', par.value\n",
    "print par "
   ]
  },
  {
   "cell_type": "code",
   "execution_count": 13,
   "metadata": {
    "collapsed": false
   },
   "outputs": [
    {
     "name": "stdout",
     "output_type": "stream",
     "text": [
      "F0 (Hz) 299.9999999999999889 +/- 6.98911818e-12 Hz\n"
     ]
    },
    {
     "ename": "UnitConversionError",
     "evalue": "'s' (time) and 'Hz' (frequency) are not convertible",
     "output_type": "error",
     "traceback": [
      "\u001b[0;31m---------------------------------------------------------------------------\u001b[0m",
      "\u001b[0;31mUnitConversionError\u001b[0m                       Traceback (most recent call last)",
      "\u001b[0;32m<ipython-input-13-859e91435dcd>\u001b[0m in \u001b[0;36m<module>\u001b[0;34m()\u001b[0m\n\u001b[1;32m      1\u001b[0m \u001b[0;31m# Examle  F0\u001b[0m\u001b[0;34m\u001b[0m\u001b[0;34m\u001b[0m\u001b[0m\n\u001b[1;32m      2\u001b[0m \u001b[0;32mprint\u001b[0m \u001b[0mpar\u001b[0m\u001b[0;34m\u001b[0m\u001b[0m\n\u001b[0;32m----> 3\u001b[0;31m \u001b[0mpar\u001b[0m\u001b[0;34m.\u001b[0m\u001b[0mvalue\u001b[0m \u001b[0;34m=\u001b[0m \u001b[0;36m100\u001b[0m\u001b[0;34m*\u001b[0m\u001b[0mu\u001b[0m\u001b[0;34m.\u001b[0m\u001b[0msecond\u001b[0m  \u001b[0;31m# SET F0 to seconds as time.\u001b[0m\u001b[0;34m\u001b[0m\u001b[0m\n\u001b[0m\u001b[1;32m      4\u001b[0m \u001b[0;32mprint\u001b[0m \u001b[0;34m'Quantity       '\u001b[0m\u001b[0;34m,\u001b[0m \u001b[0mpar\u001b[0m\u001b[0;34m.\u001b[0m\u001b[0mquantity\u001b[0m\u001b[0;34m,\u001b[0m \u001b[0mtype\u001b[0m\u001b[0;34m(\u001b[0m\u001b[0mpar\u001b[0m\u001b[0;34m.\u001b[0m\u001b[0mquantity\u001b[0m\u001b[0;34m)\u001b[0m\u001b[0;34m\u001b[0m\u001b[0m\n\u001b[1;32m      5\u001b[0m \u001b[0;32mprint\u001b[0m \u001b[0;34m'Value          '\u001b[0m\u001b[0;34m,\u001b[0m \u001b[0mpar\u001b[0m\u001b[0;34m.\u001b[0m\u001b[0mvalue\u001b[0m\u001b[0;34m\u001b[0m\u001b[0m\n",
      "\u001b[0;32m/Users/paulr/Library/Python/2.7/lib/python/site-packages/pint-0.0.1-py2.7-macosx-10.11-x86_64.egg/pint/models/parameter.pyc\u001b[0m in \u001b[0;36mvalue\u001b[0;34m(self, val)\u001b[0m\n\u001b[1;32m    220\u001b[0m             \u001b[0;32melse\u001b[0m\u001b[0;34m:\u001b[0m\u001b[0;34m\u001b[0m\u001b[0m\n\u001b[1;32m    221\u001b[0m                 \u001b[0mself\u001b[0m\u001b[0;34m.\u001b[0m\u001b[0mvalue\u001b[0m \u001b[0;34m=\u001b[0m \u001b[0mval\u001b[0m\u001b[0;34m\u001b[0m\u001b[0m\n\u001b[0;32m--> 222\u001b[0;31m         \u001b[0mself\u001b[0m\u001b[0;34m.\u001b[0m\u001b[0m_quantity\u001b[0m \u001b[0;34m=\u001b[0m \u001b[0mself\u001b[0m\u001b[0;34m.\u001b[0m\u001b[0mset_quantity\u001b[0m\u001b[0;34m(\u001b[0m\u001b[0mval\u001b[0m\u001b[0;34m)\u001b[0m\u001b[0;34m\u001b[0m\u001b[0m\n\u001b[0m\u001b[1;32m    223\u001b[0m \u001b[0;34m\u001b[0m\u001b[0m\n\u001b[1;32m    224\u001b[0m     \u001b[0;34m@\u001b[0m\u001b[0mproperty\u001b[0m\u001b[0;34m\u001b[0m\u001b[0m\n",
      "\u001b[0;32m/Users/paulr/Library/Python/2.7/lib/python/site-packages/pint-0.0.1-py2.7-macosx-10.11-x86_64.egg/pint/models/parameter.pyc\u001b[0m in \u001b[0;36mset_quantity_float\u001b[0;34m(self, val)\u001b[0m\n\u001b[1;32m    445\u001b[0m         \u001b[0;32mtry\u001b[0m\u001b[0;34m:\u001b[0m\u001b[0;34m\u001b[0m\u001b[0m\n\u001b[1;32m    446\u001b[0m             \u001b[0;31m# If this fails, it will raise UnitConversionError\u001b[0m\u001b[0;34m\u001b[0m\u001b[0;34m\u001b[0m\u001b[0m\n\u001b[0;32m--> 447\u001b[0;31m             \u001b[0m_\u001b[0m \u001b[0;34m=\u001b[0m \u001b[0mval\u001b[0m\u001b[0;34m.\u001b[0m\u001b[0mto\u001b[0m\u001b[0;34m(\u001b[0m\u001b[0mself\u001b[0m\u001b[0;34m.\u001b[0m\u001b[0munits\u001b[0m\u001b[0;34m)\u001b[0m\u001b[0;34m\u001b[0m\u001b[0m\n\u001b[0m\u001b[1;32m    448\u001b[0m             \u001b[0mresult\u001b[0m \u001b[0;34m=\u001b[0m \u001b[0msetfunc_with_unit\u001b[0m\u001b[0;34m(\u001b[0m\u001b[0mval\u001b[0m\u001b[0;34m)\u001b[0m\u001b[0;34m\u001b[0m\u001b[0m\n\u001b[1;32m    449\u001b[0m         \u001b[0;32mexcept\u001b[0m \u001b[0mAttributeError\u001b[0m\u001b[0;34m:\u001b[0m\u001b[0;34m\u001b[0m\u001b[0m\n",
      "\u001b[0;32m/opt/local/Library/Frameworks/Python.framework/Versions/2.7/lib/python2.7/site-packages/astropy/units/quantity.pyc\u001b[0m in \u001b[0;36mto\u001b[0;34m(self, unit, equivalencies)\u001b[0m\n\u001b[1;32m    651\u001b[0m         \u001b[0munit\u001b[0m \u001b[0;34m=\u001b[0m \u001b[0mUnit\u001b[0m\u001b[0;34m(\u001b[0m\u001b[0munit\u001b[0m\u001b[0;34m)\u001b[0m\u001b[0;34m\u001b[0m\u001b[0m\n\u001b[1;32m    652\u001b[0m         new_val = self.unit.to(unit, self.view(np.ndarray),\n\u001b[0;32m--> 653\u001b[0;31m                                equivalencies=equivalencies)\n\u001b[0m\u001b[1;32m    654\u001b[0m         \u001b[0;32mreturn\u001b[0m \u001b[0mself\u001b[0m\u001b[0;34m.\u001b[0m\u001b[0m_new_view\u001b[0m\u001b[0;34m(\u001b[0m\u001b[0mnew_val\u001b[0m\u001b[0;34m,\u001b[0m \u001b[0munit\u001b[0m\u001b[0;34m)\u001b[0m\u001b[0;34m\u001b[0m\u001b[0m\n\u001b[1;32m    655\u001b[0m \u001b[0;34m\u001b[0m\u001b[0m\n",
      "\u001b[0;32m/opt/local/Library/Frameworks/Python.framework/Versions/2.7/lib/python2.7/site-packages/astropy/units/core.pyc\u001b[0m in \u001b[0;36mto\u001b[0;34m(self, other, value, equivalencies)\u001b[0m\n\u001b[1;32m    987\u001b[0m             \u001b[0mIf\u001b[0m \u001b[0munits\u001b[0m \u001b[0mare\u001b[0m \u001b[0minconsistent\u001b[0m\u001b[0;34m\u001b[0m\u001b[0m\n\u001b[1;32m    988\u001b[0m         \"\"\"\n\u001b[0;32m--> 989\u001b[0;31m         \u001b[0;32mreturn\u001b[0m \u001b[0mself\u001b[0m\u001b[0;34m.\u001b[0m\u001b[0m_get_converter\u001b[0m\u001b[0;34m(\u001b[0m\u001b[0mother\u001b[0m\u001b[0;34m,\u001b[0m \u001b[0mequivalencies\u001b[0m\u001b[0;34m=\u001b[0m\u001b[0mequivalencies\u001b[0m\u001b[0;34m)\u001b[0m\u001b[0;34m(\u001b[0m\u001b[0mvalue\u001b[0m\u001b[0;34m)\u001b[0m\u001b[0;34m\u001b[0m\u001b[0m\n\u001b[0m\u001b[1;32m    990\u001b[0m \u001b[0;34m\u001b[0m\u001b[0m\n\u001b[1;32m    991\u001b[0m     \u001b[0;32mdef\u001b[0m \u001b[0min_units\u001b[0m\u001b[0;34m(\u001b[0m\u001b[0mself\u001b[0m\u001b[0;34m,\u001b[0m \u001b[0mother\u001b[0m\u001b[0;34m,\u001b[0m \u001b[0mvalue\u001b[0m\u001b[0;34m=\u001b[0m\u001b[0;36m1.0\u001b[0m\u001b[0;34m,\u001b[0m \u001b[0mequivalencies\u001b[0m\u001b[0;34m=\u001b[0m\u001b[0;34m[\u001b[0m\u001b[0;34m]\u001b[0m\u001b[0;34m)\u001b[0m\u001b[0;34m:\u001b[0m\u001b[0;34m\u001b[0m\u001b[0m\n",
      "\u001b[0;32m/opt/local/Library/Frameworks/Python.framework/Versions/2.7/lib/python2.7/site-packages/astropy/units/core.pyc\u001b[0m in \u001b[0;36m_get_converter\u001b[0;34m(self, other, equivalencies)\u001b[0m\n\u001b[1;32m    889\u001b[0m                             \u001b[0;32mpass\u001b[0m\u001b[0;34m\u001b[0m\u001b[0m\n\u001b[1;32m    890\u001b[0m \u001b[0;34m\u001b[0m\u001b[0m\n\u001b[0;32m--> 891\u001b[0;31m             \u001b[0;32mraise\u001b[0m \u001b[0mexc\u001b[0m\u001b[0;34m\u001b[0m\u001b[0m\n\u001b[0m\u001b[1;32m    892\u001b[0m \u001b[0;34m\u001b[0m\u001b[0m\n\u001b[1;32m    893\u001b[0m     \u001b[0;34m@\u001b[0m\u001b[0mdeprecated\u001b[0m\u001b[0;34m(\u001b[0m\u001b[0;34m'1.0'\u001b[0m\u001b[0;34m)\u001b[0m\u001b[0;34m\u001b[0m\u001b[0m\n",
      "\u001b[0;31mUnitConversionError\u001b[0m: 's' (time) and 'Hz' (frequency) are not convertible"
     ]
    }
   ],
   "source": [
    "# Examle  F0\n",
    "print par\n",
    "par.value = 100*u.second  # SET F0 to seconds as time. \n",
    "print 'Quantity       ', par.quantity, type(par.quantity)\n",
    "print 'Value          ', par.value\n",
    "print par"
   ]
  },
  {
   "cell_type": "markdown",
   "metadata": {},
   "source": [
    "### For MJD parameters"
   ]
  },
  {
   "cell_type": "code",
   "execution_count": 14,
   "metadata": {
    "collapsed": false
   },
   "outputs": [
    {
     "name": "stdout",
     "output_type": "stream",
     "text": [
      "TZRMJD (d) 54177.508359343262555\n",
      "Quantity        54000.0 <class 'astropy.time.core.Time'>\n",
      "Value           54000.0\n",
      "TZRMJD (d) 54000.000000000000000\n"
     ]
    },
    {
     "data": {
      "text/plain": [
       "<Time object: scale='tdb' format='mjd' value=54000.0>"
      ]
     },
     "execution_count": 14,
     "metadata": {},
     "output_type": "execute_result"
    }
   ],
   "source": [
    "par = model.TZRMJD\n",
    "print par\n",
    "par.quantity = 54000\n",
    "print 'Quantity       ', par.quantity, type(par.quantity)\n",
    "print 'Value          ', par.value\n",
    "print par\n",
    "par.quantity"
   ]
  },
  {
   "cell_type": "code",
   "execution_count": 15,
   "metadata": {
    "collapsed": false
   },
   "outputs": [
    {
     "name": "stdout",
     "output_type": "stream",
     "text": [
      "Quantity        54001.0 <class 'astropy.time.core.Time'>\n",
      "Value           54001.0\n",
      "TZRMJD (d) 54001.000000000000000\n"
     ]
    },
    {
     "data": {
      "text/plain": [
       "<Time object: scale='tdb' format='mjd' value=54001.0>"
      ]
     },
     "execution_count": 15,
     "metadata": {},
     "output_type": "execute_result"
    }
   ],
   "source": [
    "# Example for TZRMJD\n",
    "par.quantity = '54001'\n",
    "print 'Quantity       ', par.quantity, type(par.quantity)\n",
    "print 'Value          ', par.value\n",
    "print par\n",
    "par.quantity"
   ]
  },
  {
   "cell_type": "code",
   "execution_count": 16,
   "metadata": {
    "collapsed": false
   },
   "outputs": [
    {
     "name": "stdout",
     "output_type": "stream",
     "text": [
      "Quantity        54002.0 <class 'astropy.time.core.Time'>\n",
      "Value           54002.0\n",
      "TZRMJD (d) 54002.000000000000000\n"
     ]
    },
    {
     "data": {
      "text/plain": [
       "<Time object: scale='tdb' format='mjd' value=54002.0>"
      ]
     },
     "execution_count": 16,
     "metadata": {},
     "output_type": "execute_result"
    }
   ],
   "source": [
    "# Example for TZRMJD\n",
    "par.value = 54002\n",
    "print 'Quantity       ', par.quantity, type(par.quantity)\n",
    "print 'Value          ', par.value\n",
    "print par\n",
    "par.quantity"
   ]
  },
  {
   "cell_type": "code",
   "execution_count": 17,
   "metadata": {
    "collapsed": false
   },
   "outputs": [
    {
     "name": "stdout",
     "output_type": "stream",
     "text": [
      "Quantity        54003.0 <class 'astropy.time.core.Time'>\n",
      "Value           54003.0\n",
      "TZRMJD (d) 54003.000000000000000\n"
     ]
    },
    {
     "data": {
      "text/plain": [
       "<Time object: scale='tdb' format='mjd' value=54003.0>"
      ]
     },
     "execution_count": 17,
     "metadata": {},
     "output_type": "execute_result"
    }
   ],
   "source": [
    "# Example for TZRMJD\n",
    "par.value = '54003'\n",
    "print 'Quantity       ', par.quantity, type(par.quantity)\n",
    "print 'Value          ', par.value\n",
    "print par\n",
    "par.quantity"
   ]
  },
  {
   "cell_type": "markdown",
   "metadata": {},
   "source": [
    "### For AngleParameters"
   ]
  },
  {
   "cell_type": "code",
   "execution_count": 18,
   "metadata": {
    "collapsed": false
   },
   "outputs": [
    {
     "name": "stdout",
     "output_type": "stream",
     "text": [
      "RAJ (hourangle) 18:57:36.39328840 +/- 0h00m00s\n",
      "Quantity        50h00m00s <class 'astropy.coordinates.angles.Angle'>\n",
      "Value           50.0\n",
      "RAJ (hourangle) 50:00:00.00000000 +/- 0h00m00s\n"
     ]
    },
    {
     "data": {
      "text/latex": [
       "$50^\\mathrm{h}00^\\mathrm{m}00^\\mathrm{s}$"
      ],
      "text/plain": [
       "<Angle 50.0 hourangle>"
      ]
     },
     "execution_count": 18,
     "metadata": {},
     "output_type": "execute_result"
    }
   ],
   "source": [
    "# Example for RAJ\n",
    "par = model.RAJ\n",
    "print par\n",
    "par.quantity = 50\n",
    "print 'Quantity       ', par.quantity, type(par.quantity)\n",
    "print 'Value          ', par.value\n",
    "print par\n",
    "par.quantity"
   ]
  },
  {
   "cell_type": "code",
   "execution_count": 19,
   "metadata": {
    "collapsed": false
   },
   "outputs": [],
   "source": [
    "import astropy"
   ]
  },
  {
   "cell_type": "code",
   "execution_count": 20,
   "metadata": {
    "collapsed": false
   },
   "outputs": [
    {
     "data": {
      "text/plain": [
       "u'1.2'"
      ]
     },
     "execution_count": 20,
     "metadata": {},
     "output_type": "execute_result"
    }
   ],
   "source": [
    "astropy.__version__"
   ]
  },
  {
   "cell_type": "code",
   "execution_count": 21,
   "metadata": {
    "collapsed": false
   },
   "outputs": [
    {
     "data": {
      "text/latex": [
       "$50^\\mathrm{h}00^\\mathrm{m}00^\\mathrm{s}$"
      ],
      "text/plain": [
       "<Angle 50.0 hourangle>"
      ]
     },
     "execution_count": 21,
     "metadata": {},
     "output_type": "execute_result"
    }
   ],
   "source": [
    "Angle(50.0*u.hourangle)"
   ]
  },
  {
   "cell_type": "code",
   "execution_count": 22,
   "metadata": {
    "collapsed": false
   },
   "outputs": [
    {
     "name": "stdout",
     "output_type": "stream",
     "text": [
      "RAJ (hourangle) 50:00:00.00000000 +/- 0h00m00s\n",
      "Quantity        30h30m00s <class 'astropy.coordinates.angles.Angle'>\n",
      "Value           30.5\n",
      "RAJ (hourangle) 30:30:00.00000000 +/- 0h00m00s\n"
     ]
    },
    {
     "data": {
      "text/latex": [
       "$30^\\mathrm{h}30^\\mathrm{m}00^\\mathrm{s}$"
      ],
      "text/plain": [
       "<Angle 30.5 hourangle>"
      ]
     },
     "execution_count": 22,
     "metadata": {},
     "output_type": "execute_result"
    }
   ],
   "source": [
    "# Example for RAJ\n",
    "print par\n",
    "par.quantity = 30.5\n",
    "print 'Quantity       ', par.quantity, type(par.quantity)\n",
    "print 'Value          ', par.value\n",
    "print par\n",
    "par.quantity"
   ]
  },
  {
   "cell_type": "code",
   "execution_count": 23,
   "metadata": {
    "collapsed": false
   },
   "outputs": [
    {
     "name": "stdout",
     "output_type": "stream",
     "text": [
      "RAJ (hourangle) 30:30:00.00000000 +/- 0h00m00s\n",
      "Quantity        20h30m00s <class 'astropy.coordinates.angles.Angle'>\n",
      "Value           20.5\n",
      "RAJ (hourangle) 20:30:00.00000000 +/- 0h00m00s\n"
     ]
    },
    {
     "data": {
      "text/latex": [
       "$20^\\mathrm{h}30^\\mathrm{m}00^\\mathrm{s}$"
      ],
      "text/plain": [
       "<Angle 20.5 hourangle>"
      ]
     },
     "execution_count": 23,
     "metadata": {},
     "output_type": "execute_result"
    }
   ],
   "source": [
    "# Example for RAJ\n",
    "print par\n",
    "par.quantity = '20:30:00'\n",
    "print 'Quantity       ', par.quantity, type(par.quantity)\n",
    "print 'Value          ', par.value\n",
    "print par\n",
    "par.quantity"
   ]
  },
  {
   "cell_type": "code",
   "execution_count": 24,
   "metadata": {
    "collapsed": false
   },
   "outputs": [
    {
     "name": "stdout",
     "output_type": "stream",
     "text": [
      "RAJ (hourangle) 20:30:00.00000000 +/- 0h00m00s\n",
      "Quantity        20h05m00s <class 'astropy.coordinates.angles.Angle'>\n",
      "Value           20.0833333333\n",
      "RAJ (hourangle) 20:05:00.00000000 +/- 0h00m00s\n"
     ]
    },
    {
     "data": {
      "text/latex": [
       "$20^\\mathrm{h}05^\\mathrm{m}00^\\mathrm{s}$"
      ],
      "text/plain": [
       "<Angle 20.083333333333332 hourangle>"
      ]
     },
     "execution_count": 24,
     "metadata": {},
     "output_type": "execute_result"
    }
   ],
   "source": [
    "# Example for RAJ\n",
    "print par\n",
    "par.value = '20:05:0'\n",
    "print 'Quantity       ', par.quantity, type(par.quantity)\n",
    "print 'Value          ', par.value\n",
    "print par\n",
    "par.quantity"
   ]
  },
  {
   "cell_type": "code",
   "execution_count": 25,
   "metadata": {
    "collapsed": false
   },
   "outputs": [
    {
     "name": "stdout",
     "output_type": "stream",
     "text": [
      "RAJ (hourangle) 20:05:00.00000000 +/- 0h00m00s\n",
      "Quantity        2h00m00s <class 'astropy.coordinates.angles.Angle'>\n",
      "Quantity in deg 30d00m00s\n",
      "Value           2.0\n",
      "RAJ (hourangle) 2:00:00.00000000 +/- 0h00m00s\n"
     ]
    },
    {
     "data": {
      "text/latex": [
       "$2^\\mathrm{h}00^\\mathrm{m}00^\\mathrm{s}$"
      ],
      "text/plain": [
       "<Angle 2.0000000000000004 hourangle>"
      ]
     },
     "execution_count": 25,
     "metadata": {},
     "output_type": "execute_result"
    }
   ],
   "source": [
    "# Example for RAJ\n",
    "print par\n",
    "par.quantity = 30*u.deg\n",
    "print 'Quantity       ', par.quantity, type(par.quantity)\n",
    "print 'Quantity in deg', par.quantity.to(u.deg)\n",
    "print 'Value          ', par.value\n",
    "print par\n",
    "par.quantity"
   ]
  },
  {
   "cell_type": "code",
   "execution_count": 26,
   "metadata": {
    "collapsed": false
   },
   "outputs": [
    {
     "name": "stdout",
     "output_type": "stream",
     "text": [
      "RAJ (hourangle) 2:00:00.00000000 +/- 0h00m00s\n",
      "Quantity        152h47m19.4833s <class 'astropy.coordinates.angles.Angle'>\n",
      "Quantity in rad 40rad\n",
      "Value           152.788745368\n",
      "RAJ (hourangle) 152:47:19.48332559 +/- 0h00m00s\n"
     ]
    },
    {
     "data": {
      "text/latex": [
       "$152^\\mathrm{h}47^\\mathrm{m}19.4833^\\mathrm{s}$"
      ],
      "text/plain": [
       "<Angle 152.78874536821954 hourangle>"
      ]
     },
     "execution_count": 26,
     "metadata": {},
     "output_type": "execute_result"
    }
   ],
   "source": [
    "# Example for RAJ\n",
    "print par\n",
    "par.value = 40*u.rad\n",
    "print 'Quantity       ', par.quantity, type(par.quantity)\n",
    "print 'Quantity in rad', par.quantity.to(u.rad)\n",
    "print 'Value          ', par.value\n",
    "print par\n",
    "par.quantity"
   ]
  },
  {
   "cell_type": "markdown",
   "metadata": {},
   "source": [
    "Test for wrong unit"
   ]
  },
  {
   "cell_type": "code",
   "execution_count": 27,
   "metadata": {
    "collapsed": false
   },
   "outputs": [
    {
     "name": "stdout",
     "output_type": "stream",
     "text": [
      "RAJ (hourangle) 152:47:19.48332559 +/- 0h00m00s\n"
     ]
    },
    {
     "ename": "UnitConversionError",
     "evalue": "'s' (time) and 'hourangle' (angle) are not convertible",
     "output_type": "error",
     "traceback": [
      "\u001b[0;31m---------------------------------------------------------------------------\u001b[0m",
      "\u001b[0;31mUnitConversionError\u001b[0m                       Traceback (most recent call last)",
      "\u001b[0;32m<ipython-input-27-2443823315a4>\u001b[0m in \u001b[0;36m<module>\u001b[0;34m()\u001b[0m\n\u001b[1;32m      1\u001b[0m \u001b[0;31m# Example for RAJ\u001b[0m\u001b[0;34m\u001b[0m\u001b[0;34m\u001b[0m\u001b[0m\n\u001b[1;32m      2\u001b[0m \u001b[0;32mprint\u001b[0m \u001b[0mpar\u001b[0m\u001b[0;34m\u001b[0m\u001b[0m\n\u001b[0;32m----> 3\u001b[0;31m \u001b[0mpar\u001b[0m\u001b[0;34m.\u001b[0m\u001b[0mvalue\u001b[0m \u001b[0;34m=\u001b[0m \u001b[0;36m40\u001b[0m\u001b[0;34m*\u001b[0m\u001b[0mu\u001b[0m\u001b[0;34m.\u001b[0m\u001b[0msecond\u001b[0m   \u001b[0;31m#  Here second is in the unit of time, not hourangle\u001b[0m\u001b[0;34m\u001b[0m\u001b[0m\n\u001b[0m\u001b[1;32m      4\u001b[0m \u001b[0;32mprint\u001b[0m \u001b[0;34m'Quantity       '\u001b[0m\u001b[0;34m,\u001b[0m \u001b[0mpar\u001b[0m\u001b[0;34m.\u001b[0m\u001b[0mquantity\u001b[0m\u001b[0;34m,\u001b[0m \u001b[0mtype\u001b[0m\u001b[0;34m(\u001b[0m\u001b[0mpar\u001b[0m\u001b[0;34m.\u001b[0m\u001b[0mquantity\u001b[0m\u001b[0;34m)\u001b[0m\u001b[0;34m\u001b[0m\u001b[0m\n\u001b[1;32m      5\u001b[0m \u001b[0;32mprint\u001b[0m \u001b[0;34m'Quantity in rad'\u001b[0m\u001b[0;34m,\u001b[0m \u001b[0mpar\u001b[0m\u001b[0;34m.\u001b[0m\u001b[0mquantity\u001b[0m\u001b[0;34m.\u001b[0m\u001b[0mto\u001b[0m\u001b[0;34m(\u001b[0m\u001b[0mu\u001b[0m\u001b[0;34m.\u001b[0m\u001b[0mrad\u001b[0m\u001b[0;34m)\u001b[0m\u001b[0;34m\u001b[0m\u001b[0m\n",
      "\u001b[0;32m/Users/paulr/Library/Python/2.7/lib/python/site-packages/pint-0.0.1-py2.7-macosx-10.11-x86_64.egg/pint/models/parameter.pyc\u001b[0m in \u001b[0;36mvalue\u001b[0;34m(self, val)\u001b[0m\n\u001b[1;32m    220\u001b[0m             \u001b[0;32melse\u001b[0m\u001b[0;34m:\u001b[0m\u001b[0;34m\u001b[0m\u001b[0m\n\u001b[1;32m    221\u001b[0m                 \u001b[0mself\u001b[0m\u001b[0;34m.\u001b[0m\u001b[0mvalue\u001b[0m \u001b[0;34m=\u001b[0m \u001b[0mval\u001b[0m\u001b[0;34m\u001b[0m\u001b[0m\n\u001b[0;32m--> 222\u001b[0;31m         \u001b[0mself\u001b[0m\u001b[0;34m.\u001b[0m\u001b[0m_quantity\u001b[0m \u001b[0;34m=\u001b[0m \u001b[0mself\u001b[0m\u001b[0;34m.\u001b[0m\u001b[0mset_quantity\u001b[0m\u001b[0;34m(\u001b[0m\u001b[0mval\u001b[0m\u001b[0;34m)\u001b[0m\u001b[0;34m\u001b[0m\u001b[0m\n\u001b[0m\u001b[1;32m    223\u001b[0m \u001b[0;34m\u001b[0m\u001b[0m\n\u001b[1;32m    224\u001b[0m     \u001b[0;34m@\u001b[0m\u001b[0mproperty\u001b[0m\u001b[0;34m\u001b[0m\u001b[0m\n",
      "\u001b[0;32m/Users/paulr/Library/Python/2.7/lib/python/site-packages/pint-0.0.1-py2.7-macosx-10.11-x86_64.egg/pint/models/parameter.pyc\u001b[0m in \u001b[0;36mset_quantity_angle\u001b[0;34m(self, val)\u001b[0m\n\u001b[1;32m    726\u001b[0m             \u001b[0mresult\u001b[0m \u001b[0;34m=\u001b[0m \u001b[0mAngle\u001b[0m\u001b[0;34m(\u001b[0m\u001b[0mval\u001b[0m \u001b[0;34m+\u001b[0m \u001b[0mself\u001b[0m\u001b[0;34m.\u001b[0m\u001b[0munitsuffix\u001b[0m\u001b[0;34m)\u001b[0m\u001b[0;34m\u001b[0m\u001b[0m\n\u001b[1;32m    727\u001b[0m         \u001b[0;32melif\u001b[0m \u001b[0mhasattr\u001b[0m\u001b[0;34m(\u001b[0m\u001b[0mval\u001b[0m\u001b[0;34m,\u001b[0m \u001b[0;34m'unit'\u001b[0m\u001b[0;34m)\u001b[0m\u001b[0;34m:\u001b[0m\u001b[0;34m\u001b[0m\u001b[0m\n\u001b[0;32m--> 728\u001b[0;31m             \u001b[0mresult\u001b[0m \u001b[0;34m=\u001b[0m \u001b[0mAngle\u001b[0m\u001b[0;34m(\u001b[0m\u001b[0mval\u001b[0m\u001b[0;34m.\u001b[0m\u001b[0mto\u001b[0m\u001b[0;34m(\u001b[0m\u001b[0mself\u001b[0m\u001b[0;34m.\u001b[0m\u001b[0munits\u001b[0m\u001b[0;34m)\u001b[0m\u001b[0;34m)\u001b[0m\u001b[0;34m\u001b[0m\u001b[0m\n\u001b[0m\u001b[1;32m    729\u001b[0m         \u001b[0;32melse\u001b[0m\u001b[0;34m:\u001b[0m\u001b[0;34m\u001b[0m\u001b[0m\n\u001b[1;32m    730\u001b[0m             raise ValueError('Angle parameter can not accept '\n",
      "\u001b[0;32m/opt/local/Library/Frameworks/Python.framework/Versions/2.7/lib/python2.7/site-packages/astropy/units/quantity.pyc\u001b[0m in \u001b[0;36mto\u001b[0;34m(self, unit, equivalencies)\u001b[0m\n\u001b[1;32m    651\u001b[0m         \u001b[0munit\u001b[0m \u001b[0;34m=\u001b[0m \u001b[0mUnit\u001b[0m\u001b[0;34m(\u001b[0m\u001b[0munit\u001b[0m\u001b[0;34m)\u001b[0m\u001b[0;34m\u001b[0m\u001b[0m\n\u001b[1;32m    652\u001b[0m         new_val = self.unit.to(unit, self.view(np.ndarray),\n\u001b[0;32m--> 653\u001b[0;31m                                equivalencies=equivalencies)\n\u001b[0m\u001b[1;32m    654\u001b[0m         \u001b[0;32mreturn\u001b[0m \u001b[0mself\u001b[0m\u001b[0;34m.\u001b[0m\u001b[0m_new_view\u001b[0m\u001b[0;34m(\u001b[0m\u001b[0mnew_val\u001b[0m\u001b[0;34m,\u001b[0m \u001b[0munit\u001b[0m\u001b[0;34m)\u001b[0m\u001b[0;34m\u001b[0m\u001b[0m\n\u001b[1;32m    655\u001b[0m \u001b[0;34m\u001b[0m\u001b[0m\n",
      "\u001b[0;32m/opt/local/Library/Frameworks/Python.framework/Versions/2.7/lib/python2.7/site-packages/astropy/units/core.pyc\u001b[0m in \u001b[0;36mto\u001b[0;34m(self, other, value, equivalencies)\u001b[0m\n\u001b[1;32m    987\u001b[0m             \u001b[0mIf\u001b[0m \u001b[0munits\u001b[0m \u001b[0mare\u001b[0m \u001b[0minconsistent\u001b[0m\u001b[0;34m\u001b[0m\u001b[0m\n\u001b[1;32m    988\u001b[0m         \"\"\"\n\u001b[0;32m--> 989\u001b[0;31m         \u001b[0;32mreturn\u001b[0m \u001b[0mself\u001b[0m\u001b[0;34m.\u001b[0m\u001b[0m_get_converter\u001b[0m\u001b[0;34m(\u001b[0m\u001b[0mother\u001b[0m\u001b[0;34m,\u001b[0m \u001b[0mequivalencies\u001b[0m\u001b[0;34m=\u001b[0m\u001b[0mequivalencies\u001b[0m\u001b[0;34m)\u001b[0m\u001b[0;34m(\u001b[0m\u001b[0mvalue\u001b[0m\u001b[0;34m)\u001b[0m\u001b[0;34m\u001b[0m\u001b[0m\n\u001b[0m\u001b[1;32m    990\u001b[0m \u001b[0;34m\u001b[0m\u001b[0m\n\u001b[1;32m    991\u001b[0m     \u001b[0;32mdef\u001b[0m \u001b[0min_units\u001b[0m\u001b[0;34m(\u001b[0m\u001b[0mself\u001b[0m\u001b[0;34m,\u001b[0m \u001b[0mother\u001b[0m\u001b[0;34m,\u001b[0m \u001b[0mvalue\u001b[0m\u001b[0;34m=\u001b[0m\u001b[0;36m1.0\u001b[0m\u001b[0;34m,\u001b[0m \u001b[0mequivalencies\u001b[0m\u001b[0;34m=\u001b[0m\u001b[0;34m[\u001b[0m\u001b[0;34m]\u001b[0m\u001b[0;34m)\u001b[0m\u001b[0;34m:\u001b[0m\u001b[0;34m\u001b[0m\u001b[0m\n",
      "\u001b[0;32m/opt/local/Library/Frameworks/Python.framework/Versions/2.7/lib/python2.7/site-packages/astropy/units/core.pyc\u001b[0m in \u001b[0;36m_get_converter\u001b[0;34m(self, other, equivalencies)\u001b[0m\n\u001b[1;32m    889\u001b[0m                             \u001b[0;32mpass\u001b[0m\u001b[0;34m\u001b[0m\u001b[0m\n\u001b[1;32m    890\u001b[0m \u001b[0;34m\u001b[0m\u001b[0m\n\u001b[0;32m--> 891\u001b[0;31m             \u001b[0;32mraise\u001b[0m \u001b[0mexc\u001b[0m\u001b[0;34m\u001b[0m\u001b[0m\n\u001b[0m\u001b[1;32m    892\u001b[0m \u001b[0;34m\u001b[0m\u001b[0m\n\u001b[1;32m    893\u001b[0m     \u001b[0;34m@\u001b[0m\u001b[0mdeprecated\u001b[0m\u001b[0;34m(\u001b[0m\u001b[0;34m'1.0'\u001b[0m\u001b[0;34m)\u001b[0m\u001b[0;34m\u001b[0m\u001b[0m\n",
      "\u001b[0;31mUnitConversionError\u001b[0m: 's' (time) and 'hourangle' (angle) are not convertible"
     ]
    }
   ],
   "source": [
    "# Example for RAJ\n",
    "print par\n",
    "par.value = 40*u.second   #  Here second is in the unit of time, not hourangle\n",
    "print 'Quantity       ', par.quantity, type(par.quantity)\n",
    "print 'Quantity in rad', par.quantity.to(u.rad)\n",
    "print 'Value          ', par.value\n",
    "print par\n",
    "par.quantity"
   ]
  },
  {
   "cell_type": "code",
   "execution_count": 28,
   "metadata": {
    "collapsed": false
   },
   "outputs": [
    {
     "name": "stdout",
     "output_type": "stream",
     "text": [
      "RAJ (hourangle) 152:47:19.48332559 +/- 0h00m00s\n"
     ]
    },
    {
     "ename": "UnitConversionError",
     "evalue": "'h' (time) and 'hourangle' (angle) are not convertible",
     "output_type": "error",
     "traceback": [
      "\u001b[0;31m---------------------------------------------------------------------------\u001b[0m",
      "\u001b[0;31mUnitConversionError\u001b[0m                       Traceback (most recent call last)",
      "\u001b[0;32m<ipython-input-28-0b8ce94167d9>\u001b[0m in \u001b[0;36m<module>\u001b[0;34m()\u001b[0m\n\u001b[1;32m      1\u001b[0m \u001b[0;31m# Example for RAJ\u001b[0m\u001b[0;34m\u001b[0m\u001b[0;34m\u001b[0m\u001b[0m\n\u001b[1;32m      2\u001b[0m \u001b[0;32mprint\u001b[0m \u001b[0mpar\u001b[0m\u001b[0;34m\u001b[0m\u001b[0m\n\u001b[0;32m----> 3\u001b[0;31m \u001b[0mpar\u001b[0m\u001b[0;34m.\u001b[0m\u001b[0mquantity\u001b[0m \u001b[0;34m=\u001b[0m \u001b[0;36m30\u001b[0m\u001b[0;34m*\u001b[0m\u001b[0mu\u001b[0m\u001b[0;34m.\u001b[0m\u001b[0mhour\u001b[0m \u001b[0;31m# Here hour is in the unit of time, not hourangle\u001b[0m\u001b[0;34m\u001b[0m\u001b[0m\n\u001b[0m\u001b[1;32m      4\u001b[0m \u001b[0;32mprint\u001b[0m \u001b[0;34m'Quantity       '\u001b[0m\u001b[0;34m,\u001b[0m \u001b[0mpar\u001b[0m\u001b[0;34m.\u001b[0m\u001b[0mquantity\u001b[0m\u001b[0;34m,\u001b[0m \u001b[0mtype\u001b[0m\u001b[0;34m(\u001b[0m\u001b[0mpar\u001b[0m\u001b[0;34m.\u001b[0m\u001b[0mquantity\u001b[0m\u001b[0;34m)\u001b[0m\u001b[0;34m\u001b[0m\u001b[0m\n\u001b[1;32m      5\u001b[0m \u001b[0;32mprint\u001b[0m \u001b[0;34m'Quantity in deg'\u001b[0m\u001b[0;34m,\u001b[0m \u001b[0mpar\u001b[0m\u001b[0;34m.\u001b[0m\u001b[0mquantity\u001b[0m\u001b[0;34m.\u001b[0m\u001b[0mto\u001b[0m\u001b[0;34m(\u001b[0m\u001b[0mu\u001b[0m\u001b[0;34m.\u001b[0m\u001b[0mdeg\u001b[0m\u001b[0;34m)\u001b[0m\u001b[0;34m\u001b[0m\u001b[0m\n",
      "\u001b[0;32m/Users/paulr/Library/Python/2.7/lib/python/site-packages/pint-0.0.1-py2.7-macosx-10.11-x86_64.egg/pint/models/parameter.pyc\u001b[0m in \u001b[0;36mquantity\u001b[0;34m(self, val)\u001b[0m\n\u001b[1;32m    177\u001b[0m                 \u001b[0mself\u001b[0m\u001b[0;34m.\u001b[0m\u001b[0m_quantity\u001b[0m \u001b[0;34m=\u001b[0m \u001b[0mval\u001b[0m\u001b[0;34m\u001b[0m\u001b[0m\n\u001b[1;32m    178\u001b[0m                 \u001b[0;32mreturn\u001b[0m\u001b[0;34m\u001b[0m\u001b[0m\n\u001b[0;32m--> 179\u001b[0;31m         \u001b[0mself\u001b[0m\u001b[0;34m.\u001b[0m\u001b[0m_quantity\u001b[0m \u001b[0;34m=\u001b[0m \u001b[0mself\u001b[0m\u001b[0;34m.\u001b[0m\u001b[0mset_quantity\u001b[0m\u001b[0;34m(\u001b[0m\u001b[0mval\u001b[0m\u001b[0;34m)\u001b[0m\u001b[0;34m\u001b[0m\u001b[0m\n\u001b[0m\u001b[1;32m    180\u001b[0m \u001b[0;34m\u001b[0m\u001b[0m\n\u001b[1;32m    181\u001b[0m     \u001b[0;32mdef\u001b[0m \u001b[0mprior_pdf\u001b[0m\u001b[0;34m(\u001b[0m\u001b[0mself\u001b[0m\u001b[0;34m,\u001b[0m\u001b[0mvalue\u001b[0m\u001b[0;34m=\u001b[0m\u001b[0mNone\u001b[0m\u001b[0;34m,\u001b[0m \u001b[0mlogpdf\u001b[0m\u001b[0;34m=\u001b[0m\u001b[0mFalse\u001b[0m\u001b[0;34m)\u001b[0m\u001b[0;34m:\u001b[0m\u001b[0;34m\u001b[0m\u001b[0m\n",
      "\u001b[0;32m/Users/paulr/Library/Python/2.7/lib/python/site-packages/pint-0.0.1-py2.7-macosx-10.11-x86_64.egg/pint/models/parameter.pyc\u001b[0m in \u001b[0;36mset_quantity_angle\u001b[0;34m(self, val)\u001b[0m\n\u001b[1;32m    726\u001b[0m             \u001b[0mresult\u001b[0m \u001b[0;34m=\u001b[0m \u001b[0mAngle\u001b[0m\u001b[0;34m(\u001b[0m\u001b[0mval\u001b[0m \u001b[0;34m+\u001b[0m \u001b[0mself\u001b[0m\u001b[0;34m.\u001b[0m\u001b[0munitsuffix\u001b[0m\u001b[0;34m)\u001b[0m\u001b[0;34m\u001b[0m\u001b[0m\n\u001b[1;32m    727\u001b[0m         \u001b[0;32melif\u001b[0m \u001b[0mhasattr\u001b[0m\u001b[0;34m(\u001b[0m\u001b[0mval\u001b[0m\u001b[0;34m,\u001b[0m \u001b[0;34m'unit'\u001b[0m\u001b[0;34m)\u001b[0m\u001b[0;34m:\u001b[0m\u001b[0;34m\u001b[0m\u001b[0m\n\u001b[0;32m--> 728\u001b[0;31m             \u001b[0mresult\u001b[0m \u001b[0;34m=\u001b[0m \u001b[0mAngle\u001b[0m\u001b[0;34m(\u001b[0m\u001b[0mval\u001b[0m\u001b[0;34m.\u001b[0m\u001b[0mto\u001b[0m\u001b[0;34m(\u001b[0m\u001b[0mself\u001b[0m\u001b[0;34m.\u001b[0m\u001b[0munits\u001b[0m\u001b[0;34m)\u001b[0m\u001b[0;34m)\u001b[0m\u001b[0;34m\u001b[0m\u001b[0m\n\u001b[0m\u001b[1;32m    729\u001b[0m         \u001b[0;32melse\u001b[0m\u001b[0;34m:\u001b[0m\u001b[0;34m\u001b[0m\u001b[0m\n\u001b[1;32m    730\u001b[0m             raise ValueError('Angle parameter can not accept '\n",
      "\u001b[0;32m/opt/local/Library/Frameworks/Python.framework/Versions/2.7/lib/python2.7/site-packages/astropy/units/quantity.pyc\u001b[0m in \u001b[0;36mto\u001b[0;34m(self, unit, equivalencies)\u001b[0m\n\u001b[1;32m    651\u001b[0m         \u001b[0munit\u001b[0m \u001b[0;34m=\u001b[0m \u001b[0mUnit\u001b[0m\u001b[0;34m(\u001b[0m\u001b[0munit\u001b[0m\u001b[0;34m)\u001b[0m\u001b[0;34m\u001b[0m\u001b[0m\n\u001b[1;32m    652\u001b[0m         new_val = self.unit.to(unit, self.view(np.ndarray),\n\u001b[0;32m--> 653\u001b[0;31m                                equivalencies=equivalencies)\n\u001b[0m\u001b[1;32m    654\u001b[0m         \u001b[0;32mreturn\u001b[0m \u001b[0mself\u001b[0m\u001b[0;34m.\u001b[0m\u001b[0m_new_view\u001b[0m\u001b[0;34m(\u001b[0m\u001b[0mnew_val\u001b[0m\u001b[0;34m,\u001b[0m \u001b[0munit\u001b[0m\u001b[0;34m)\u001b[0m\u001b[0;34m\u001b[0m\u001b[0m\n\u001b[1;32m    655\u001b[0m \u001b[0;34m\u001b[0m\u001b[0m\n",
      "\u001b[0;32m/opt/local/Library/Frameworks/Python.framework/Versions/2.7/lib/python2.7/site-packages/astropy/units/core.pyc\u001b[0m in \u001b[0;36mto\u001b[0;34m(self, other, value, equivalencies)\u001b[0m\n\u001b[1;32m    987\u001b[0m             \u001b[0mIf\u001b[0m \u001b[0munits\u001b[0m \u001b[0mare\u001b[0m \u001b[0minconsistent\u001b[0m\u001b[0;34m\u001b[0m\u001b[0m\n\u001b[1;32m    988\u001b[0m         \"\"\"\n\u001b[0;32m--> 989\u001b[0;31m         \u001b[0;32mreturn\u001b[0m \u001b[0mself\u001b[0m\u001b[0;34m.\u001b[0m\u001b[0m_get_converter\u001b[0m\u001b[0;34m(\u001b[0m\u001b[0mother\u001b[0m\u001b[0;34m,\u001b[0m \u001b[0mequivalencies\u001b[0m\u001b[0;34m=\u001b[0m\u001b[0mequivalencies\u001b[0m\u001b[0;34m)\u001b[0m\u001b[0;34m(\u001b[0m\u001b[0mvalue\u001b[0m\u001b[0;34m)\u001b[0m\u001b[0;34m\u001b[0m\u001b[0m\n\u001b[0m\u001b[1;32m    990\u001b[0m \u001b[0;34m\u001b[0m\u001b[0m\n\u001b[1;32m    991\u001b[0m     \u001b[0;32mdef\u001b[0m \u001b[0min_units\u001b[0m\u001b[0;34m(\u001b[0m\u001b[0mself\u001b[0m\u001b[0;34m,\u001b[0m \u001b[0mother\u001b[0m\u001b[0;34m,\u001b[0m \u001b[0mvalue\u001b[0m\u001b[0;34m=\u001b[0m\u001b[0;36m1.0\u001b[0m\u001b[0;34m,\u001b[0m \u001b[0mequivalencies\u001b[0m\u001b[0;34m=\u001b[0m\u001b[0;34m[\u001b[0m\u001b[0;34m]\u001b[0m\u001b[0;34m)\u001b[0m\u001b[0;34m:\u001b[0m\u001b[0;34m\u001b[0m\u001b[0m\n",
      "\u001b[0;32m/opt/local/Library/Frameworks/Python.framework/Versions/2.7/lib/python2.7/site-packages/astropy/units/core.pyc\u001b[0m in \u001b[0;36m_get_converter\u001b[0;34m(self, other, equivalencies)\u001b[0m\n\u001b[1;32m    889\u001b[0m                             \u001b[0;32mpass\u001b[0m\u001b[0;34m\u001b[0m\u001b[0m\n\u001b[1;32m    890\u001b[0m \u001b[0;34m\u001b[0m\u001b[0m\n\u001b[0;32m--> 891\u001b[0;31m             \u001b[0;32mraise\u001b[0m \u001b[0mexc\u001b[0m\u001b[0;34m\u001b[0m\u001b[0m\n\u001b[0m\u001b[1;32m    892\u001b[0m \u001b[0;34m\u001b[0m\u001b[0m\n\u001b[1;32m    893\u001b[0m     \u001b[0;34m@\u001b[0m\u001b[0mdeprecated\u001b[0m\u001b[0;34m(\u001b[0m\u001b[0;34m'1.0'\u001b[0m\u001b[0;34m)\u001b[0m\u001b[0;34m\u001b[0m\u001b[0m\n",
      "\u001b[0;31mUnitConversionError\u001b[0m: 'h' (time) and 'hourangle' (angle) are not convertible"
     ]
    }
   ],
   "source": [
    "# Example for RAJ\n",
    "print par\n",
    "par.quantity = 30*u.hour # Here hour is in the unit of time, not hourangle\n",
    "print 'Quantity       ', par.quantity, type(par.quantity)\n",
    "print 'Quantity in deg', par.quantity.to(u.deg)\n",
    "print 'Value          ', par.value\n",
    "print par\n",
    "par.quantity"
   ]
  },
  {
   "cell_type": "markdown",
   "metadata": {},
   "source": [
    "## Example for uncertainty"
   ]
  },
  {
   "cell_type": "code",
   "execution_count": 29,
   "metadata": {
    "collapsed": false
   },
   "outputs": [],
   "source": [
    "par = model.F0\n"
   ]
  },
  {
   "cell_type": "code",
   "execution_count": 33,
   "metadata": {
    "collapsed": false
   },
   "outputs": [
    {
     "name": "stdout",
     "output_type": "stream",
     "text": [
      "6.98911818e-12 Hz\n",
      "6.98911818e-12\n",
      "F0 (Hz) 299.9999999999999889 +/- 6.98911818e-12 Hz\n",
      "6.98911818e-15 kHz\n"
     ]
    }
   ],
   "source": [
    "# Example for F0\n",
    "print par.uncertainty\n",
    "print par.uncertainty_value\n",
    "par.uncertainty = par.uncertainty_value/1000.0*u.kHz\n",
    "print par\n",
    "print par.uncertainty\n"
   ]
  },
  {
   "cell_type": "code",
   "execution_count": 34,
   "metadata": {
    "collapsed": false
   },
   "outputs": [
    {
     "name": "stdout",
     "output_type": "stream",
     "text": [
      "F0 (Hz) 299.9999999999999889 +/- 6e-13 Hz\n",
      "6e-13 Hz\n"
     ]
    }
   ],
   "source": [
    "# Example for F0\n",
    "par.uncertainty_value = 6e-13\n",
    "print par\n",
    "print par.uncertainty"
   ]
  },
  {
   "cell_type": "code",
   "execution_count": 35,
   "metadata": {
    "collapsed": false
   },
   "outputs": [
    {
     "name": "stdout",
     "output_type": "stream",
     "text": [
      "F0 (Hz) 299.9999999999999889 +/- 7e-13 Hz\n",
      "7e-16 kHz\n"
     ]
    }
   ],
   "source": [
    "# Example for F0\n",
    "par.uncertainty_value = 7e-16*u.kHz\n",
    "print par\n",
    "print par.uncertainty"
   ]
  },
  {
   "cell_type": "code",
   "execution_count": null,
   "metadata": {
    "collapsed": false
   },
   "outputs": [],
   "source": []
  }
 ],
 "metadata": {
  "anaconda-cloud": {},
  "kernelspec": {
   "display_name": "Python [default]",
   "language": "python",
   "name": "python2"
  },
  "language_info": {
   "codemirror_mode": {
    "name": "ipython",
    "version": 2
   },
   "file_extension": ".py",
   "mimetype": "text/x-python",
   "name": "python",
   "nbconvert_exporter": "python",
   "pygments_lexer": "ipython2",
   "version": "2.7.12"
  }
 },
 "nbformat": 4,
 "nbformat_minor": 0
}
