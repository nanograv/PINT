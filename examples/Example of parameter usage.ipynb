{
 "metadata": {
  "name": ""
 },
 "nbformat": 3,
 "nbformat_minor": 0,
 "worksheets": [
  {
   "cells": [
    {
     "cell_type": "heading",
     "level": 1,
     "metadata": {},
     "source": [
      "Example of parameter usage"
     ]
    },
    {
     "cell_type": "code",
     "collapsed": false,
     "input": [
      "import pint.models.model_builder as mb\n",
      "import pint.models.parameter as pp\n",
      "import astropy.units as u\n",
      "from astropy.coordinates.angles import Angle"
     ],
     "language": "python",
     "metadata": {},
     "outputs": [],
     "prompt_number": 1
    },
    {
     "cell_type": "code",
     "collapsed": false,
     "input": [
      "model = mb.get_model('../tests/datafile/B1855+09_NANOGrav_dfg+12_TAI.par')"
     ],
     "language": "python",
     "metadata": {},
     "outputs": [
      {
       "output_type": "stream",
       "stream": "stderr",
       "text": [
        "WARNING: Unrecognized parfile line 'DMEPOCH        49453' [pint.models.timing_model]\n",
        "WARNING:astropy:Unrecognized parfile line 'DMEPOCH        49453'\n"
       ]
      },
      {
       "output_type": "stream",
       "stream": "stderr",
       "text": [
        "WARNING: Unrecognized parfile line 'EPHVER         5' [pint.models.timing_model]\n",
        "WARNING:astropy:Unrecognized parfile line 'EPHVER         5'\n"
       ]
      },
      {
       "output_type": "stream",
       "stream": "stderr",
       "text": [
        "WARNING: Unrecognized parfile line 'MODE 1' [pint.models.timing_model]\n",
        "WARNING:astropy:Unrecognized parfile line 'MODE 1'\n"
       ]
      },
      {
       "output_type": "stream",
       "stream": "stderr",
       "text": [
        "WARNING: Unrecognized parfile line 'T2CMETHOD      TEMPO' [pint.models.timing_model]\n",
        "WARNING:astropy:Unrecognized parfile line 'T2CMETHOD      TEMPO'\n"
       ]
      },
      {
       "output_type": "stream",
       "stream": "stderr",
       "text": [
        "WARNING: Unrecognized parfile line 'NE_SW          0.000' [pint.models.timing_model]\n",
        "WARNING:astropy:Unrecognized parfile line 'NE_SW          0.000'\n"
       ]
      },
      {
       "output_type": "stream",
       "stream": "stderr",
       "text": [
        "WARNING: Unrecognized parfile line 'CHI2R          2.1896 637' [pint.models.timing_model]\n",
        "WARNING:astropy:Unrecognized parfile line 'CHI2R          2.1896 637'\n"
       ]
      }
     ],
     "prompt_number": 2
    },
    {
     "cell_type": "code",
     "collapsed": false,
     "input": [
      "print model.params"
     ],
     "language": "python",
     "metadata": {},
     "outputs": [
      {
       "output_type": "stream",
       "stream": "stdout",
       "text": [
        "['PSR', 'F0', 'F1', 'TZRMJD', 'PEPOCH', 'RAJ', 'DECJ', 'POSEPOCH', 'PMRA', 'PMDEC', 'PX', 'PLANET_SHAPIRO', 'DM', 'DMX', 'DMX_0001', 'DMXR1_0001', 'DMXR2_0001', 'PB', 'PBDOT', 'XPBDOT', 'A1', 'A1DOT', 'ECC', 'EDOT', 'T0', 'OM', 'OMDOT', 'M2', 'A0', 'B0', 'GAMMA', 'DR', 'DTH', 'SINI', 'JUMP1', 'DMXR2_0022', 'DMXR2_0023', 'DMXR2_0020', 'DMXR2_0021', 'DMXR2_0026', 'DMXR2_0027', 'DMXR2_0024', 'DMXR2_0025', 'DMXR2_0028', 'DMXR2_0029', 'DMXR2_0030', 'DMXR2_0004', 'DMXR2_0005', 'DMXR2_0006', 'DMXR2_0007', 'DMXR2_0002', 'DMXR2_0003', 'DMXR2_0008', 'DMXR2_0009', 'DMXR2_0019', 'DMXR2_0018', 'DMXR2_0013', 'DMXR2_0012', 'DMXR2_0011', 'DMXR2_0010', 'DMXR2_0017', 'DMXR2_0016', 'DMXR2_0015', 'DMXR2_0014', 'DMXR1_0003', 'DMXR1_0018', 'DMXR1_0019', 'DMXR1_0016', 'DMXR1_0017', 'DMXR1_0014', 'DMXR1_0015', 'DMXR1_0012', 'DMXR1_0013', 'DMXR1_0010', 'DMXR1_0011', 'DMXR1_0009', 'DMXR1_0008', 'DMXR1_0005', 'DMXR1_0004', 'DMXR1_0007', 'DMXR1_0006', 'DMXR1_0002', 'DMXR1_0030', 'DMXR1_0029', 'DMXR1_0027', 'DMXR1_0026', 'DMXR1_0025', 'DMXR1_0024', 'DMXR1_0023', 'DMXR1_0022', 'DMXR1_0021', 'DMXR1_0020', 'DMXR1_0028', 'DMX_0009', 'DMX_0020', 'DMX_0021', 'DMX_0022', 'DMX_0023', 'DMX_0024', 'DMX_0025', 'DMX_0026', 'DMX_0027', 'DMX_0028', 'DMX_0029', 'DMX_0030', 'DMX_0006', 'DMX_0007', 'DMX_0004', 'DMX_0005', 'DMX_0008', 'DMX_0019', 'DMX_0018', 'DMX_0011', 'DMX_0010', 'DMX_0013', 'DMX_0012', 'DMX_0015', 'DMX_0014', 'DMX_0017', 'DMX_0016', 'DMX_0002', 'DMX_0003', 'JUMP9', 'JUMP3', 'JUMP2', 'JUMP5', 'JUMP4', 'JUMP7', 'JUMP6', 'JUMP11', 'JUMP10', 'JUMP13', 'JUMP12', 'JUMP15', 'JUMP14', 'JUMP17', 'JUMP16', 'JUMP19', 'JUMP18', 'JUMP8', 'JUMP20', 'JUMP21']\n"
       ]
      }
     ],
     "prompt_number": 3
    },
    {
     "cell_type": "heading",
     "level": 2,
     "metadata": {},
     "source": [
      "Attributions in Parameters"
     ]
    },
    {
     "cell_type": "code",
     "collapsed": false,
     "input": [
      "printed = []\n",
      "for p in model.params:\n",
      "    par = getattr(model, p)\n",
      "    if type(par) in printed:\n",
      "        continue\n",
      "    print 'Name           ', par.name\n",
      "    print 'Type           ', type(par)\n",
      "    print 'Quantity       ', par.quantity, type(par.quantity)\n",
      "    print 'Value          ', par.value\n",
      "    print 'units          ', par.units\n",
      "    print 'Uncertainty    ', par.uncertainty\n",
      "    print 'Uncertainty_value', par.uncertainty_value\n",
      "    print 'Summary        ', par\n",
      "    print 'Parfile Style  ', par.as_parfile_line()\n",
      "    print '\\n'\n",
      "    printed.append(type(par))\n",
      "# Note JUMP and DMX is different. "
     ],
     "language": "python",
     "metadata": {},
     "outputs": [
      {
       "output_type": "stream",
       "stream": "stdout",
       "text": [
        "Name            PSR\n",
        "Type            <class 'pint.models.parameter.strParameter'>\n",
        "Quantity        1855+09 <type 'str'>\n",
        "Value           1855+09\n",
        "units           None\n",
        "Uncertainty     None\n",
        "Uncertainty_value None\n",
        "Summary         PSR 1855+09\n",
        "Parfile Stype   PSR                               1855+09\n",
        "\n",
        "\n",
        "\n",
        "Name            F0\n",
        "Type            <class 'pint.models.parameter.floatParameter'>\n",
        "Quantity        186.494081567 Hz <class 'astropy.units.quantity.Quantity'>\n",
        "Value           186.494081567\n",
        "units           Hz\n",
        "Uncertainty     6.98911818e-12 Hz\n",
        "Uncertainty_value 6.98911818e-12\n",
        "Summary         F0 (Hz) 186.49408156698235146 +/- 6.98911818e-12 Hz\n",
        "Parfile Stype   F0                  186.49408156698235146 1 6.98911818e-12\n",
        "\n",
        "\n",
        "\n",
        "Name            F1\n",
        "Type            <class 'pint.models.parameter.prefixParameter'>\n",
        "Quantity        -6.20495472775e-16 Hz / s <class 'astropy.units.quantity.Quantity'>\n",
        "Value           "
       ]
      },
      {
       "output_type": "stream",
       "stream": "stdout",
       "text": [
        "-6.20495472775e-16\n",
        "units           Hz / s\n",
        "Uncertainty     1.73809343736e-20 Hz / s\n",
        "Uncertainty_value "
       ]
      },
      {
       "output_type": "stream",
       "stream": "stdout",
       "text": [
        "1.73809343736e-20\n",
        "Summary         F1 (Hz / s) -6.20495472775e-16 +/- 1.73809343736e-20 Hz / s"
       ]
      },
      {
       "output_type": "stream",
       "stream": "stdout",
       "text": [
        "\n",
        "Parfile Stype   "
       ]
      },
      {
       "output_type": "stream",
       "stream": "stdout",
       "text": [
        "F1                     -6.20495472775e-16 1 1.73809343736e-20\n",
        "\n",
        "\n",
        "\n",
        "Name            TZRMJD\n",
        "Type            <class 'pint.models.parameter.MJDParameter'>\n",
        "Quantity        54177.5083593 <class 'astropy.time.core.Time'>\n",
        "Value           54177.5083593\n",
        "units           d\n",
        "Uncertainty     None\n",
        "Uncertainty_value None\n",
        "Summary         TZRMJD (d) 54177.508359343262555\n",
        "Parfile Stype   TZRMJD              54177.508359343262555\n",
        "\n",
        "\n",
        "\n",
        "Name            RAJ\n",
        "Type            <class 'pint.models.parameter.AngleParameter'>\n",
        "Quantity        18h57m36.3933s <class 'astropy.coordinates.angles.Angle'>\n",
        "Value           18.9601092468\n",
        "units           hourangle\n",
        "Uncertainty     0h00m00s\n",
        "Uncertainty_value 7.22980633528e-09\n",
        "Summary         RAJ (hourangle) 18:57:36.39328840 +/- 0h00m00s\n",
        "Parfile Stype   RAJ                     18:57:36.39328840 1 7.22980633528e-09\n",
        "\n",
        "\n",
        "\n",
        "Name            PLANET_SHAPIRO\n",
        "Type            <class 'pint.models.parameter.boolParameter'>\n",
        "Quantity        False <type 'bool'>\n",
        "Value           False\n",
        "units           None\n",
        "Uncertainty     None\n",
        "Uncertainty_value None\n",
        "Summary         PLANET_SHAPIRO N\n",
        "Parfile Stype   PLANET_SHAPIRO                          N\n",
        "\n",
        "\n",
        "\n",
        "Name            JUMP1\n",
        "Type            <class 'pint.models.parameter.maskParameter'>\n",
        "Quantity        7.64565276994e-07 s <class 'astropy.units.quantity.Quantity'>\n",
        "Value           "
       ]
      },
      {
       "output_type": "stream",
       "stream": "stdout",
       "text": [
        "7.64565276994e-07\n",
        "units           s\n",
        "Uncertainty     0.0 s\n",
        "Uncertainty_value "
       ]
      },
      {
       "output_type": "stream",
       "stream": "stdout",
       "text": [
        "0.0\n",
        "Summary         JUMP1 (s) 7.64565276994e-07 +/- 0.0 s"
       ]
      },
      {
       "output_type": "stream",
       "stream": "stdout",
       "text": [
        "\n",
        "Parfile Stype   "
       ]
      },
      {
       "output_type": "stream",
       "stream": "stdout",
       "text": [
        "JUMP1                   7.64565276994e-07 1 0.0\n",
        "\n",
        "\n",
        "\n"
       ]
      }
     ],
     "prompt_number": 8
    },
    {
     "cell_type": "heading",
     "level": 2,
     "metadata": {},
     "source": [
      "Making a parameter"
     ]
    },
    {
     "cell_type": "code",
     "collapsed": false,
     "input": [
      "t = pp.floatParameter(name='TEST', value=100, units='Hz',uncertainty=.03)\n",
      "print t"
     ],
     "language": "python",
     "metadata": {},
     "outputs": [
      {
       "output_type": "stream",
       "stream": "stdout",
       "text": [
        "TEST (Hz) 100.0 +/- 0.03 Hz\n"
       ]
      }
     ],
     "prompt_number": 9
    },
    {
     "cell_type": "code",
     "collapsed": false,
     "input": [
      "t2 = pp.floatParameter(name='TEST', value='200', units='Hz',uncertainty='.04')\n",
      "print t2"
     ],
     "language": "python",
     "metadata": {},
     "outputs": [
      {
       "output_type": "stream",
       "stream": "stdout",
       "text": [
        "TEST (Hz) 200.0 +/- 0.04 Hz\n"
       ]
      }
     ],
     "prompt_number": 10
    },
    {
     "cell_type": "code",
     "collapsed": false,
     "input": [
      "t3 = pp.floatParameter(name='TEST', value=0.3*u.kHz, units='Hz',uncertainty=4e-5*u.kHz)\n",
      "print t3\n",
      "print t3.quantity\n",
      "print t3.value\n",
      "print t3.uncertainty\n",
      "print t3.uncertainty_value"
     ],
     "language": "python",
     "metadata": {},
     "outputs": [
      {
       "output_type": "stream",
       "stream": "stdout",
       "text": [
        "TEST (Hz) 300.0 +/- 0.04 Hz\n",
        "0.3 kHz\n",
        "300.0\n",
        "4e-05 kHz\n",
        "0.04\n"
       ]
      }
     ],
     "prompt_number": 11
    },
    {
     "cell_type": "heading",
     "level": 2,
     "metadata": {},
     "source": [
      "Change Parameter quantity of value"
     ]
    },
    {
     "cell_type": "code",
     "collapsed": false,
     "input": [
      "par = model.F0\n",
      "print par\n",
      "par.quantity = 200\n",
      "print 'Quantity       ', par.quantity, type(par.quantity)\n",
      "print 'Value          ', par.value\n",
      "print par"
     ],
     "language": "python",
     "metadata": {},
     "outputs": [
      {
       "output_type": "stream",
       "stream": "stdout",
       "text": [
        "F0 (Hz) 186.49408156698235146 +/- 6.98911818e-12 Hz\n",
        "Quantity        200.0 Hz <class 'astropy.units.quantity.Quantity'>\n",
        "Value           200.0\n",
        "F0 (Hz) 200.0 +/- 6.98911818e-12 Hz\n"
       ]
      }
     ],
     "prompt_number": 12
    },
    {
     "cell_type": "code",
     "collapsed": false,
     "input": [
      "# Test F0\n",
      "print par\n",
      "par.value = 150\n",
      "print 'Quantity       ', par.quantity, type(par.quantity)\n",
      "print 'Value          ', par.value\n",
      "print par"
     ],
     "language": "python",
     "metadata": {},
     "outputs": [
      {
       "output_type": "stream",
       "stream": "stdout",
       "text": [
        "F0 (Hz) 200.0 +/- 6.98911818e-12 Hz\n",
        "Quantity        150.0 Hz <class 'astropy.units.quantity.Quantity'>\n",
        "Value           150.0\n",
        "F0 (Hz) 150.0 +/- 6.98911818e-12 Hz\n"
       ]
      }
     ],
     "prompt_number": 13
    },
    {
     "cell_type": "code",
     "collapsed": false,
     "input": [
      "# Example for F0\n",
      "print par\n",
      "par.value = '100'\n",
      "print 'Quantity       ', par.quantity, type(par.quantity)\n",
      "print 'Value          ', par.value\n",
      "print par"
     ],
     "language": "python",
     "metadata": {},
     "outputs": [
      {
       "output_type": "stream",
       "stream": "stdout",
       "text": [
        "F0 (Hz) 150.0 +/- 6.98911818e-12 Hz\n",
        "Quantity        100.0 Hz <class 'astropy.units.quantity.Quantity'>\n",
        "Value           100.0\n",
        "F0 (Hz) 100.0 +/- 6.98911818e-12 Hz\n"
       ]
      }
     ],
     "prompt_number": 14
    },
    {
     "cell_type": "code",
     "collapsed": false,
     "input": [
      "# Example for F0\n",
      "print par\n",
      "par.quantity = '300'\n",
      "print 'Quantity       ', par.quantity, type(par.quantity)\n",
      "print 'Value          ', par.value\n",
      "print par"
     ],
     "language": "python",
     "metadata": {},
     "outputs": [
      {
       "output_type": "stream",
       "stream": "stdout",
       "text": [
        "F0 (Hz) 100.0 +/- 6.98911818e-12 Hz\n",
        "Quantity        300.0 Hz <class 'astropy.units.quantity.Quantity'>\n",
        "Value           300.0\n",
        "F0 (Hz) 300.0 +/- 6.98911818e-12 Hz\n"
       ]
      }
     ],
     "prompt_number": 15
    },
    {
     "cell_type": "code",
     "collapsed": false,
     "input": [
      "# Examle  F0\n",
      "par.quantity = 0.3*u.kHz\n",
      "print 'Quantity       ', par.quantity, type(par.quantity)\n",
      "print 'Value          ', par.value\n",
      "print par "
     ],
     "language": "python",
     "metadata": {},
     "outputs": [
      {
       "output_type": "stream",
       "stream": "stdout",
       "text": [
        "Quantity        0.3 kHz <class 'astropy.units.quantity.Quantity'>\n",
        "Value           300.0\n",
        "F0 (Hz) 299.9999999999999889 +/- 6.98911818e-12 Hz\n"
       ]
      }
     ],
     "prompt_number": 17
    },
    {
     "cell_type": "code",
     "collapsed": false,
     "input": [
      "# Examle  F0\n",
      "print par\n",
      "par.value = 100*u.second  # SET F0 to seconds as time. \n",
      "print 'Quantity       ', par.quantity, type(par.quantity)\n",
      "print 'Value          ', par.value\n",
      "print par"
     ],
     "language": "python",
     "metadata": {},
     "outputs": [
      {
       "ename": "UnitConversionError",
       "evalue": "'s' (time) and 'Hz' (frequency) are not convertible",
       "output_type": "pyerr",
       "traceback": [
        "\u001b[0;31m---------------------------------------------------------------------------\u001b[0m\n\u001b[0;31mUnitConversionError\u001b[0m                       Traceback (most recent call last)",
        "\u001b[0;32m<ipython-input-19-859e91435dcd>\u001b[0m in \u001b[0;36m<module>\u001b[0;34m()\u001b[0m\n\u001b[1;32m      1\u001b[0m \u001b[0;31m# Examle  F0\u001b[0m\u001b[0;34m\u001b[0m\u001b[0;34m\u001b[0m\u001b[0m\n\u001b[1;32m      2\u001b[0m \u001b[0;32mprint\u001b[0m \u001b[0mpar\u001b[0m\u001b[0;34m\u001b[0m\u001b[0m\n\u001b[0;32m----> 3\u001b[0;31m \u001b[0mpar\u001b[0m\u001b[0;34m.\u001b[0m\u001b[0mvalue\u001b[0m \u001b[0;34m=\u001b[0m \u001b[0;36m100\u001b[0m\u001b[0;34m*\u001b[0m\u001b[0mu\u001b[0m\u001b[0;34m.\u001b[0m\u001b[0msecond\u001b[0m  \u001b[0;31m# SET F0 to seconds as time.\u001b[0m\u001b[0;34m\u001b[0m\u001b[0m\n\u001b[0m\u001b[1;32m      4\u001b[0m \u001b[0;32mprint\u001b[0m \u001b[0;34m'Quantity       '\u001b[0m\u001b[0;34m,\u001b[0m \u001b[0mpar\u001b[0m\u001b[0;34m.\u001b[0m\u001b[0mquantity\u001b[0m\u001b[0;34m,\u001b[0m \u001b[0mtype\u001b[0m\u001b[0;34m(\u001b[0m\u001b[0mpar\u001b[0m\u001b[0;34m.\u001b[0m\u001b[0mquantity\u001b[0m\u001b[0;34m)\u001b[0m\u001b[0;34m\u001b[0m\u001b[0m\n\u001b[1;32m      5\u001b[0m \u001b[0;32mprint\u001b[0m \u001b[0;34m'Value          '\u001b[0m\u001b[0;34m,\u001b[0m \u001b[0mpar\u001b[0m\u001b[0;34m.\u001b[0m\u001b[0mvalue\u001b[0m\u001b[0;34m\u001b[0m\u001b[0m\n",
        "\u001b[0;32m/Users/jingluo/Research_codes/PINT/pint/models/parameter.py\u001b[0m in \u001b[0;36mvalue\u001b[0;34m(self, val)\u001b[0m\n\u001b[1;32m    217\u001b[0m             \u001b[0;32melse\u001b[0m\u001b[0;34m:\u001b[0m\u001b[0;34m\u001b[0m\u001b[0m\n\u001b[1;32m    218\u001b[0m                 \u001b[0mself\u001b[0m\u001b[0;34m.\u001b[0m\u001b[0mvalue\u001b[0m \u001b[0;34m=\u001b[0m \u001b[0mval\u001b[0m\u001b[0;34m\u001b[0m\u001b[0m\n\u001b[0;32m--> 219\u001b[0;31m         \u001b[0mself\u001b[0m\u001b[0;34m.\u001b[0m\u001b[0m_quantity\u001b[0m \u001b[0;34m=\u001b[0m \u001b[0mself\u001b[0m\u001b[0;34m.\u001b[0m\u001b[0mset_quantity\u001b[0m\u001b[0;34m(\u001b[0m\u001b[0mval\u001b[0m\u001b[0;34m)\u001b[0m\u001b[0;34m\u001b[0m\u001b[0m\n\u001b[0m\u001b[1;32m    220\u001b[0m \u001b[0;34m\u001b[0m\u001b[0m\n\u001b[1;32m    221\u001b[0m     \u001b[0;34m@\u001b[0m\u001b[0mproperty\u001b[0m\u001b[0;34m\u001b[0m\u001b[0m\n",
        "\u001b[0;32m/Users/jingluo/Research_codes/PINT/pint/models/parameter.py\u001b[0m in \u001b[0;36mset_quantity_longdouble\u001b[0;34m(self, val)\u001b[0m\n\u001b[1;32m    429\u001b[0m     \u001b[0;32mdef\u001b[0m \u001b[0mset_quantity_longdouble\u001b[0m\u001b[0;34m(\u001b[0m\u001b[0mself\u001b[0m\u001b[0;34m,\u001b[0m \u001b[0mval\u001b[0m\u001b[0;34m)\u001b[0m\u001b[0;34m:\u001b[0m\u001b[0;34m\u001b[0m\u001b[0m\n\u001b[1;32m    430\u001b[0m         \u001b[0;32mtry\u001b[0m\u001b[0;34m:\u001b[0m\u001b[0;34m\u001b[0m\u001b[0m\n\u001b[0;32m--> 431\u001b[0;31m             \u001b[0m_\u001b[0m \u001b[0;34m=\u001b[0m \u001b[0mval\u001b[0m\u001b[0;34m.\u001b[0m\u001b[0mto\u001b[0m\u001b[0;34m(\u001b[0m\u001b[0mself\u001b[0m\u001b[0;34m.\u001b[0m\u001b[0munits\u001b[0m\u001b[0;34m)\u001b[0m\u001b[0;34m\u001b[0m\u001b[0m\n\u001b[0m\u001b[1;32m    432\u001b[0m             \u001b[0mresult\u001b[0m \u001b[0;34m=\u001b[0m \u001b[0mdata2longdouble\u001b[0m\u001b[0;34m(\u001b[0m\u001b[0mval\u001b[0m\u001b[0;34m.\u001b[0m\u001b[0mvalue\u001b[0m\u001b[0;34m)\u001b[0m\u001b[0;34m*\u001b[0m\u001b[0mval\u001b[0m\u001b[0;34m.\u001b[0m\u001b[0munit\u001b[0m\u001b[0;34m\u001b[0m\u001b[0m\n\u001b[1;32m    433\u001b[0m         \u001b[0;32mexcept\u001b[0m \u001b[0mAttributeError\u001b[0m\u001b[0;34m:\u001b[0m\u001b[0;34m\u001b[0m\u001b[0m\n",
        "\u001b[0;32m/Users/jingluo/.local/lib/python2.7/site-packages/astropy-1.1.dev14232-py2.7-macosx-10.5-x86_64.egg/astropy/units/quantity.pyc\u001b[0m in \u001b[0;36mto\u001b[0;34m(self, unit, equivalencies)\u001b[0m\n\u001b[1;32m    631\u001b[0m         \u001b[0munit\u001b[0m \u001b[0;34m=\u001b[0m \u001b[0mUnit\u001b[0m\u001b[0;34m(\u001b[0m\u001b[0munit\u001b[0m\u001b[0;34m)\u001b[0m\u001b[0;34m\u001b[0m\u001b[0m\n\u001b[1;32m    632\u001b[0m         new_val = self.unit.to(unit, self.view(np.ndarray),\n\u001b[0;32m--> 633\u001b[0;31m                                equivalencies=equivalencies)\n\u001b[0m\u001b[1;32m    634\u001b[0m         \u001b[0;32mreturn\u001b[0m \u001b[0mself\u001b[0m\u001b[0;34m.\u001b[0m\u001b[0m_new_view\u001b[0m\u001b[0;34m(\u001b[0m\u001b[0mnew_val\u001b[0m\u001b[0;34m,\u001b[0m \u001b[0munit\u001b[0m\u001b[0;34m)\u001b[0m\u001b[0;34m\u001b[0m\u001b[0m\n\u001b[1;32m    635\u001b[0m \u001b[0;34m\u001b[0m\u001b[0m\n",
        "\u001b[0;32m/Users/jingluo/.local/lib/python2.7/site-packages/astropy-1.1.dev14232-py2.7-macosx-10.5-x86_64.egg/astropy/units/core.pyc\u001b[0m in \u001b[0;36mto\u001b[0;34m(self, other, value, equivalencies)\u001b[0m\n\u001b[1;32m    966\u001b[0m             \u001b[0mIf\u001b[0m \u001b[0munits\u001b[0m \u001b[0mare\u001b[0m \u001b[0minconsistent\u001b[0m\u001b[0;34m\u001b[0m\u001b[0m\n\u001b[1;32m    967\u001b[0m         \"\"\"\n\u001b[0;32m--> 968\u001b[0;31m         \u001b[0;32mreturn\u001b[0m \u001b[0mself\u001b[0m\u001b[0;34m.\u001b[0m\u001b[0m_get_converter\u001b[0m\u001b[0;34m(\u001b[0m\u001b[0mother\u001b[0m\u001b[0;34m,\u001b[0m \u001b[0mequivalencies\u001b[0m\u001b[0;34m=\u001b[0m\u001b[0mequivalencies\u001b[0m\u001b[0;34m)\u001b[0m\u001b[0;34m(\u001b[0m\u001b[0mvalue\u001b[0m\u001b[0;34m)\u001b[0m\u001b[0;34m\u001b[0m\u001b[0m\n\u001b[0m\u001b[1;32m    969\u001b[0m \u001b[0;34m\u001b[0m\u001b[0m\n\u001b[1;32m    970\u001b[0m     \u001b[0;32mdef\u001b[0m \u001b[0min_units\u001b[0m\u001b[0;34m(\u001b[0m\u001b[0mself\u001b[0m\u001b[0;34m,\u001b[0m \u001b[0mother\u001b[0m\u001b[0;34m,\u001b[0m \u001b[0mvalue\u001b[0m\u001b[0;34m=\u001b[0m\u001b[0;36m1.0\u001b[0m\u001b[0;34m,\u001b[0m \u001b[0mequivalencies\u001b[0m\u001b[0;34m=\u001b[0m\u001b[0;34m[\u001b[0m\u001b[0;34m]\u001b[0m\u001b[0;34m)\u001b[0m\u001b[0;34m:\u001b[0m\u001b[0;34m\u001b[0m\u001b[0m\n",
        "\u001b[0;32m/Users/jingluo/.local/lib/python2.7/site-packages/astropy-1.1.dev14232-py2.7-macosx-10.5-x86_64.egg/astropy/units/core.pyc\u001b[0m in \u001b[0;36m_get_converter\u001b[0;34m(self, other, equivalencies)\u001b[0m\n\u001b[1;32m    867\u001b[0m         \u001b[0;32mexcept\u001b[0m \u001b[0mUnitsError\u001b[0m\u001b[0;34m:\u001b[0m\u001b[0;34m\u001b[0m\u001b[0m\n\u001b[1;32m    868\u001b[0m             return self._apply_equivalencies(\n\u001b[0;32m--> 869\u001b[0;31m                 self, other, self._normalize_equivalencies(equivalencies))\n\u001b[0m\u001b[1;32m    870\u001b[0m         \u001b[0;32mreturn\u001b[0m \u001b[0;32mlambda\u001b[0m \u001b[0mval\u001b[0m\u001b[0;34m:\u001b[0m \u001b[0mscale\u001b[0m \u001b[0;34m*\u001b[0m \u001b[0m_condition_arg\u001b[0m\u001b[0;34m(\u001b[0m\u001b[0mval\u001b[0m\u001b[0;34m)\u001b[0m\u001b[0;34m\u001b[0m\u001b[0m\n\u001b[1;32m    871\u001b[0m \u001b[0;34m\u001b[0m\u001b[0m\n",
        "\u001b[0;32m/Users/jingluo/.local/lib/python2.7/site-packages/astropy-1.1.dev14232-py2.7-macosx-10.5-x86_64.egg/astropy/units/core.pyc\u001b[0m in \u001b[0;36m_apply_equivalencies\u001b[0;34m(self, unit, other, equivalencies)\u001b[0m\n\u001b[1;32m    858\u001b[0m         raise UnitConversionError(\n\u001b[1;32m    859\u001b[0m             \"{0} and {1} are not convertible\".format(\n\u001b[0;32m--> 860\u001b[0;31m                 unit_str, other_str))\n\u001b[0m\u001b[1;32m    861\u001b[0m \u001b[0;34m\u001b[0m\u001b[0m\n\u001b[1;32m    862\u001b[0m     \u001b[0;32mdef\u001b[0m \u001b[0m_get_converter\u001b[0m\u001b[0;34m(\u001b[0m\u001b[0mself\u001b[0m\u001b[0;34m,\u001b[0m \u001b[0mother\u001b[0m\u001b[0;34m,\u001b[0m \u001b[0mequivalencies\u001b[0m\u001b[0;34m=\u001b[0m\u001b[0;34m[\u001b[0m\u001b[0;34m]\u001b[0m\u001b[0;34m)\u001b[0m\u001b[0;34m:\u001b[0m\u001b[0;34m\u001b[0m\u001b[0m\n",
        "\u001b[0;31mUnitConversionError\u001b[0m: 's' (time) and 'Hz' (frequency) are not convertible"
       ]
      },
      {
       "output_type": "stream",
       "stream": "stdout",
       "text": [
        "F0 (Hz) 299.9999999999999889 +/- 6.98911818e-12 Hz\n"
       ]
      }
     ],
     "prompt_number": 19
    },
    {
     "cell_type": "heading",
     "level": 3,
     "metadata": {},
     "source": [
      "For MJD parameters"
     ]
    },
    {
     "cell_type": "code",
     "collapsed": false,
     "input": [
      "par = model.TZRMJD\n",
      "print par\n",
      "par.quantity = 54000\n",
      "print 'Quantity       ', par.quantity, type(par.quantity)\n",
      "print 'Value          ', par.value\n",
      "print par\n",
      "par.quantity"
     ],
     "language": "python",
     "metadata": {},
     "outputs": [
      {
       "output_type": "stream",
       "stream": "stdout",
       "text": [
        "TZRMJD (d) 54177.508359343262555\n",
        "Quantity        54000.0 <class 'astropy.time.core.Time'>\n",
        "Value           54000.0\n",
        "TZRMJD (d) 54000.000000000000000\n"
       ]
      },
      {
       "metadata": {},
       "output_type": "pyout",
       "prompt_number": 15,
       "text": [
        "<Time object: scale='tdb' format='mjd' value=54000.0>"
       ]
      }
     ],
     "prompt_number": 15
    },
    {
     "cell_type": "code",
     "collapsed": false,
     "input": [
      "# Example for TZRMJD\n",
      "par.quantity = '54001'\n",
      "print 'Quantity       ', par.quantity, type(par.quantity)\n",
      "print 'Value          ', par.value\n",
      "print par\n",
      "par.quantity"
     ],
     "language": "python",
     "metadata": {},
     "outputs": [
      {
       "output_type": "stream",
       "stream": "stdout",
       "text": [
        "Quantity        54001.0 <class 'astropy.time.core.Time'>\n",
        "Value           54001.0\n",
        "TZRMJD (d) 54001.000000000000000\n"
       ]
      },
      {
       "metadata": {},
       "output_type": "pyout",
       "prompt_number": 16,
       "text": [
        "<Time object: scale='tdb' format='mjd' value=54001.0>"
       ]
      }
     ],
     "prompt_number": 16
    },
    {
     "cell_type": "code",
     "collapsed": false,
     "input": [
      "# Example for TZRMJD\n",
      "par.value = 54002\n",
      "print 'Quantity       ', par.quantity, type(par.quantity)\n",
      "print 'Value          ', par.value\n",
      "print par\n",
      "par.quantity"
     ],
     "language": "python",
     "metadata": {},
     "outputs": [
      {
       "output_type": "stream",
       "stream": "stdout",
       "text": [
        "Quantity        54002.0 <class 'astropy.time.core.Time'>\n",
        "Value           54002.0\n",
        "TZRMJD (d) 54002.000000000000000\n"
       ]
      },
      {
       "metadata": {},
       "output_type": "pyout",
       "prompt_number": 17,
       "text": [
        "<Time object: scale='tdb' format='mjd' value=54002.0>"
       ]
      }
     ],
     "prompt_number": 17
    },
    {
     "cell_type": "code",
     "collapsed": false,
     "input": [
      "# Example for TZRMJD\n",
      "par.value = '54003'\n",
      "print 'Quantity       ', par.quantity, type(par.quantity)\n",
      "print 'Value          ', par.value\n",
      "print par\n",
      "par.quantity"
     ],
     "language": "python",
     "metadata": {},
     "outputs": [
      {
       "output_type": "stream",
       "stream": "stdout",
       "text": [
        "Quantity        54003.0 <class 'astropy.time.core.Time'>\n",
        "Value           54003.0\n",
        "TZRMJD (d) 54003.000000000000000\n"
       ]
      },
      {
       "metadata": {},
       "output_type": "pyout",
       "prompt_number": 18,
       "text": [
        "<Time object: scale='tdb' format='mjd' value=54003.0>"
       ]
      }
     ],
     "prompt_number": 18
    },
    {
     "cell_type": "heading",
     "level": 3,
     "metadata": {},
     "source": [
      "For AngleParameters"
     ]
    },
    {
     "cell_type": "code",
     "collapsed": false,
     "input": [
      "# Example for RAJ\n",
      "par = model.RAJ\n",
      "print par\n",
      "par.quantity = 50\n",
      "print 'Quantity       ', par.quantity, type(par.quantity)\n",
      "print 'Value          ', par.value\n",
      "print par\n",
      "par.quantity"
     ],
     "language": "python",
     "metadata": {},
     "outputs": [
      {
       "output_type": "stream",
       "stream": "stdout",
       "text": [
        "RAJ (hourangle) 18:57:36.39328840 +/- 0h00m00s\n",
        "Quantity        50h00m00s <class 'astropy.coordinates.angles.Angle'>\n",
        "Value           50.0\n",
        "RAJ (hourangle) 50:00:00.00000000 +/- 0h00m00s\n"
       ]
      },
      {
       "latex": [
        "$50^\\mathrm{h}00^\\mathrm{m}00^\\mathrm{s}$"
       ],
       "metadata": {},
       "output_type": "pyout",
       "prompt_number": 20,
       "text": [
        "<Angle 50.0 hourangle>"
       ]
      }
     ],
     "prompt_number": 20
    },
    {
     "cell_type": "code",
     "collapsed": false,
     "input": [
      "import astropy"
     ],
     "language": "python",
     "metadata": {},
     "outputs": [],
     "prompt_number": 24
    },
    {
     "cell_type": "code",
     "collapsed": false,
     "input": [
      "astropy.__version__"
     ],
     "language": "python",
     "metadata": {},
     "outputs": [
      {
       "metadata": {},
       "output_type": "pyout",
       "prompt_number": 25,
       "text": [
        "u'1.1.dev14232'"
       ]
      }
     ],
     "prompt_number": 25
    },
    {
     "cell_type": "code",
     "collapsed": false,
     "input": [
      "Angle(50.0*u.hourangle)"
     ],
     "language": "python",
     "metadata": {},
     "outputs": [
      {
       "latex": [
        "$50^\\mathrm{h}00^\\mathrm{m}00^\\mathrm{s}$"
       ],
       "metadata": {},
       "output_type": "pyout",
       "prompt_number": 23,
       "text": [
        "<Angle 50.0 hourangle>"
       ]
      }
     ],
     "prompt_number": 23
    },
    {
     "cell_type": "code",
     "collapsed": false,
     "input": [
      "# Example for RAJ\n",
      "print par\n",
      "par.quantity = 30.5\n",
      "print 'Quantity       ', par.quantity, type(par.quantity)\n",
      "print 'Value          ', par.value\n",
      "print par\n",
      "par.quantity"
     ],
     "language": "python",
     "metadata": {},
     "outputs": [
      {
       "output_type": "stream",
       "stream": "stdout",
       "text": [
        "RAJ (hourangle) 50:00:00.00000000 +/- 0h00m00s\n",
        "Quantity        30h30m00s <class 'astropy.coordinates.angles.Angle'>\n",
        "Value           30.5\n",
        "RAJ (hourangle) 30:30:00.00000000 +/- 0h00m00s\n"
       ]
      },
      {
       "latex": [
        "$30^\\mathrm{h}30^\\mathrm{m}00^\\mathrm{s}$"
       ],
       "metadata": {},
       "output_type": "pyout",
       "prompt_number": 20,
       "text": [
        "<Angle 30.5 hourangle>"
       ]
      }
     ],
     "prompt_number": 20
    },
    {
     "cell_type": "code",
     "collapsed": false,
     "input": [
      "# Example for RAJ\n",
      "print par\n",
      "par.quantity = '20:30:00'\n",
      "print 'Quantity       ', par.quantity, type(par.quantity)\n",
      "print 'Value          ', par.value\n",
      "print par\n",
      "par.quantity"
     ],
     "language": "python",
     "metadata": {},
     "outputs": [
      {
       "output_type": "stream",
       "stream": "stdout",
       "text": [
        "RAJ (hourangle) 30:30:00.00000000 +/- 0h00m00s\n",
        "Quantity        20h30m00s <class 'astropy.coordinates.angles.Angle'>\n",
        "Value           20.5\n",
        "RAJ (hourangle) 20:30:00.00000000 +/- 0h00m00s\n"
       ]
      },
      {
       "latex": [
        "$20^\\mathrm{h}30^\\mathrm{m}00^\\mathrm{s}$"
       ],
       "metadata": {},
       "output_type": "pyout",
       "prompt_number": 21,
       "text": [
        "<Angle 20.5 hourangle>"
       ]
      }
     ],
     "prompt_number": 21
    },
    {
     "cell_type": "code",
     "collapsed": false,
     "input": [
      "# Example for RAJ\n",
      "print par\n",
      "par.value = '20:05:0'\n",
      "print 'Quantity       ', par.quantity, type(par.quantity)\n",
      "print 'Value          ', par.value\n",
      "print par\n",
      "par.quantity"
     ],
     "language": "python",
     "metadata": {},
     "outputs": [
      {
       "output_type": "stream",
       "stream": "stdout",
       "text": [
        "RAJ (hourangle) 20:30:00.00000000 +/- 0h00m00s\n",
        "Quantity        20h05m00s <class 'astropy.coordinates.angles.Angle'>\n",
        "Value           20.0833333333\n",
        "RAJ (hourangle) 20:05:00.00000000 +/- 0h00m00s\n"
       ]
      },
      {
       "latex": [
        "$20^\\mathrm{h}05^\\mathrm{m}00^\\mathrm{s}$"
       ],
       "metadata": {},
       "output_type": "pyout",
       "prompt_number": 22,
       "text": [
        "<Angle 20.083333333333332 hourangle>"
       ]
      }
     ],
     "prompt_number": 22
    },
    {
     "cell_type": "code",
     "collapsed": false,
     "input": [
      "# Example for RAJ\n",
      "print par\n",
      "par.quantity = 30*u.deg\n",
      "print 'Quantity       ', par.quantity, type(par.quantity)\n",
      "print 'Quantity in deg', par.quantity.to(u.deg)\n",
      "print 'Value          ', par.value\n",
      "print par\n",
      "par.quantity"
     ],
     "language": "python",
     "metadata": {},
     "outputs": [
      {
       "output_type": "stream",
       "stream": "stdout",
       "text": [
        "RAJ (hourangle) 20:05:00.00000000 +/- 0h00m00s\n",
        "Quantity        2h00m00s <class 'astropy.coordinates.angles.Angle'>\n",
        "Quantity in deg 30d00m00s\n",
        "Value           2.0\n",
        "RAJ (hourangle) 2:00:00.00000000 +/- 0h00m00s\n"
       ]
      },
      {
       "latex": [
        "$2^\\mathrm{h}00^\\mathrm{m}00^\\mathrm{s}$"
       ],
       "metadata": {},
       "output_type": "pyout",
       "prompt_number": 23,
       "text": [
        "<Angle 2.0000000000000004 hourangle>"
       ]
      }
     ],
     "prompt_number": 23
    },
    {
     "cell_type": "code",
     "collapsed": false,
     "input": [
      "# Example for RAJ\n",
      "print par\n",
      "par.value = 40*u.rad\n",
      "print 'Quantity       ', par.quantity, type(par.quantity)\n",
      "print 'Quantity in rad', par.quantity.to(u.rad)\n",
      "print 'Value          ', par.value\n",
      "print par\n",
      "par.quantity"
     ],
     "language": "python",
     "metadata": {},
     "outputs": [
      {
       "output_type": "stream",
       "stream": "stdout",
       "text": [
        "RAJ (hourangle) 2:00:00.00000000 +/- 0h00m00s\n",
        "Quantity        152h47m19.4833s <class 'astropy.coordinates.angles.Angle'>\n",
        "Quantity in rad 40rad\n",
        "Value           152.788745368\n",
        "RAJ (hourangle) 152:47:19.48332559 +/- 0h00m00s\n"
       ]
      },
      {
       "latex": [
        "$152^\\mathrm{h}47^\\mathrm{m}19.4833^\\mathrm{s}$"
       ],
       "metadata": {},
       "output_type": "pyout",
       "prompt_number": 24,
       "text": [
        "<Angle 152.78874536821954 hourangle>"
       ]
      }
     ],
     "prompt_number": 24
    },
    {
     "cell_type": "markdown",
     "metadata": {},
     "source": [
      "Test for wrong unit"
     ]
    },
    {
     "cell_type": "code",
     "collapsed": false,
     "input": [
      "# Example for RAJ\n",
      "print par\n",
      "par.value = 40*u.second   #  Here second is in the unit of time, not hourangle\n",
      "print 'Quantity       ', par.quantity, type(par.quantity)\n",
      "print 'Quantity in rad', par.quantity.to(u.rad)\n",
      "print 'Value          ', par.value\n",
      "print par\n",
      "par.quantity"
     ],
     "language": "python",
     "metadata": {},
     "outputs": [
      {
       "ename": "UnitConversionError",
       "evalue": "'s' (time) and 'hourangle' (angle) are not convertible",
       "output_type": "pyerr",
       "traceback": [
        "\u001b[0;31m---------------------------------------------------------------------------\u001b[0m\n\u001b[0;31mUnitConversionError\u001b[0m                       Traceback (most recent call last)",
        "\u001b[0;32m<ipython-input-25-774e81f576a4>\u001b[0m in \u001b[0;36m<module>\u001b[0;34m()\u001b[0m\n\u001b[1;32m      1\u001b[0m \u001b[0;32mprint\u001b[0m \u001b[0mpar\u001b[0m\u001b[0;34m\u001b[0m\u001b[0m\n\u001b[0;32m----> 2\u001b[0;31m \u001b[0mpar\u001b[0m\u001b[0;34m.\u001b[0m\u001b[0mvalue\u001b[0m \u001b[0;34m=\u001b[0m \u001b[0;36m40\u001b[0m\u001b[0;34m*\u001b[0m\u001b[0mu\u001b[0m\u001b[0;34m.\u001b[0m\u001b[0msecond\u001b[0m\u001b[0;34m\u001b[0m\u001b[0m\n\u001b[0m\u001b[1;32m      3\u001b[0m \u001b[0;32mprint\u001b[0m \u001b[0;34m'Quantity       '\u001b[0m\u001b[0;34m,\u001b[0m \u001b[0mpar\u001b[0m\u001b[0;34m.\u001b[0m\u001b[0mquantity\u001b[0m\u001b[0;34m,\u001b[0m \u001b[0mtype\u001b[0m\u001b[0;34m(\u001b[0m\u001b[0mpar\u001b[0m\u001b[0;34m.\u001b[0m\u001b[0mquantity\u001b[0m\u001b[0;34m)\u001b[0m\u001b[0;34m\u001b[0m\u001b[0m\n\u001b[1;32m      4\u001b[0m \u001b[0;32mprint\u001b[0m \u001b[0;34m'Quantity in rad'\u001b[0m\u001b[0;34m,\u001b[0m \u001b[0mpar\u001b[0m\u001b[0;34m.\u001b[0m\u001b[0mquantity\u001b[0m\u001b[0;34m.\u001b[0m\u001b[0mto\u001b[0m\u001b[0;34m(\u001b[0m\u001b[0mu\u001b[0m\u001b[0;34m.\u001b[0m\u001b[0mrad\u001b[0m\u001b[0;34m)\u001b[0m\u001b[0;34m\u001b[0m\u001b[0m\n\u001b[1;32m      5\u001b[0m \u001b[0;32mprint\u001b[0m \u001b[0;34m'Value          '\u001b[0m\u001b[0;34m,\u001b[0m \u001b[0mpar\u001b[0m\u001b[0;34m.\u001b[0m\u001b[0mvalue\u001b[0m\u001b[0;34m\u001b[0m\u001b[0m\n",
        "\u001b[0;32m/Users/jingluo/Research_codes/PINT/pint/models/parameter.pyc\u001b[0m in \u001b[0;36mvalue\u001b[0;34m(self, val)\u001b[0m\n\u001b[1;32m    203\u001b[0m             \u001b[0;32melse\u001b[0m\u001b[0;34m:\u001b[0m\u001b[0;34m\u001b[0m\u001b[0m\n\u001b[1;32m    204\u001b[0m                 \u001b[0mself\u001b[0m\u001b[0;34m.\u001b[0m\u001b[0mvalue\u001b[0m \u001b[0;34m=\u001b[0m \u001b[0mval\u001b[0m\u001b[0;34m\u001b[0m\u001b[0m\n\u001b[0;32m--> 205\u001b[0;31m         \u001b[0mself\u001b[0m\u001b[0;34m.\u001b[0m\u001b[0m_quantity\u001b[0m \u001b[0;34m=\u001b[0m \u001b[0mself\u001b[0m\u001b[0;34m.\u001b[0m\u001b[0mset_quantity\u001b[0m\u001b[0;34m(\u001b[0m\u001b[0mval\u001b[0m\u001b[0;34m)\u001b[0m\u001b[0;34m\u001b[0m\u001b[0m\n\u001b[0m\u001b[1;32m    206\u001b[0m \u001b[0;34m\u001b[0m\u001b[0m\n\u001b[1;32m    207\u001b[0m     \u001b[0;34m@\u001b[0m\u001b[0mproperty\u001b[0m\u001b[0;34m\u001b[0m\u001b[0m\n",
        "\u001b[0;32m/Users/jingluo/Research_codes/PINT/pint/models/parameter.pyc\u001b[0m in \u001b[0;36mset_quantity_angle\u001b[0;34m(self, val)\u001b[0m\n\u001b[1;32m    554\u001b[0m                                  ' astropy angle.')\n\u001b[1;32m    555\u001b[0m         \u001b[0;32melif\u001b[0m \u001b[0mhasattr\u001b[0m\u001b[0;34m(\u001b[0m\u001b[0mval\u001b[0m\u001b[0;34m,\u001b[0m \u001b[0;34m'unit'\u001b[0m\u001b[0;34m)\u001b[0m\u001b[0;34m:\u001b[0m\u001b[0;34m\u001b[0m\u001b[0m\n\u001b[0;32m--> 556\u001b[0;31m             \u001b[0mresult\u001b[0m \u001b[0;34m=\u001b[0m \u001b[0mAngle\u001b[0m\u001b[0;34m(\u001b[0m\u001b[0mval\u001b[0m\u001b[0;34m.\u001b[0m\u001b[0mto\u001b[0m\u001b[0;34m(\u001b[0m\u001b[0mself\u001b[0m\u001b[0;34m.\u001b[0m\u001b[0munits\u001b[0m\u001b[0;34m)\u001b[0m\u001b[0;34m)\u001b[0m\u001b[0;34m\u001b[0m\u001b[0m\n\u001b[0m\u001b[1;32m    557\u001b[0m         \u001b[0;32melse\u001b[0m\u001b[0;34m:\u001b[0m\u001b[0;34m\u001b[0m\u001b[0m\n\u001b[1;32m    558\u001b[0m             raise ValueError('Angle parameter can not accept '\n",
        "\u001b[0;32m/Users/jingluo/.local/lib/python2.7/site-packages/astropy-1.1.dev14232-py2.7-macosx-10.5-x86_64.egg/astropy/units/quantity.pyc\u001b[0m in \u001b[0;36mto\u001b[0;34m(self, unit, equivalencies)\u001b[0m\n\u001b[1;32m    631\u001b[0m         \u001b[0munit\u001b[0m \u001b[0;34m=\u001b[0m \u001b[0mUnit\u001b[0m\u001b[0;34m(\u001b[0m\u001b[0munit\u001b[0m\u001b[0;34m)\u001b[0m\u001b[0;34m\u001b[0m\u001b[0m\n\u001b[1;32m    632\u001b[0m         new_val = self.unit.to(unit, self.view(np.ndarray),\n\u001b[0;32m--> 633\u001b[0;31m                                equivalencies=equivalencies)\n\u001b[0m\u001b[1;32m    634\u001b[0m         \u001b[0;32mreturn\u001b[0m \u001b[0mself\u001b[0m\u001b[0;34m.\u001b[0m\u001b[0m_new_view\u001b[0m\u001b[0;34m(\u001b[0m\u001b[0mnew_val\u001b[0m\u001b[0;34m,\u001b[0m \u001b[0munit\u001b[0m\u001b[0;34m)\u001b[0m\u001b[0;34m\u001b[0m\u001b[0m\n\u001b[1;32m    635\u001b[0m \u001b[0;34m\u001b[0m\u001b[0m\n",
        "\u001b[0;32m/Users/jingluo/.local/lib/python2.7/site-packages/astropy-1.1.dev14232-py2.7-macosx-10.5-x86_64.egg/astropy/units/core.pyc\u001b[0m in \u001b[0;36mto\u001b[0;34m(self, other, value, equivalencies)\u001b[0m\n\u001b[1;32m    966\u001b[0m             \u001b[0mIf\u001b[0m \u001b[0munits\u001b[0m \u001b[0mare\u001b[0m \u001b[0minconsistent\u001b[0m\u001b[0;34m\u001b[0m\u001b[0m\n\u001b[1;32m    967\u001b[0m         \"\"\"\n\u001b[0;32m--> 968\u001b[0;31m         \u001b[0;32mreturn\u001b[0m \u001b[0mself\u001b[0m\u001b[0;34m.\u001b[0m\u001b[0m_get_converter\u001b[0m\u001b[0;34m(\u001b[0m\u001b[0mother\u001b[0m\u001b[0;34m,\u001b[0m \u001b[0mequivalencies\u001b[0m\u001b[0;34m=\u001b[0m\u001b[0mequivalencies\u001b[0m\u001b[0;34m)\u001b[0m\u001b[0;34m(\u001b[0m\u001b[0mvalue\u001b[0m\u001b[0;34m)\u001b[0m\u001b[0;34m\u001b[0m\u001b[0m\n\u001b[0m\u001b[1;32m    969\u001b[0m \u001b[0;34m\u001b[0m\u001b[0m\n\u001b[1;32m    970\u001b[0m     \u001b[0;32mdef\u001b[0m \u001b[0min_units\u001b[0m\u001b[0;34m(\u001b[0m\u001b[0mself\u001b[0m\u001b[0;34m,\u001b[0m \u001b[0mother\u001b[0m\u001b[0;34m,\u001b[0m \u001b[0mvalue\u001b[0m\u001b[0;34m=\u001b[0m\u001b[0;36m1.0\u001b[0m\u001b[0;34m,\u001b[0m \u001b[0mequivalencies\u001b[0m\u001b[0;34m=\u001b[0m\u001b[0;34m[\u001b[0m\u001b[0;34m]\u001b[0m\u001b[0;34m)\u001b[0m\u001b[0;34m:\u001b[0m\u001b[0;34m\u001b[0m\u001b[0m\n",
        "\u001b[0;32m/Users/jingluo/.local/lib/python2.7/site-packages/astropy-1.1.dev14232-py2.7-macosx-10.5-x86_64.egg/astropy/units/core.pyc\u001b[0m in \u001b[0;36m_get_converter\u001b[0;34m(self, other, equivalencies)\u001b[0m\n\u001b[1;32m    867\u001b[0m         \u001b[0;32mexcept\u001b[0m \u001b[0mUnitsError\u001b[0m\u001b[0;34m:\u001b[0m\u001b[0;34m\u001b[0m\u001b[0m\n\u001b[1;32m    868\u001b[0m             return self._apply_equivalencies(\n\u001b[0;32m--> 869\u001b[0;31m                 self, other, self._normalize_equivalencies(equivalencies))\n\u001b[0m\u001b[1;32m    870\u001b[0m         \u001b[0;32mreturn\u001b[0m \u001b[0;32mlambda\u001b[0m \u001b[0mval\u001b[0m\u001b[0;34m:\u001b[0m \u001b[0mscale\u001b[0m \u001b[0;34m*\u001b[0m \u001b[0m_condition_arg\u001b[0m\u001b[0;34m(\u001b[0m\u001b[0mval\u001b[0m\u001b[0;34m)\u001b[0m\u001b[0;34m\u001b[0m\u001b[0m\n\u001b[1;32m    871\u001b[0m \u001b[0;34m\u001b[0m\u001b[0m\n",
        "\u001b[0;32m/Users/jingluo/.local/lib/python2.7/site-packages/astropy-1.1.dev14232-py2.7-macosx-10.5-x86_64.egg/astropy/units/core.pyc\u001b[0m in \u001b[0;36m_apply_equivalencies\u001b[0;34m(self, unit, other, equivalencies)\u001b[0m\n\u001b[1;32m    858\u001b[0m         raise UnitConversionError(\n\u001b[1;32m    859\u001b[0m             \"{0} and {1} are not convertible\".format(\n\u001b[0;32m--> 860\u001b[0;31m                 unit_str, other_str))\n\u001b[0m\u001b[1;32m    861\u001b[0m \u001b[0;34m\u001b[0m\u001b[0m\n\u001b[1;32m    862\u001b[0m     \u001b[0;32mdef\u001b[0m \u001b[0m_get_converter\u001b[0m\u001b[0;34m(\u001b[0m\u001b[0mself\u001b[0m\u001b[0;34m,\u001b[0m \u001b[0mother\u001b[0m\u001b[0;34m,\u001b[0m \u001b[0mequivalencies\u001b[0m\u001b[0;34m=\u001b[0m\u001b[0;34m[\u001b[0m\u001b[0;34m]\u001b[0m\u001b[0;34m)\u001b[0m\u001b[0;34m:\u001b[0m\u001b[0;34m\u001b[0m\u001b[0m\n",
        "\u001b[0;31mUnitConversionError\u001b[0m: 's' (time) and 'hourangle' (angle) are not convertible"
       ]
      },
      {
       "output_type": "stream",
       "stream": "stdout",
       "text": [
        "RAJ (hourangle) 152:47:19.48332559 +/- 0h00m00s\n"
       ]
      }
     ],
     "prompt_number": 25
    },
    {
     "cell_type": "code",
     "collapsed": false,
     "input": [
      "# Example for RAJ\n",
      "print par\n",
      "par.quantity = 30*u.hour # Here hour is in the unit of time, not hourangle\n",
      "print 'Quantity       ', par.quantity, type(par.quantity)\n",
      "print 'Quantity in deg', par.quantity.to(u.deg)\n",
      "print 'Value          ', par.value\n",
      "print par\n",
      "par.quantity"
     ],
     "language": "python",
     "metadata": {},
     "outputs": [
      {
       "ename": "UnitConversionError",
       "evalue": "'h' (time) and 'hourangle' (angle) are not convertible",
       "output_type": "pyerr",
       "traceback": [
        "\u001b[0;31m---------------------------------------------------------------------------\u001b[0m\n\u001b[0;31mUnitConversionError\u001b[0m                       Traceback (most recent call last)",
        "\u001b[0;32m<ipython-input-26-109ea37be729>\u001b[0m in \u001b[0;36m<module>\u001b[0;34m()\u001b[0m\n\u001b[1;32m      1\u001b[0m \u001b[0;32mprint\u001b[0m \u001b[0mpar\u001b[0m\u001b[0;34m\u001b[0m\u001b[0m\n\u001b[0;32m----> 2\u001b[0;31m \u001b[0mpar\u001b[0m\u001b[0;34m.\u001b[0m\u001b[0mquantity\u001b[0m \u001b[0;34m=\u001b[0m \u001b[0;36m30\u001b[0m\u001b[0;34m*\u001b[0m\u001b[0mu\u001b[0m\u001b[0;34m.\u001b[0m\u001b[0mhour\u001b[0m\u001b[0;34m\u001b[0m\u001b[0m\n\u001b[0m\u001b[1;32m      3\u001b[0m \u001b[0;32mprint\u001b[0m \u001b[0;34m'Quantity       '\u001b[0m\u001b[0;34m,\u001b[0m \u001b[0mpar\u001b[0m\u001b[0;34m.\u001b[0m\u001b[0mquantity\u001b[0m\u001b[0;34m,\u001b[0m \u001b[0mtype\u001b[0m\u001b[0;34m(\u001b[0m\u001b[0mpar\u001b[0m\u001b[0;34m.\u001b[0m\u001b[0mquantity\u001b[0m\u001b[0;34m)\u001b[0m\u001b[0;34m\u001b[0m\u001b[0m\n\u001b[1;32m      4\u001b[0m \u001b[0;32mprint\u001b[0m \u001b[0;34m'Quantity in deg'\u001b[0m\u001b[0;34m,\u001b[0m \u001b[0mpar\u001b[0m\u001b[0;34m.\u001b[0m\u001b[0mquantity\u001b[0m\u001b[0;34m.\u001b[0m\u001b[0mto\u001b[0m\u001b[0;34m(\u001b[0m\u001b[0mu\u001b[0m\u001b[0;34m.\u001b[0m\u001b[0mdeg\u001b[0m\u001b[0;34m)\u001b[0m\u001b[0;34m\u001b[0m\u001b[0m\n\u001b[1;32m      5\u001b[0m \u001b[0;32mprint\u001b[0m \u001b[0;34m'Value          '\u001b[0m\u001b[0;34m,\u001b[0m \u001b[0mpar\u001b[0m\u001b[0;34m.\u001b[0m\u001b[0mvalue\u001b[0m\u001b[0;34m\u001b[0m\u001b[0m\n",
        "\u001b[0;32m/Users/jingluo/Research_codes/PINT/pint/models/parameter.pyc\u001b[0m in \u001b[0;36mquantity\u001b[0;34m(self, val)\u001b[0m\n\u001b[1;32m    159\u001b[0m                 \u001b[0mself\u001b[0m\u001b[0;34m.\u001b[0m\u001b[0m_quantity\u001b[0m \u001b[0;34m=\u001b[0m \u001b[0mval\u001b[0m\u001b[0;34m\u001b[0m\u001b[0m\n\u001b[1;32m    160\u001b[0m                 \u001b[0;32mreturn\u001b[0m\u001b[0;34m\u001b[0m\u001b[0m\n\u001b[0;32m--> 161\u001b[0;31m         \u001b[0mself\u001b[0m\u001b[0;34m.\u001b[0m\u001b[0m_quantity\u001b[0m \u001b[0;34m=\u001b[0m \u001b[0mself\u001b[0m\u001b[0;34m.\u001b[0m\u001b[0mset_quantity\u001b[0m\u001b[0;34m(\u001b[0m\u001b[0mval\u001b[0m\u001b[0;34m)\u001b[0m\u001b[0;34m\u001b[0m\u001b[0m\n\u001b[0m\u001b[1;32m    162\u001b[0m         \u001b[0;31m#self._num_value = self.get_num_value(self._value)\u001b[0m\u001b[0;34m\u001b[0m\u001b[0;34m\u001b[0m\u001b[0m\n\u001b[1;32m    163\u001b[0m \u001b[0;34m\u001b[0m\u001b[0m\n",
        "\u001b[0;32m/Users/jingluo/Research_codes/PINT/pint/models/parameter.pyc\u001b[0m in \u001b[0;36mset_quantity_angle\u001b[0;34m(self, val)\u001b[0m\n\u001b[1;32m    554\u001b[0m                                  ' astropy angle.')\n\u001b[1;32m    555\u001b[0m         \u001b[0;32melif\u001b[0m \u001b[0mhasattr\u001b[0m\u001b[0;34m(\u001b[0m\u001b[0mval\u001b[0m\u001b[0;34m,\u001b[0m \u001b[0;34m'unit'\u001b[0m\u001b[0;34m)\u001b[0m\u001b[0;34m:\u001b[0m\u001b[0;34m\u001b[0m\u001b[0m\n\u001b[0;32m--> 556\u001b[0;31m             \u001b[0mresult\u001b[0m \u001b[0;34m=\u001b[0m \u001b[0mAngle\u001b[0m\u001b[0;34m(\u001b[0m\u001b[0mval\u001b[0m\u001b[0;34m.\u001b[0m\u001b[0mto\u001b[0m\u001b[0;34m(\u001b[0m\u001b[0mself\u001b[0m\u001b[0;34m.\u001b[0m\u001b[0munits\u001b[0m\u001b[0;34m)\u001b[0m\u001b[0;34m)\u001b[0m\u001b[0;34m\u001b[0m\u001b[0m\n\u001b[0m\u001b[1;32m    557\u001b[0m         \u001b[0;32melse\u001b[0m\u001b[0;34m:\u001b[0m\u001b[0;34m\u001b[0m\u001b[0m\n\u001b[1;32m    558\u001b[0m             raise ValueError('Angle parameter can not accept '\n",
        "\u001b[0;32m/Users/jingluo/.local/lib/python2.7/site-packages/astropy-1.1.dev14232-py2.7-macosx-10.5-x86_64.egg/astropy/units/quantity.pyc\u001b[0m in \u001b[0;36mto\u001b[0;34m(self, unit, equivalencies)\u001b[0m\n\u001b[1;32m    631\u001b[0m         \u001b[0munit\u001b[0m \u001b[0;34m=\u001b[0m \u001b[0mUnit\u001b[0m\u001b[0;34m(\u001b[0m\u001b[0munit\u001b[0m\u001b[0;34m)\u001b[0m\u001b[0;34m\u001b[0m\u001b[0m\n\u001b[1;32m    632\u001b[0m         new_val = self.unit.to(unit, self.view(np.ndarray),\n\u001b[0;32m--> 633\u001b[0;31m                                equivalencies=equivalencies)\n\u001b[0m\u001b[1;32m    634\u001b[0m         \u001b[0;32mreturn\u001b[0m \u001b[0mself\u001b[0m\u001b[0;34m.\u001b[0m\u001b[0m_new_view\u001b[0m\u001b[0;34m(\u001b[0m\u001b[0mnew_val\u001b[0m\u001b[0;34m,\u001b[0m \u001b[0munit\u001b[0m\u001b[0;34m)\u001b[0m\u001b[0;34m\u001b[0m\u001b[0m\n\u001b[1;32m    635\u001b[0m \u001b[0;34m\u001b[0m\u001b[0m\n",
        "\u001b[0;32m/Users/jingluo/.local/lib/python2.7/site-packages/astropy-1.1.dev14232-py2.7-macosx-10.5-x86_64.egg/astropy/units/core.pyc\u001b[0m in \u001b[0;36mto\u001b[0;34m(self, other, value, equivalencies)\u001b[0m\n\u001b[1;32m    966\u001b[0m             \u001b[0mIf\u001b[0m \u001b[0munits\u001b[0m \u001b[0mare\u001b[0m \u001b[0minconsistent\u001b[0m\u001b[0;34m\u001b[0m\u001b[0m\n\u001b[1;32m    967\u001b[0m         \"\"\"\n\u001b[0;32m--> 968\u001b[0;31m         \u001b[0;32mreturn\u001b[0m \u001b[0mself\u001b[0m\u001b[0;34m.\u001b[0m\u001b[0m_get_converter\u001b[0m\u001b[0;34m(\u001b[0m\u001b[0mother\u001b[0m\u001b[0;34m,\u001b[0m \u001b[0mequivalencies\u001b[0m\u001b[0;34m=\u001b[0m\u001b[0mequivalencies\u001b[0m\u001b[0;34m)\u001b[0m\u001b[0;34m(\u001b[0m\u001b[0mvalue\u001b[0m\u001b[0;34m)\u001b[0m\u001b[0;34m\u001b[0m\u001b[0m\n\u001b[0m\u001b[1;32m    969\u001b[0m \u001b[0;34m\u001b[0m\u001b[0m\n\u001b[1;32m    970\u001b[0m     \u001b[0;32mdef\u001b[0m \u001b[0min_units\u001b[0m\u001b[0;34m(\u001b[0m\u001b[0mself\u001b[0m\u001b[0;34m,\u001b[0m \u001b[0mother\u001b[0m\u001b[0;34m,\u001b[0m \u001b[0mvalue\u001b[0m\u001b[0;34m=\u001b[0m\u001b[0;36m1.0\u001b[0m\u001b[0;34m,\u001b[0m \u001b[0mequivalencies\u001b[0m\u001b[0;34m=\u001b[0m\u001b[0;34m[\u001b[0m\u001b[0;34m]\u001b[0m\u001b[0;34m)\u001b[0m\u001b[0;34m:\u001b[0m\u001b[0;34m\u001b[0m\u001b[0m\n",
        "\u001b[0;32m/Users/jingluo/.local/lib/python2.7/site-packages/astropy-1.1.dev14232-py2.7-macosx-10.5-x86_64.egg/astropy/units/core.pyc\u001b[0m in \u001b[0;36m_get_converter\u001b[0;34m(self, other, equivalencies)\u001b[0m\n\u001b[1;32m    867\u001b[0m         \u001b[0;32mexcept\u001b[0m \u001b[0mUnitsError\u001b[0m\u001b[0;34m:\u001b[0m\u001b[0;34m\u001b[0m\u001b[0m\n\u001b[1;32m    868\u001b[0m             return self._apply_equivalencies(\n\u001b[0;32m--> 869\u001b[0;31m                 self, other, self._normalize_equivalencies(equivalencies))\n\u001b[0m\u001b[1;32m    870\u001b[0m         \u001b[0;32mreturn\u001b[0m \u001b[0;32mlambda\u001b[0m \u001b[0mval\u001b[0m\u001b[0;34m:\u001b[0m \u001b[0mscale\u001b[0m \u001b[0;34m*\u001b[0m \u001b[0m_condition_arg\u001b[0m\u001b[0;34m(\u001b[0m\u001b[0mval\u001b[0m\u001b[0;34m)\u001b[0m\u001b[0;34m\u001b[0m\u001b[0m\n\u001b[1;32m    871\u001b[0m \u001b[0;34m\u001b[0m\u001b[0m\n",
        "\u001b[0;32m/Users/jingluo/.local/lib/python2.7/site-packages/astropy-1.1.dev14232-py2.7-macosx-10.5-x86_64.egg/astropy/units/core.pyc\u001b[0m in \u001b[0;36m_apply_equivalencies\u001b[0;34m(self, unit, other, equivalencies)\u001b[0m\n\u001b[1;32m    858\u001b[0m         raise UnitConversionError(\n\u001b[1;32m    859\u001b[0m             \"{0} and {1} are not convertible\".format(\n\u001b[0;32m--> 860\u001b[0;31m                 unit_str, other_str))\n\u001b[0m\u001b[1;32m    861\u001b[0m \u001b[0;34m\u001b[0m\u001b[0m\n\u001b[1;32m    862\u001b[0m     \u001b[0;32mdef\u001b[0m \u001b[0m_get_converter\u001b[0m\u001b[0;34m(\u001b[0m\u001b[0mself\u001b[0m\u001b[0;34m,\u001b[0m \u001b[0mother\u001b[0m\u001b[0;34m,\u001b[0m \u001b[0mequivalencies\u001b[0m\u001b[0;34m=\u001b[0m\u001b[0;34m[\u001b[0m\u001b[0;34m]\u001b[0m\u001b[0;34m)\u001b[0m\u001b[0;34m:\u001b[0m\u001b[0;34m\u001b[0m\u001b[0m\n",
        "\u001b[0;31mUnitConversionError\u001b[0m: 'h' (time) and 'hourangle' (angle) are not convertible"
       ]
      },
      {
       "output_type": "stream",
       "stream": "stdout",
       "text": [
        "RAJ (hourangle) 152:47:19.48332559 +/- 0h00m00s\n"
       ]
      }
     ],
     "prompt_number": 26
    },
    {
     "cell_type": "heading",
     "level": 2,
     "metadata": {},
     "source": [
      "Example for uncertainty"
     ]
    },
    {
     "cell_type": "code",
     "collapsed": false,
     "input": [
      "par = model.F0\n"
     ],
     "language": "python",
     "metadata": {},
     "outputs": [],
     "prompt_number": 27
    },
    {
     "cell_type": "code",
     "collapsed": false,
     "input": [
      "# Example for F0\n",
      "print par.uncertainty\n",
      "print par.num_uncertainty\n",
      "par.uncertainty = par.num_uncertainty/1000.0*u.kHz\n",
      "print par\n",
      "print par.uncertainty\n"
     ],
     "language": "python",
     "metadata": {},
     "outputs": [
      {
       "output_type": "stream",
       "stream": "stdout",
       "text": [
        "6.98911818e-12 Hz\n",
        "6.98911818e-12\n",
        "F0 (Hz) 299.9999999999999889 +/- 6.98911818e-12 Hz\n",
        "6.98911818e-15 kHz\n"
       ]
      }
     ],
     "prompt_number": 28
    },
    {
     "cell_type": "code",
     "collapsed": false,
     "input": [
      "# Example for F0\n",
      "par.num_uncertainty = 6e-13\n",
      "print par\n",
      "print par.uncertainty"
     ],
     "language": "python",
     "metadata": {},
     "outputs": [
      {
       "output_type": "stream",
       "stream": "stdout",
       "text": [
        "F0 (Hz) 299.9999999999999889 +/- 6e-13 Hz\n",
        "6e-13 Hz\n"
       ]
      }
     ],
     "prompt_number": 29
    },
    {
     "cell_type": "code",
     "collapsed": false,
     "input": [
      "# Example for F0\n",
      "par.num_uncertainty = 7e-16*u.kHz\n",
      "print par\n",
      "print par.uncertainty"
     ],
     "language": "python",
     "metadata": {},
     "outputs": [
      {
       "output_type": "stream",
       "stream": "stdout",
       "text": [
        "F0 (Hz) 299.9999999999999889 +/- 7e-13 Hz\n",
        "7e-16 kHz\n"
       ]
      }
     ],
     "prompt_number": 31
    },
    {
     "cell_type": "code",
     "collapsed": false,
     "input": [],
     "language": "python",
     "metadata": {},
     "outputs": []
    }
   ],
   "metadata": {}
  }
 ]
}