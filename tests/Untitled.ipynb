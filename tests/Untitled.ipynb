{
 "cells": [
  {
   "cell_type": "code",
   "execution_count": 1,
   "metadata": {},
   "outputs": [],
   "source": [
    "import random\n",
    "from os.path import join"
   ]
  },
  {
   "cell_type": "code",
   "execution_count": 2,
   "metadata": {},
   "outputs": [],
   "source": [
    "import emcee\n",
    "import numpy as np\n",
    "import numpy.random\n",
    "from numpy.testing import assert_array_equal"
   ]
  },
  {
   "cell_type": "code",
   "execution_count": 3,
   "metadata": {},
   "outputs": [],
   "source": [
    "import pint.fermi_toas as fermi\n",
    "import pint.models\n",
    "import pint.toa as toa\n",
    "from pint.mcmc_fitter import MCMCFitter, MCMCFitterBinnedTemplate\n",
    "from pint.sampler import EmceeSampler\n",
    "from pint.scripts.event_optimize import marginalize_over_phase, read_gaussfitfile\n",
    "from pinttestdata import datadir, testdir"
   ]
  },
  {
   "cell_type": "code",
   "execution_count": 4,
   "metadata": {},
   "outputs": [
    {
     "name": "stdout",
     "output_type": "stream",
     "text": [
      "Automatic pdb calling has been turned ON\n"
     ]
    }
   ],
   "source": [
    "%pdb"
   ]
  },
  {
   "cell_type": "code",
   "execution_count": 5,
   "metadata": {},
   "outputs": [],
   "source": [
    "def test_sampler():\n",
    "    r = []\n",
    "    for i in range(2):\n",
    "        random.seed(0)\n",
    "        numpy.random.seed(0)\n",
    "        s = numpy.random.mtrand.RandomState(0)\n",
    "\n",
    "        parfile = join(datadir, \"PSRJ0030+0451_psrcat.par\")\n",
    "        eventfile = join(\n",
    "            datadir,\n",
    "            \"J0030+0451_P8_15.0deg_239557517_458611204_ft1weights_GEO_wt.gt.0.4.fits\",\n",
    "        )\n",
    "        gaussianfile = join(datadir, \"templateJ0030.3gauss\")\n",
    "        weightcol = \"PSRJ0030+0451\"\n",
    "\n",
    "        minWeight = 0.9\n",
    "        nwalkers = 10\n",
    "        nsteps = 1\n",
    "        nbins = 256\n",
    "        phs = 0.0\n",
    "\n",
    "        model = pint.models.get_model(parfile)\n",
    "        tl = fermi.load_Fermi_TOAs(\n",
    "            eventfile, weightcolumn=weightcol, minweight=minWeight\n",
    "        )\n",
    "        ts = toa.TOAs(toalist=tl)\n",
    "        # Introduce a small error so that residuals can be calculated\n",
    "        ts.table[\"error\"] = 1.0\n",
    "        ts.filename = eventfile\n",
    "        ts.compute_TDBs()\n",
    "        ts.compute_posvels(ephem=\"DE421\", planets=False)\n",
    "\n",
    "        weights = np.asarray([x[\"weight\"] for x in ts.table[\"flags\"]])\n",
    "        template = read_gaussfitfile(gaussianfile, nbins)\n",
    "        template /= template.mean()\n",
    "        print(model)\n",
    "        sampler = EmceeSampler(nwalkers)\n",
    "        fitter = MCMCFitterBinnedTemplate(\n",
    "            ts, model, sampler, template=template, weights=weights, phs=phs\n",
    "        )\n",
    "        fitter.sampler.random_state = s\n",
    "\n",
    "        # phases = fitter.get_event_phases()\n",
    "        # maxbin, like_start = marginalize_over_phase(phases, template,\n",
    "        #                                            weights=fitter.weights,\n",
    "        #                                            minimize=True,\n",
    "        #                                            showplot=True)\n",
    "        # fitter.fitvals[-1] = 1.0 - maxbin[0] / float(len(template))\n",
    "\n",
    "        # fitter.set_priors(fitter, 10)\n",
    "        pos = fitter.sampler.get_initial_pos(\n",
    "            fitter.fitkeys,\n",
    "            fitter.fitvals,\n",
    "            fitter.fiterrs,\n",
    "            0.1,\n",
    "            minMJD=fitter.minMJD,\n",
    "            maxMJD=fitter.maxMJD,\n",
    "        )\n",
    "        # pos = fitter.clip_template_params(pos)\n",
    "        fitter.sampler.initialize_sampler(fitter.lnposterior, fitter.n_fit_params)\n",
    "        fitter.sampler.run_mcmc(pos, nsteps)\n",
    "        # fitter.fit_toas(maxiter=nsteps, pos=None)\n",
    "        # fitter.set_parameters(fitter.maxpost_fitvals)\n",
    "\n",
    "        # fitter.phaseogram()\n",
    "        # samples = sampler.sampler.chain[:, 10:, :].reshape((-1, fitter.n_fit_params))\n",
    "\n",
    "        # r.append(np.random.randn())\n",
    "        r.append(sampler.sampler.chain[0])\n",
    "    assert_array_equal(r[0], r[1])"
   ]
  },
  {
   "cell_type": "code",
   "execution_count": 6,
   "metadata": {},
   "outputs": [
    {
     "name": "stdout",
     "output_type": "stream",
     "text": [
      "INFO: TIMESYS TT [pint.fermi_toas]\n",
      "INFO: TIMEREF GEOCENTRIC [pint.fermi_toas]\n",
      "INFO: Building geocentric TOAs, with MJDs in range 54682.840987961186 to 57217.91590582851 [pint.fermi_toas]\n"
     ]
    },
    {
     "name": "stderr",
     "output_type": "stream",
     "text": [
      "WARNING: EPHVER 2 does nothing in PINT [pint.models.timing_model]\n"
     ]
    },
    {
     "name": "stdout",
     "output_type": "stream",
     "text": [
      "INFO: Computing TDB columns. [pint.toa]\n",
      "INFO: Using EPHEM = DE421 for TDB calculation. [pint.toa]\n"
     ]
    },
    {
     "name": "stderr",
     "output_type": "stream",
     "text": [
      "WARNING: No ephemeris provided to TOAs object or compute_TDBs. Using DE421 [pint.toa]\n"
     ]
    },
    {
     "name": "stdout",
     "output_type": "stream",
     "text": [
      "INFO: Computing PosVels of observatories and Earth, using DE421 [pint.toa]\n",
      "INFO: Set solar system ephemeris to link:\n",
      "\thttps://data.nanograv.org/static/data/ephem/de421.bsp [pint.solar_system_ephemerides]\n",
      "PSRJ                           J0030+0451\n",
      "UNITS                                 TDB\n",
      "DILATEFREQ                              N\n",
      "DMDATA                                  N\n",
      "NTOA                                    0\n",
      "CHI2                                  0.0\n",
      "RAJ                      0:30:27.43030000\n",
      "DECJ                     4:51:39.74000000\n",
      "PMRA                                 -5.3\n",
      "PMDEC                                -2.0\n",
      "PX                                    0.0\n",
      "POSEPOCH           52079.0000000000000000\n",
      "F0                       205.530699274922 1 1e-07\n",
      "F1                            -4.2976e-16 1 1e-18\n",
      "PEPOCH             50984.4000000000000000\n",
      "PLANET_SHAPIRO                          N\n",
      "DM                                  4.333\n",
      "DM1                                   0.0\n",
      "TZRMJD             56000.0000000000000000\n",
      "TZRSITE                                 1\n",
      "TZRFRQ                             1400.0\n",
      "\n",
      "INFO: Fit Keys:\t['F0', 'F1'] [pint.mcmc_fitter]\n",
      "INFO: Fit Vals:\t[ 2.05530699e+02 -4.29760000e-16] [pint.mcmc_fitter]\n",
      "INFO: New max: -2416.361732\tCall 1 [pint.mcmc_fitter]\n",
      "INFO: \t      F0:          205.530699274922 [pint.mcmc_fitter]\n",
      "INFO: \t      F1:               -4.2976e-16 [pint.mcmc_fitter]\n",
      "INFO: New max: -1764.634943\tCall 2 [pint.mcmc_fitter]\n",
      "INFO: \t      F0:          205.530699284709 [pint.mcmc_fitter]\n",
      "INFO: \t      F1:      -4.2953591068008e-16 [pint.mcmc_fitter]\n",
      "INFO: New max: -1639.059127\tCall 3 [pint.mcmc_fitter]\n",
      "INFO: \t      F0:          205.530699293598 [pint.mcmc_fitter]\n",
      "INFO: \t      F1:     -4.29857727787988e-16 [pint.mcmc_fitter]\n",
      "INFO: New max: 691.432633\tCall 5 [pint.mcmc_fitter]\n",
      "INFO: \t      F0:           205.53069927389 [pint.mcmc_fitter]\n",
      "INFO: \t      F1:     -4.29718940149806e-16 [pint.mcmc_fitter]\n"
     ]
    },
    {
     "name": "stderr",
     "output_type": "stream",
     "text": [
      "100%|██████████| 1/1 [00:00<00:00,  1.16it/s]\n",
      "WARNING: EPHVER 2 does nothing in PINT [pint.models.timing_model]\n"
     ]
    },
    {
     "name": "stdout",
     "output_type": "stream",
     "text": [
      "INFO: TIMESYS TT [pint.fermi_toas]\n",
      "INFO: TIMEREF GEOCENTRIC [pint.fermi_toas]\n",
      "INFO: Building geocentric TOAs, with MJDs in range 54682.840987961186 to 57217.91590582851 [pint.fermi_toas]\n",
      "INFO: Computing TDB columns. [pint.toa]\n",
      "INFO: Using EPHEM = DE421 for TDB calculation. [pint.toa]\n"
     ]
    },
    {
     "name": "stderr",
     "output_type": "stream",
     "text": [
      "WARNING: No ephemeris provided to TOAs object or compute_TDBs. Using DE421 [pint.toa]\n"
     ]
    },
    {
     "name": "stdout",
     "output_type": "stream",
     "text": [
      "INFO: Computing PosVels of observatories and Earth, using DE421 [pint.toa]\n",
      "PSRJ                           J0030+0451\n",
      "UNITS                                 TDB\n",
      "DILATEFREQ                              N\n",
      "DMDATA                                  N\n",
      "NTOA                                    0\n",
      "CHI2                                  0.0\n",
      "RAJ                      0:30:27.43030000\n",
      "DECJ                     4:51:39.74000000\n",
      "PMRA                                 -5.3\n",
      "PMDEC                                -2.0\n",
      "PX                                    0.0\n",
      "POSEPOCH           52079.0000000000000000\n",
      "F0                       205.530699274922 1 1e-07\n",
      "F1                            -4.2976e-16 1 1e-18\n",
      "PEPOCH             50984.4000000000000000\n",
      "PLANET_SHAPIRO                          N\n",
      "DM                                  4.333\n",
      "DM1                                   0.0\n",
      "TZRMJD             56000.0000000000000000\n",
      "TZRSITE                                 1\n",
      "TZRFRQ                             1400.0\n",
      "\n",
      "INFO: Fit Keys:\t['F0', 'F1'] [pint.mcmc_fitter]\n",
      "INFO: Fit Vals:\t[ 2.05530699e+02 -4.29760000e-16] [pint.mcmc_fitter]\n",
      "INFO: New max: -2416.361732\tCall 1 [pint.mcmc_fitter]\n",
      "INFO: \t      F0:          205.530699274922 [pint.mcmc_fitter]\n",
      "INFO: \t      F1:               -4.2976e-16 [pint.mcmc_fitter]\n",
      "INFO: New max: -1764.634943\tCall 2 [pint.mcmc_fitter]\n",
      "INFO: \t      F0:          205.530699284709 [pint.mcmc_fitter]\n",
      "INFO: \t      F1:      -4.2953591068008e-16 [pint.mcmc_fitter]\n",
      "INFO: New max: -1639.059127\tCall 3 [pint.mcmc_fitter]\n",
      "INFO: \t      F0:          205.530699293598 [pint.mcmc_fitter]\n",
      "INFO: \t      F1:     -4.29857727787988e-16 [pint.mcmc_fitter]\n",
      "INFO: New max: 691.432633\tCall 5 [pint.mcmc_fitter]\n",
      "INFO: \t      F0:           205.53069927389 [pint.mcmc_fitter]\n",
      "INFO: \t      F1:     -4.29718940149806e-16 [pint.mcmc_fitter]\n"
     ]
    },
    {
     "name": "stderr",
     "output_type": "stream",
     "text": [
      "100%|██████████| 1/1 [00:00<00:00,  1.16it/s]\n"
     ]
    }
   ],
   "source": [
    "test_sampler()"
   ]
  },
  {
   "cell_type": "code",
   "execution_count": 7,
   "metadata": {},
   "outputs": [],
   "source": [
    "parfile = join(datadir, \"PSRJ0030+0451_psrcat.par\")\n",
    "eventfile = join(datadir,\"J0030+0451_P8_15.0deg_239557517_458611204_ft1weights_GEO_wt.gt.0.4.fits\",)\n",
    "gaussianfile = join(datadir, \"templateJ0030.3gauss\")\n",
    "weightcol = \"PSRJ0030+0451\""
   ]
  },
  {
   "cell_type": "code",
   "execution_count": 8,
   "metadata": {},
   "outputs": [],
   "source": [
    "minWeight = 0.9\n",
    "nwalkers = 10\n",
    "nsteps = 1\n",
    "nbins = 256\n",
    "phs = 0.0"
   ]
  },
  {
   "cell_type": "code",
   "execution_count": 9,
   "metadata": {},
   "outputs": [
    {
     "name": "stderr",
     "output_type": "stream",
     "text": [
      "WARNING: EPHVER 2 does nothing in PINT [pint.models.timing_model]\n"
     ]
    },
    {
     "name": "stdout",
     "output_type": "stream",
     "text": [
      "INFO: TIMESYS TT [pint.fermi_toas]\n",
      "INFO: TIMEREF GEOCENTRIC [pint.fermi_toas]\n",
      "INFO: Building geocentric TOAs, with MJDs in range 54682.840987961186 to 57217.91590582851 [pint.fermi_toas]\n",
      "INFO: Computing TDB columns. [pint.toa]\n",
      "INFO: Using EPHEM = DE421 for TDB calculation. [pint.toa]\n"
     ]
    },
    {
     "name": "stderr",
     "output_type": "stream",
     "text": [
      "WARNING: No ephemeris provided to TOAs object or compute_TDBs. Using DE421 [pint.toa]\n"
     ]
    },
    {
     "name": "stdout",
     "output_type": "stream",
     "text": [
      "INFO: Computing PosVels of observatories and Earth, using DE421 [pint.toa]\n"
     ]
    }
   ],
   "source": [
    "test_model = pint.models.get_model(parfile)\n",
    "test_tl = fermi.load_Fermi_TOAs(\n",
    "            eventfile, weightcolumn=weightcol, minweight=minWeight\n",
    "        )\n",
    "test_ts = toa.TOAs(toalist=test_tl)\n",
    "# Introduce a small error so that residuals can be calculated\n",
    "test_ts.table[\"error\"] = 1.0\n",
    "test_ts.filename = eventfile\n",
    "test_ts.compute_TDBs()\n",
    "test_ts.compute_posvels(ephem=\"DE421\", planets=False)"
   ]
  },
  {
   "cell_type": "code",
   "execution_count": 10,
   "metadata": {},
   "outputs": [],
   "source": [
    "test_weights = np.asarray([x[\"weight\"] for x in test_ts.table[\"flags\"]])\n",
    "test_template = read_gaussfitfile(gaussianfile, nbins)\n",
    "test_template /= test_template.mean()\n",
    "test_sampler = EmceeSampler(nwalkers)"
   ]
  },
  {
   "cell_type": "code",
   "execution_count": 11,
   "metadata": {},
   "outputs": [
    {
     "name": "stdout",
     "output_type": "stream",
     "text": [
      "INFO: Fit Keys:\t['F0', 'F1'] [pint.mcmc_fitter]\n",
      "INFO: Fit Vals:\t[ 2.05530699e+02 -4.29760000e-16] [pint.mcmc_fitter]\n"
     ]
    }
   ],
   "source": [
    "fitter = MCMCFitterBinnedTemplate(\n",
    "    test_ts, test_model, test_sampler, template=test_template, weights=test_weights, phs=phs\n",
    "    )"
   ]
  },
  {
   "cell_type": "code",
   "execution_count": null,
   "metadata": {},
   "outputs": [],
   "source": []
  }
 ],
 "metadata": {
  "kernelspec": {
   "display_name": "Python 3",
   "language": "python",
   "name": "python3"
  },
  "language_info": {
   "codemirror_mode": {
    "name": "ipython",
    "version": 3
   },
   "file_extension": ".py",
   "mimetype": "text/x-python",
   "name": "python",
   "nbconvert_exporter": "python",
   "pygments_lexer": "ipython3",
   "version": "3.6.9"
  }
 },
 "nbformat": 4,
 "nbformat_minor": 4
}
